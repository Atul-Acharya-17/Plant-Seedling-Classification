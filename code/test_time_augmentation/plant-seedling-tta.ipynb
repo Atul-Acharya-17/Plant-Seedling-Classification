{
 "cells": [
  {
   "cell_type": "code",
   "execution_count": 1,
   "id": "d03c4b12",
   "metadata": {
    "execution": {
     "iopub.execute_input": "2022-04-18T15:10:27.004945Z",
     "iopub.status.busy": "2022-04-18T15:10:27.004589Z",
     "iopub.status.idle": "2022-04-18T15:10:32.894741Z",
     "shell.execute_reply": "2022-04-18T15:10:32.893926Z"
    },
    "papermill": {
     "duration": 5.911437,
     "end_time": "2022-04-18T15:10:32.897113",
     "exception": false,
     "start_time": "2022-04-18T15:10:26.985676",
     "status": "completed"
    },
    "tags": []
   },
   "outputs": [],
   "source": [
    "import numpy as np\n",
    "import pandas as pd\n",
    "import os\n",
    "import cv2\n",
    "import matplotlib.pyplot as plt\n",
    "import seaborn as sb\n",
    "sb.set()\n",
    "\n",
    "import tensorflow as tf\n",
    "from keras.preprocessing.image import ImageDataGenerator\n",
    "from sklearn.metrics import confusion_matrix\n",
    "from sklearn.metrics import ConfusionMatrixDisplay\n",
    "from tqdm import tqdm\n",
    "from keras.preprocessing import image"
   ]
  },
  {
   "cell_type": "code",
   "execution_count": 2,
   "id": "fbba0258",
   "metadata": {
    "execution": {
     "iopub.execute_input": "2022-04-18T15:10:32.930722Z",
     "iopub.status.busy": "2022-04-18T15:10:32.930155Z",
     "iopub.status.idle": "2022-04-18T15:10:32.944161Z",
     "shell.execute_reply": "2022-04-18T15:10:32.943574Z"
    },
    "papermill": {
     "duration": 0.032357,
     "end_time": "2022-04-18T15:10:32.945842",
     "exception": false,
     "start_time": "2022-04-18T15:10:32.913485",
     "status": "completed"
    },
    "tags": []
   },
   "outputs": [],
   "source": [
    "from keras.applications.xception import Xception\n",
    "from keras.applications.xception import preprocess_input as xception_preprocess\n",
    "\n",
    "from keras.applications.inception_resnet_v2 import InceptionResNetV2\n",
    "from keras.applications.inception_resnet_v2 import preprocess_input as inception_resnet_v2_preprocess"
   ]
  },
  {
   "cell_type": "code",
   "execution_count": 3,
   "id": "70881733",
   "metadata": {
    "execution": {
     "iopub.execute_input": "2022-04-18T15:10:32.978962Z",
     "iopub.status.busy": "2022-04-18T15:10:32.978447Z",
     "iopub.status.idle": "2022-04-18T15:10:33.400578Z",
     "shell.execute_reply": "2022-04-18T15:10:33.399868Z"
    },
    "papermill": {
     "duration": 0.441158,
     "end_time": "2022-04-18T15:10:33.403011",
     "exception": false,
     "start_time": "2022-04-18T15:10:32.961853",
     "status": "completed"
    },
    "tags": []
   },
   "outputs": [],
   "source": [
    "from tensorflow.keras.layers import Conv2D, MaxPooling2D, BatchNormalization, GlobalAveragePooling2D\n",
    "from tensorflow.keras.layers import Dense, Dropout, Flatten\n",
    "import tensorflow_addons as tfa"
   ]
  },
  {
   "cell_type": "code",
   "execution_count": 4,
   "id": "8375143c",
   "metadata": {
    "execution": {
     "iopub.execute_input": "2022-04-18T15:10:33.436719Z",
     "iopub.status.busy": "2022-04-18T15:10:33.435990Z",
     "iopub.status.idle": "2022-04-18T15:10:33.440310Z",
     "shell.execute_reply": "2022-04-18T15:10:33.439690Z"
    },
    "papermill": {
     "duration": 0.022597,
     "end_time": "2022-04-18T15:10:33.441965",
     "exception": false,
     "start_time": "2022-04-18T15:10:33.419368",
     "status": "completed"
    },
    "tags": []
   },
   "outputs": [],
   "source": [
    "species_list = [\"Black-grass\", \"Charlock\", \"Cleavers\", \"Common Chickweed\", \"Common wheat\", \"Fat Hen\",\n",
    "                 \"Loose Silky-bent\", \"Maize\", \"Scentless Mayweed\", \"Shepherds Purse\", \"Small-flowered Cranesbill\",\n",
    "                \"Sugar beet\"]"
   ]
  },
  {
   "cell_type": "code",
   "execution_count": 5,
   "id": "94a4953e",
   "metadata": {
    "execution": {
     "iopub.execute_input": "2022-04-18T15:10:33.475124Z",
     "iopub.status.busy": "2022-04-18T15:10:33.474537Z",
     "iopub.status.idle": "2022-04-18T15:10:33.478191Z",
     "shell.execute_reply": "2022-04-18T15:10:33.477406Z"
    },
    "papermill": {
     "duration": 0.022289,
     "end_time": "2022-04-18T15:10:33.480040",
     "exception": false,
     "start_time": "2022-04-18T15:10:33.457751",
     "status": "completed"
    },
    "tags": []
   },
   "outputs": [],
   "source": [
    "width = 299\n",
    "height = 299\n",
    "\n",
    "num_aug = 20"
   ]
  },
  {
   "cell_type": "code",
   "execution_count": 6,
   "id": "082023e9",
   "metadata": {
    "execution": {
     "iopub.execute_input": "2022-04-18T15:10:33.513865Z",
     "iopub.status.busy": "2022-04-18T15:10:33.513317Z",
     "iopub.status.idle": "2022-04-18T15:10:33.517148Z",
     "shell.execute_reply": "2022-04-18T15:10:33.516451Z"
    },
    "papermill": {
     "duration": 0.02224,
     "end_time": "2022-04-18T15:10:33.518958",
     "exception": false,
     "start_time": "2022-04-18T15:10:33.496718",
     "status": "completed"
    },
    "tags": []
   },
   "outputs": [],
   "source": [
    "TTA = {\n",
    "    'xception': False,\n",
    "    'inception_resnet_v2': False,\n",
    "    'efficientnet': False,\n",
    "    'cnn': True,\n",
    "}"
   ]
  },
  {
   "cell_type": "code",
   "execution_count": 7,
   "id": "f9052b4a",
   "metadata": {
    "execution": {
     "iopub.execute_input": "2022-04-18T15:10:33.554424Z",
     "iopub.status.busy": "2022-04-18T15:10:33.553803Z",
     "iopub.status.idle": "2022-04-18T15:10:33.557978Z",
     "shell.execute_reply": "2022-04-18T15:10:33.557267Z"
    },
    "papermill": {
     "duration": 0.023579,
     "end_time": "2022-04-18T15:10:33.559618",
     "exception": false,
     "start_time": "2022-04-18T15:10:33.536039",
     "status": "completed"
    },
    "tags": []
   },
   "outputs": [],
   "source": [
    "# Path to test images\n",
    "test_dir = '../input/plant-seedlings-classification/'\n",
    "test_dir_seg = '../input/plant-seedling-segmented/plant-seedling-segmented/'\n",
    "\n",
    "# Path to saved models\n",
    "model_dir = '../input/plant-seedling-models/'"
   ]
  },
  {
   "cell_type": "code",
   "execution_count": 8,
   "id": "7f1b1a2c",
   "metadata": {
    "execution": {
     "iopub.execute_input": "2022-04-18T15:10:33.594425Z",
     "iopub.status.busy": "2022-04-18T15:10:33.593896Z",
     "iopub.status.idle": "2022-04-18T15:10:33.598185Z",
     "shell.execute_reply": "2022-04-18T15:10:33.597507Z"
    },
    "papermill": {
     "duration": 0.024535,
     "end_time": "2022-04-18T15:10:33.599996",
     "exception": false,
     "start_time": "2022-04-18T15:10:33.575461",
     "status": "completed"
    },
    "tags": []
   },
   "outputs": [],
   "source": [
    "def create_datagen(preprocess_fn):\n",
    "    return ImageDataGenerator(preprocessing_function=preprocess_fn,\n",
    "                             rotation_range=360,\n",
    "                             width_shift_range=0.3,\n",
    "                             height_shift_range=0.3,\n",
    "                             zoom_range=0.3,\n",
    "                             horizontal_flip=True,\n",
    "                             vertical_flip=True\n",
    "                             )"
   ]
  },
  {
   "cell_type": "code",
   "execution_count": 9,
   "id": "e877330f",
   "metadata": {
    "execution": {
     "iopub.execute_input": "2022-04-18T15:10:33.633077Z",
     "iopub.status.busy": "2022-04-18T15:10:33.632899Z",
     "iopub.status.idle": "2022-04-18T15:10:33.640759Z",
     "shell.execute_reply": "2022-04-18T15:10:33.640132Z"
    },
    "papermill": {
     "duration": 0.026523,
     "end_time": "2022-04-18T15:10:33.642358",
     "exception": false,
     "start_time": "2022-04-18T15:10:33.615835",
     "status": "completed"
    },
    "tags": []
   },
   "outputs": [],
   "source": [
    "def create_xception():\n",
    "    model_main = Xception(weights='imagenet', input_shape=(width, height, 3), include_top=False)\n",
    "    layer = model_main.output\n",
    "    layer = GlobalAveragePooling2D(name=\"avg_pool\")(layer)\n",
    "    layer = BatchNormalization()(layer)\n",
    "    \n",
    "    layer = Dropout(0.2, name=\"top_dropout\")(layer)\n",
    "\n",
    "    dropout_1 = tf.keras.layers.Dropout(0.2)(layer)\n",
    "    model_dense2 = tf.keras.layers.Dense(256, activation = 'selu', activity_regularizer=tf.keras.regularizers.l2(1e-5))(dropout_1)\n",
    "    dropout_2 = tf.keras.layers.Dropout(0.2)(model_dense2)\n",
    "    model_dense3 = tf.keras.layers.Dense(128, activation='selu')(dropout_2)\n",
    "    model_out = tf.keras.layers.Dense(12, activation=\"softmax\")(model_dense3)\n",
    "\n",
    "    model = tf.keras.models.Model(model_main.input,  model_out)\n",
    "    optimizer = tf.keras.optimizers.Adam(learning_rate=0.0001, beta_1=0.9, beta_2=0.999)\n",
    "    model.compile(loss=\"categorical_crossentropy\", optimizer=optimizer, metrics=[\"accuracy\"])\n",
    "    return model"
   ]
  },
  {
   "cell_type": "code",
   "execution_count": 10,
   "id": "87f14197",
   "metadata": {
    "execution": {
     "iopub.execute_input": "2022-04-18T15:10:33.674180Z",
     "iopub.status.busy": "2022-04-18T15:10:33.673782Z",
     "iopub.status.idle": "2022-04-18T15:10:33.681680Z",
     "shell.execute_reply": "2022-04-18T15:10:33.681053Z"
    },
    "papermill": {
     "duration": 0.025613,
     "end_time": "2022-04-18T15:10:33.683301",
     "exception": false,
     "start_time": "2022-04-18T15:10:33.657688",
     "status": "completed"
    },
    "tags": []
   },
   "outputs": [],
   "source": [
    "def create_inception_resnet_v2():\n",
    "    model_input = tf.keras.layers.Input(shape=(width, height, 3), name='image_input')\n",
    "    model_main = tf.keras.applications.inception_resnet_v2.InceptionResNetV2(input_shape=(width, height, 3), include_top=False, weights='imagenet')(model_input)\n",
    "            \n",
    "    model_dense1 = GlobalAveragePooling2D(name=\"avg_pool\")(model_main)\n",
    "    model_dense1 = BatchNormalization()(model_dense1)\n",
    "\n",
    "    model_dense2 = tf.keras.layers.Dense(256, activation =  tfa.activations.mish, activity_regularizer=tf.keras.regularizers.l2(1e-5))(model_dense1)\n",
    "    model_dense2 = BatchNormalization()(model_dense2)\n",
    "    dropout_2 = tf.keras.layers.Dropout(0.25)(model_dense2)\n",
    "    model_out = tf.keras.layers.Dense(12, activation=\"softmax\")(dropout_2)\n",
    "\n",
    "    model = tf.keras.models.Model(model_input,  model_out)\n",
    "    optimizer = tf.keras.optimizers.Adam(learning_rate=0.00005, beta_1=0.9, beta_2=0.999)\n",
    "    model.compile(loss=\"categorical_crossentropy\", optimizer=optimizer, metrics=[\"accuracy\"])\n",
    "    return model"
   ]
  },
  {
   "cell_type": "code",
   "execution_count": 11,
   "id": "22299c6c",
   "metadata": {
    "execution": {
     "iopub.execute_input": "2022-04-18T15:10:33.716226Z",
     "iopub.status.busy": "2022-04-18T15:10:33.715711Z",
     "iopub.status.idle": "2022-04-18T15:10:33.724126Z",
     "shell.execute_reply": "2022-04-18T15:10:33.723489Z"
    },
    "papermill": {
     "duration": 0.026472,
     "end_time": "2022-04-18T15:10:33.725697",
     "exception": false,
     "start_time": "2022-04-18T15:10:33.699225",
     "status": "completed"
    },
    "tags": []
   },
   "outputs": [],
   "source": [
    "from tensorflow.keras.layers import Conv2D, MaxPooling2D, BatchNormalization, GlobalAveragePooling2D\n",
    "from tensorflow.keras.layers import Dense, Dropout, Flatten\n",
    "\n",
    "def create_efficientnet():\n",
    "    \n",
    "    model_main = tf.keras.applications.efficientnet.EfficientNetB3(input_shape=(width, height, 3), include_top=False, weights='imagenet')\n",
    "    \n",
    "    layer = model_main.output\n",
    "    layer = GlobalAveragePooling2D(name=\"avg_pool\")(layer)\n",
    "    layer = BatchNormalization()(layer)\n",
    "    layer = Dropout(0.2, name=\"top_dropout\")(layer)\n",
    "\n",
    "    model_dense2 = tf.keras.layers.Dense(256, activation = 'selu', activity_regularizer=tf.keras.regularizers.l2(1e-5))(layer)\n",
    "    model_dense2 = BatchNormalization()(model_dense2)\n",
    "    dropout_2 = tf.keras.layers.Dropout(0.25)(model_dense2)\n",
    "    model_out = tf.keras.layers.Dense(12, activation=\"softmax\")(dropout_2)\n",
    "\n",
    "    model = tf.keras.models.Model(model_main.input,  model_out)\n",
    "    optimizer = tf.keras.optimizers.Adam(lr=0.0001, beta_1=0.9, beta_2=0.999)\n",
    "    model.compile(loss=\"categorical_crossentropy\", optimizer=optimizer, metrics=[\"accuracy\"])\n",
    "    return model"
   ]
  },
  {
   "cell_type": "code",
   "execution_count": 12,
   "id": "5c004047",
   "metadata": {
    "execution": {
     "iopub.execute_input": "2022-04-18T15:10:33.758713Z",
     "iopub.status.busy": "2022-04-18T15:10:33.758189Z",
     "iopub.status.idle": "2022-04-18T15:10:33.765569Z",
     "shell.execute_reply": "2022-04-18T15:10:33.764977Z"
    },
    "papermill": {
     "duration": 0.02567,
     "end_time": "2022-04-18T15:10:33.767185",
     "exception": false,
     "start_time": "2022-04-18T15:10:33.741515",
     "status": "completed"
    },
    "tags": []
   },
   "outputs": [],
   "source": [
    "def tta(model, datagen, num_aug, test_path, submission_name, width=299, height=299):\n",
    "    \n",
    "    submission = pd.DataFrame()\n",
    "\n",
    "    for file in tqdm(os.listdir(test_path)):\n",
    "        img = image.load_img(os.path.join(test_path, file), target_size=(width, height))\n",
    "        x = image.img_to_array(img)\n",
    "        x = np.expand_dims(x, axis=0)\n",
    "        pred = np.zeros([12,])\n",
    "        for i, im in enumerate(datagen.flow(x)):\n",
    "            pred += model.predict(im)[0]\n",
    "            if i >= num_aug:\n",
    "                break\n",
    "        submission = submission.append({'file': file, 'species': species_list[np.where(pred==np.max(pred))[0][0]]}, ignore_index=True)\n",
    "\n",
    "    submission.to_csv(submission_name, index=False)"
   ]
  },
  {
   "cell_type": "code",
   "execution_count": 13,
   "id": "b868ec72",
   "metadata": {
    "execution": {
     "iopub.execute_input": "2022-04-18T15:10:33.799933Z",
     "iopub.status.busy": "2022-04-18T15:10:33.799417Z",
     "iopub.status.idle": "2022-04-18T15:10:33.803291Z",
     "shell.execute_reply": "2022-04-18T15:10:33.802688Z"
    },
    "papermill": {
     "duration": 0.021873,
     "end_time": "2022-04-18T15:10:33.804862",
     "exception": false,
     "start_time": "2022-04-18T15:10:33.782989",
     "status": "completed"
    },
    "tags": []
   },
   "outputs": [],
   "source": [
    "if TTA['xception']:\n",
    "    \n",
    "    datagen = create_datagen(xception_preprocess)\n",
    "    xception = create_xception()\n",
    "    xception.load_weights(f'{model_dir}xception.h5')\n",
    "\n",
    "    tta(xception, datagen, num_aug, f'{test_dir_seg}seg_test/', f'xception_seg_tta_{num_aug}_submission.csv')"
   ]
  },
  {
   "cell_type": "code",
   "execution_count": 14,
   "id": "473e4b11",
   "metadata": {
    "execution": {
     "iopub.execute_input": "2022-04-18T15:10:33.836812Z",
     "iopub.status.busy": "2022-04-18T15:10:33.836491Z",
     "iopub.status.idle": "2022-04-18T15:10:33.840545Z",
     "shell.execute_reply": "2022-04-18T15:10:33.839938Z"
    },
    "papermill": {
     "duration": 0.021841,
     "end_time": "2022-04-18T15:10:33.842150",
     "exception": false,
     "start_time": "2022-04-18T15:10:33.820309",
     "status": "completed"
    },
    "tags": []
   },
   "outputs": [],
   "source": [
    "if TTA['inception_resnet_v2']:\n",
    "\n",
    "    datagen = create_datagen(inception_resnet_v2_preprocess)\n",
    "    \n",
    "    inception_resnet_v2 = create_inception_resnet_v2()\n",
    "    inception_resnet_v2.load_weights(f'{model_dir}inception_resnet_v2.h5')\n",
    "\n",
    "    tta(inception_resnet_v2, datagen, num_aug, f'{test_dir}test/', f'inception_resnet-v2_tta_{num_aug}_submission.csv')"
   ]
  },
  {
   "cell_type": "code",
   "execution_count": 15,
   "id": "9611516c",
   "metadata": {
    "execution": {
     "iopub.execute_input": "2022-04-18T15:10:33.874303Z",
     "iopub.status.busy": "2022-04-18T15:10:33.874122Z",
     "iopub.status.idle": "2022-04-18T15:10:33.878143Z",
     "shell.execute_reply": "2022-04-18T15:10:33.877409Z"
    },
    "papermill": {
     "duration": 0.022078,
     "end_time": "2022-04-18T15:10:33.879890",
     "exception": false,
     "start_time": "2022-04-18T15:10:33.857812",
     "status": "completed"
    },
    "tags": []
   },
   "outputs": [],
   "source": [
    "if TTA['efficientnet']:\n",
    "\n",
    "    datagen = create_datagen(tf.keras.applications.efficientnet.preprocess_input)\n",
    "    \n",
    "    efficientnet = create_efficientnet()\n",
    "    efficientnet.load_weights(f'{model_dir}efficientnetB3_balanced.h5')\n",
    "\n",
    "    tta(efficientnet, datagen, num_aug, f'{test_dir}test/', f'efficientnetB3_tta_{num_aug}_submission.csv')"
   ]
  },
  {
   "cell_type": "code",
   "execution_count": 16,
   "id": "ad37a788",
   "metadata": {
    "execution": {
     "iopub.execute_input": "2022-04-18T15:10:33.912296Z",
     "iopub.status.busy": "2022-04-18T15:10:33.912121Z",
     "iopub.status.idle": "2022-04-18T15:10:33.918783Z",
     "shell.execute_reply": "2022-04-18T15:10:33.918071Z"
    },
    "papermill": {
     "duration": 0.024813,
     "end_time": "2022-04-18T15:10:33.920339",
     "exception": false,
     "start_time": "2022-04-18T15:10:33.895526",
     "status": "completed"
    },
    "tags": []
   },
   "outputs": [],
   "source": [
    "def tta_cnn(model, datagen, num_aug, test_path, submission_name, width=128, height=128):\n",
    "    \n",
    "    submission = pd.DataFrame()\n",
    "\n",
    "    for file in tqdm(os.listdir(test_path)):\n",
    "        image = cv2.imread(os.path.join(test_path, file), cv2.IMREAD_COLOR)\n",
    "        image = cv2.resize(image, (128,128))\n",
    "        image = np.expand_dims(image, axis=0)\n",
    "        pred = np.zeros([12,])\n",
    "        for i, im in enumerate(datagen.flow(image)):\n",
    "            pred += model.predict(im)[0]\n",
    "            if i >= num_aug:\n",
    "                break\n",
    "        submission = submission.append({'file': file, 'species': species_list[np.where(pred==np.max(pred))[0][0]]}, ignore_index=True)\n",
    "\n",
    "    submission.to_csv(submission_name, index=False)"
   ]
  },
  {
   "cell_type": "code",
   "execution_count": 17,
   "id": "34c143b9",
   "metadata": {
    "execution": {
     "iopub.execute_input": "2022-04-18T15:10:33.952144Z",
     "iopub.status.busy": "2022-04-18T15:10:33.951707Z",
     "iopub.status.idle": "2022-04-18T15:22:06.791784Z",
     "shell.execute_reply": "2022-04-18T15:22:06.788619Z"
    },
    "papermill": {
     "duration": 692.858315,
     "end_time": "2022-04-18T15:22:06.793832",
     "exception": false,
     "start_time": "2022-04-18T15:10:33.935517",
     "status": "completed"
    },
    "tags": []
   },
   "outputs": [
    {
     "name": "stderr",
     "output_type": "stream",
     "text": [
      "2022-04-18 15:10:34.087639: I tensorflow/stream_executor/cuda/cuda_gpu_executor.cc:937] successful NUMA node read from SysFS had negative value (-1), but there must be at least one NUMA node, so returning NUMA node zero\n",
      "2022-04-18 15:10:34.202909: I tensorflow/stream_executor/cuda/cuda_gpu_executor.cc:937] successful NUMA node read from SysFS had negative value (-1), but there must be at least one NUMA node, so returning NUMA node zero\n",
      "2022-04-18 15:10:34.203698: I tensorflow/stream_executor/cuda/cuda_gpu_executor.cc:937] successful NUMA node read from SysFS had negative value (-1), but there must be at least one NUMA node, so returning NUMA node zero\n",
      "2022-04-18 15:10:34.204801: I tensorflow/core/platform/cpu_feature_guard.cc:142] This TensorFlow binary is optimized with oneAPI Deep Neural Network Library (oneDNN) to use the following CPU instructions in performance-critical operations:  AVX2 AVX512F FMA\n",
      "To enable them in other operations, rebuild TensorFlow with the appropriate compiler flags.\n",
      "2022-04-18 15:10:34.205101: I tensorflow/stream_executor/cuda/cuda_gpu_executor.cc:937] successful NUMA node read from SysFS had negative value (-1), but there must be at least one NUMA node, so returning NUMA node zero\n",
      "2022-04-18 15:10:34.205810: I tensorflow/stream_executor/cuda/cuda_gpu_executor.cc:937] successful NUMA node read from SysFS had negative value (-1), but there must be at least one NUMA node, so returning NUMA node zero\n",
      "2022-04-18 15:10:34.206441: I tensorflow/stream_executor/cuda/cuda_gpu_executor.cc:937] successful NUMA node read from SysFS had negative value (-1), but there must be at least one NUMA node, so returning NUMA node zero\n",
      "2022-04-18 15:10:36.010593: I tensorflow/stream_executor/cuda/cuda_gpu_executor.cc:937] successful NUMA node read from SysFS had negative value (-1), but there must be at least one NUMA node, so returning NUMA node zero\n",
      "2022-04-18 15:10:36.011423: I tensorflow/stream_executor/cuda/cuda_gpu_executor.cc:937] successful NUMA node read from SysFS had negative value (-1), but there must be at least one NUMA node, so returning NUMA node zero\n",
      "2022-04-18 15:10:36.012129: I tensorflow/stream_executor/cuda/cuda_gpu_executor.cc:937] successful NUMA node read from SysFS had negative value (-1), but there must be at least one NUMA node, so returning NUMA node zero\n",
      "2022-04-18 15:10:36.013649: I tensorflow/core/common_runtime/gpu/gpu_device.cc:1510] Created device /job:localhost/replica:0/task:0/device:GPU:0 with 15403 MB memory:  -> device: 0, name: Tesla P100-PCIE-16GB, pci bus id: 0000:00:04.0, compute capability: 6.0\n",
      "  0%|          | 0/794 [00:00<?, ?it/s]2022-04-18 15:10:37.724067: I tensorflow/compiler/mlir/mlir_graph_optimization_pass.cc:185] None of the MLIR Optimization Passes are enabled (registered 2)\n",
      "2022-04-18 15:10:38.673616: I tensorflow/stream_executor/cuda/cuda_dnn.cc:369] Loaded cuDNN version 8005\n",
      "100%|██████████| 794/794 [11:29<00:00,  1.15it/s]\n"
     ]
    }
   ],
   "source": [
    "if TTA['cnn']:\n",
    "    \n",
    "    from keras.models import load_model\n",
    "    datagen = ImageDataGenerator(\n",
    "                             rotation_range=360,\n",
    "                             width_shift_range=0.3,\n",
    "                             height_shift_range=0.3,\n",
    "                             zoom_range=0.3,\n",
    "                             horizontal_flip=True,\n",
    "                             vertical_flip=True\n",
    "                             )\n",
    "    cnn = load_model(f'{model_dir}cnn.h5')\n",
    "    \n",
    "\n",
    "    tta_cnn(cnn, datagen, num_aug, f'{test_dir}test/', f'cnn_tta_{num_aug}_submission.csv', 128, 128)"
   ]
  },
  {
   "cell_type": "code",
   "execution_count": null,
   "id": "4fd6ccc9",
   "metadata": {
    "papermill": {
     "duration": 0.258051,
     "end_time": "2022-04-18T15:22:07.313356",
     "exception": false,
     "start_time": "2022-04-18T15:22:07.055305",
     "status": "completed"
    },
    "tags": []
   },
   "outputs": [],
   "source": []
  }
 ],
 "metadata": {
  "kernelspec": {
   "display_name": "Python 3",
   "language": "python",
   "name": "python3"
  },
  "language_info": {
   "codemirror_mode": {
    "name": "ipython",
    "version": 3
   },
   "file_extension": ".py",
   "mimetype": "text/x-python",
   "name": "python",
   "nbconvert_exporter": "python",
   "pygments_lexer": "ipython3",
   "version": "3.7.12"
  },
  "papermill": {
   "default_parameters": {},
   "duration": 711.639161,
   "end_time": "2022-04-18T15:22:10.550610",
   "environment_variables": {},
   "exception": null,
   "input_path": "__notebook__.ipynb",
   "output_path": "__notebook__.ipynb",
   "parameters": {},
   "start_time": "2022-04-18T15:10:18.911449",
   "version": "2.3.4"
  }
 },
 "nbformat": 4,
 "nbformat_minor": 5
}
