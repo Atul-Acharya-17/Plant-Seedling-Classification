{
 "cells": [
  {
   "cell_type": "code",
   "execution_count": 1,
   "id": "2db6366f",
   "metadata": {
    "_cell_guid": "b1076dfc-b9ad-4769-8c92-a6c4dae69d19",
    "_uuid": "8f2839f25d086af736a60e9eeb907d3b93b6e0e5",
    "execution": {
     "iopub.execute_input": "2022-04-10T15:43:22.800092Z",
     "iopub.status.busy": "2022-04-10T15:43:22.794565Z",
     "iopub.status.idle": "2022-04-10T15:43:29.454185Z",
     "shell.execute_reply": "2022-04-10T15:43:29.453088Z",
     "shell.execute_reply.started": "2022-04-08T04:03:12.238842Z"
    },
    "papermill": {
     "duration": 6.684682,
     "end_time": "2022-04-10T15:43:29.454398",
     "exception": false,
     "start_time": "2022-04-10T15:43:22.769716",
     "status": "completed"
    },
    "tags": []
   },
   "outputs": [],
   "source": [
    "import numpy as np\n",
    "import pandas as pd\n",
    "import os\n",
    "import tensorflow as tf\n",
    "import matplotlib.pyplot as plt\n",
    "from sklearn.metrics import confusion_matrix\n",
    "from sklearn.metrics import ConfusionMatrixDisplay\n",
    "import tensorflow_addons as tfa"
   ]
  },
  {
   "cell_type": "code",
   "execution_count": 2,
   "id": "8797fc9a",
   "metadata": {
    "execution": {
     "iopub.execute_input": "2022-04-10T15:43:29.501044Z",
     "iopub.status.busy": "2022-04-10T15:43:29.499953Z",
     "iopub.status.idle": "2022-04-10T15:43:29.503052Z",
     "shell.execute_reply": "2022-04-10T15:43:29.502430Z",
     "shell.execute_reply.started": "2022-04-08T04:03:18.09277Z"
    },
    "papermill": {
     "duration": 0.026528,
     "end_time": "2022-04-10T15:43:29.503183",
     "exception": false,
     "start_time": "2022-04-10T15:43:29.476655",
     "status": "completed"
    },
    "tags": []
   },
   "outputs": [],
   "source": [
    "# Path to train images\n",
    "train_dir = '../input/plant-seedlings-classification/train/'\n",
    "train_dir_seg = '../input/plant-seedling-segmented/plant-seedling-segmented/seg_train/'\n",
    "train_dir_large = '../input/plantseedlingslarge/plant-seedlings-large/train-large/'\n",
    "train_dir_seg_large = '../input/plantseedlingslarge/plant-seedlings-large/train-large-seg/'\n",
    "\n",
    "\n",
    "# Path to test images\n",
    "test_dir = '../input/plant-seedlings-classification/'\n",
    "test_dir_seg = '../input/plant-seedling-segmented/plant-seedling-segmented/'"
   ]
  },
  {
   "cell_type": "code",
   "execution_count": 3,
   "id": "b73ea7ca",
   "metadata": {
    "execution": {
     "iopub.execute_input": "2022-04-10T15:43:29.543678Z",
     "iopub.status.busy": "2022-04-10T15:43:29.542494Z",
     "iopub.status.idle": "2022-04-10T15:43:29.545746Z",
     "shell.execute_reply": "2022-04-10T15:43:29.544979Z",
     "shell.execute_reply.started": "2022-04-08T04:03:18.103533Z"
    },
    "papermill": {
     "duration": 0.02521,
     "end_time": "2022-04-10T15:43:29.546034",
     "exception": false,
     "start_time": "2022-04-10T15:43:29.520824",
     "status": "completed"
    },
    "tags": []
   },
   "outputs": [],
   "source": [
    "train = train_dir\n",
    "test = test_dir"
   ]
  },
  {
   "cell_type": "code",
   "execution_count": 4,
   "id": "5cfb94f3",
   "metadata": {
    "execution": {
     "iopub.execute_input": "2022-04-10T15:43:29.586499Z",
     "iopub.status.busy": "2022-04-10T15:43:29.585620Z",
     "iopub.status.idle": "2022-04-10T15:43:29.589075Z",
     "shell.execute_reply": "2022-04-10T15:43:29.588492Z",
     "shell.execute_reply.started": "2022-04-08T04:03:18.116994Z"
    },
    "papermill": {
     "duration": 0.025088,
     "end_time": "2022-04-10T15:43:29.589224",
     "exception": false,
     "start_time": "2022-04-10T15:43:29.564136",
     "status": "completed"
    },
    "tags": []
   },
   "outputs": [],
   "source": [
    "nb_epoch     = 100\n",
    "batch_size   = 16\n",
    "width        = 299\n",
    "height       = 299"
   ]
  },
  {
   "cell_type": "code",
   "execution_count": 5,
   "id": "4846a2a8",
   "metadata": {
    "execution": {
     "iopub.execute_input": "2022-04-10T15:43:29.628701Z",
     "iopub.status.busy": "2022-04-10T15:43:29.627830Z",
     "iopub.status.idle": "2022-04-10T15:43:29.630628Z",
     "shell.execute_reply": "2022-04-10T15:43:29.631426Z",
     "shell.execute_reply.started": "2022-04-08T04:03:18.128143Z"
    },
    "papermill": {
     "duration": 0.025275,
     "end_time": "2022-04-10T15:43:29.631594",
     "exception": false,
     "start_time": "2022-04-10T15:43:29.606319",
     "status": "completed"
    },
    "tags": []
   },
   "outputs": [],
   "source": [
    "species_list = [\"Black-grass\", \"Charlock\", \"Cleavers\", \"Common Chickweed\", \"Common wheat\", \"Fat Hen\",\n",
    "                 \"Loose Silky-bent\", \"Maize\", \"Scentless Mayweed\", \"Shepherds Purse\", \"Small-flowered Cranesbill\",\n",
    "                \"Sugar beet\"]"
   ]
  },
  {
   "cell_type": "code",
   "execution_count": 6,
   "id": "eb7a3110",
   "metadata": {
    "execution": {
     "iopub.execute_input": "2022-04-10T15:43:29.670512Z",
     "iopub.status.busy": "2022-04-10T15:43:29.669456Z",
     "iopub.status.idle": "2022-04-10T15:43:29.680206Z",
     "shell.execute_reply": "2022-04-10T15:43:29.679675Z",
     "shell.execute_reply.started": "2022-04-08T04:03:18.139041Z"
    },
    "papermill": {
     "duration": 0.03149,
     "end_time": "2022-04-10T15:43:29.680332",
     "exception": false,
     "start_time": "2022-04-10T15:43:29.648842",
     "status": "completed"
    },
    "tags": []
   },
   "outputs": [],
   "source": [
    "def define_generators():\n",
    "    train_datagen = tf.keras.preprocessing.image.ImageDataGenerator(\n",
    "        preprocessing_function=tf.keras.applications.inception_resnet_v2.preprocess_input,\n",
    "        rotation_range=360,\n",
    "        width_shift_range=0.3,\n",
    "        height_shift_range=0.3,\n",
    "        shear_range=0.3,\n",
    "        zoom_range=0.5,\n",
    "        vertical_flip=True,\n",
    "        horizontal_flip=True,\n",
    "        validation_split=0.0,\n",
    "    )\n",
    "\n",
    "    train_generator = train_datagen.flow_from_directory(\n",
    "        directory=train,\n",
    "        target_size=(width, height),\n",
    "        batch_size=batch_size,\n",
    "        color_mode='rgb',\n",
    "        class_mode=\"categorical\",\n",
    "        subset='training',\n",
    "    )\n",
    "\n",
    "    validation_generator = train_datagen.flow_from_directory(\n",
    "        directory=train,\n",
    "        target_size=(width, height),\n",
    "        batch_size=batch_size,\n",
    "        color_mode='rgb',\n",
    "        class_mode=\"categorical\",\n",
    "        subset='validation',\n",
    "        shuffle=False\n",
    "    )\n",
    "\n",
    "    test_datagen = tf.keras.preprocessing.image.ImageDataGenerator(\n",
    "        preprocessing_function=tf.keras.applications.inception_resnet_v2.preprocess_input)\n",
    "\n",
    "    test_generator = test_datagen.flow_from_directory(\n",
    "        directory=test,\n",
    "        classes=['test'],\n",
    "        target_size=(width, height),\n",
    "        batch_size=1,\n",
    "        color_mode='rgb',\n",
    "        shuffle=False,\n",
    "        class_mode='categorical')\n",
    "\n",
    "    return train_generator, validation_generator, test_generator"
   ]
  },
  {
   "cell_type": "code",
   "execution_count": 7,
   "id": "70ffa44f",
   "metadata": {
    "execution": {
     "iopub.execute_input": "2022-04-10T15:43:29.723893Z",
     "iopub.status.busy": "2022-04-10T15:43:29.719746Z",
     "iopub.status.idle": "2022-04-10T15:43:29.726902Z",
     "shell.execute_reply": "2022-04-10T15:43:29.726250Z",
     "shell.execute_reply.started": "2022-04-08T04:03:18.152142Z"
    },
    "papermill": {
     "duration": 0.028979,
     "end_time": "2022-04-10T15:43:29.727051",
     "exception": false,
     "start_time": "2022-04-10T15:43:29.698072",
     "status": "completed"
    },
    "tags": []
   },
   "outputs": [],
   "source": [
    "# define appropriate callbacks\n",
    "def training_callbacks():\n",
    "    \n",
    "    # save best model regularly\n",
    "    save_best_model = tf.keras.callbacks.ModelCheckpoint(filepath = 'model.h5',\n",
    "        monitor = 'accuracy', save_best_only = True, verbose = 1)\n",
    "    \n",
    "    # reduce learning rate when it stops decreasing\n",
    "    reduce_lr = tf.keras.callbacks.ReduceLROnPlateau(monitor = 'loss', factor = 0.4,\n",
    "                              patience = 3, min_lr = 1e-10, verbose = 1, cooldown = 1)\n",
    "    \n",
    "    # stop training early if no further improvement\n",
    "    early_stopping = tf.keras.callbacks.EarlyStopping(\n",
    "        monitor = 'loss', min_delta = 1e-2, patience = 15, verbose = 1,\n",
    "        mode = 'min', baseline = None, restore_best_weights = True\n",
    "    )\n",
    "\n",
    "    return save_best_model, reduce_lr, early_stopping\n"
   ]
  },
  {
   "cell_type": "code",
   "execution_count": 8,
   "id": "6b6a9adb",
   "metadata": {
    "execution": {
     "iopub.execute_input": "2022-04-10T15:43:29.774777Z",
     "iopub.status.busy": "2022-04-10T15:43:29.770624Z",
     "iopub.status.idle": "2022-04-10T15:43:29.778021Z",
     "shell.execute_reply": "2022-04-10T15:43:29.777426Z",
     "shell.execute_reply.started": "2022-04-08T04:03:18.166345Z"
    },
    "papermill": {
     "duration": 0.033447,
     "end_time": "2022-04-10T15:43:29.778155",
     "exception": false,
     "start_time": "2022-04-10T15:43:29.744708",
     "status": "completed"
    },
    "tags": []
   },
   "outputs": [],
   "source": [
    "from tensorflow.keras.layers import Conv2D, MaxPooling2D, BatchNormalization, GlobalAveragePooling2D\n",
    "from tensorflow.keras.layers import Dense, Dropout, Flatten\n",
    "import tensorflow_addons as tfa\n",
    "\n",
    "def create_model():\n",
    "    \n",
    "    model_input = tf.keras.layers.Input(shape=(width, height, 3), name='image_input')\n",
    "    model_main = tf.keras.applications.inception_resnet_v2.InceptionResNetV2(input_shape=(width, height, 3), include_top=False, weights='imagenet')(model_input)\n",
    "            \n",
    "    model_dense1 = GlobalAveragePooling2D(name=\"avg_pool\")(model_main)\n",
    "    model_dense1 = BatchNormalization()(model_dense1)\n",
    "\n",
    "    model_dense2 = tf.keras.layers.Dense(256, activation =  tfa.activations.mish, activity_regularizer=tf.keras.regularizers.l2(1e-5))(model_dense1)\n",
    "    model_dense2 = BatchNormalization()(model_dense2)\n",
    "    dropout_2 = tf.keras.layers.Dropout(0.25)(model_dense2)\n",
    "    model_out = tf.keras.layers.Dense(12, activation=\"softmax\")(dropout_2)\n",
    "\n",
    "    model = tf.keras.models.Model(model_input,  model_out)\n",
    "    optimizer = tf.keras.optimizers.Adam(lr=0.00005, beta_1=0.9, beta_2=0.999)\n",
    "    model.compile(loss=\"categorical_crossentropy\", optimizer=optimizer, metrics=[\"accuracy\"])\n",
    "    return model"
   ]
  },
  {
   "cell_type": "code",
   "execution_count": 9,
   "id": "f19a3fc7",
   "metadata": {
    "execution": {
     "iopub.execute_input": "2022-04-10T15:43:29.817106Z",
     "iopub.status.busy": "2022-04-10T15:43:29.815980Z",
     "iopub.status.idle": "2022-04-10T15:43:43.037677Z",
     "shell.execute_reply": "2022-04-10T15:43:43.038591Z",
     "shell.execute_reply.started": "2022-04-08T04:03:18.183173Z"
    },
    "papermill": {
     "duration": 13.243091,
     "end_time": "2022-04-10T15:43:43.038946",
     "exception": false,
     "start_time": "2022-04-10T15:43:29.795855",
     "status": "completed"
    },
    "tags": []
   },
   "outputs": [
    {
     "name": "stderr",
     "output_type": "stream",
     "text": [
      "2022-04-10 15:43:29.922084: I tensorflow/stream_executor/cuda/cuda_gpu_executor.cc:937] successful NUMA node read from SysFS had negative value (-1), but there must be at least one NUMA node, so returning NUMA node zero\n",
      "2022-04-10 15:43:30.072280: I tensorflow/stream_executor/cuda/cuda_gpu_executor.cc:937] successful NUMA node read from SysFS had negative value (-1), but there must be at least one NUMA node, so returning NUMA node zero\n",
      "2022-04-10 15:43:30.073613: I tensorflow/stream_executor/cuda/cuda_gpu_executor.cc:937] successful NUMA node read from SysFS had negative value (-1), but there must be at least one NUMA node, so returning NUMA node zero\n",
      "2022-04-10 15:43:30.075791: I tensorflow/core/platform/cpu_feature_guard.cc:142] This TensorFlow binary is optimized with oneAPI Deep Neural Network Library (oneDNN) to use the following CPU instructions in performance-critical operations:  AVX2 FMA\n",
      "To enable them in other operations, rebuild TensorFlow with the appropriate compiler flags.\n",
      "2022-04-10 15:43:30.077084: I tensorflow/stream_executor/cuda/cuda_gpu_executor.cc:937] successful NUMA node read from SysFS had negative value (-1), but there must be at least one NUMA node, so returning NUMA node zero\n",
      "2022-04-10 15:43:30.078316: I tensorflow/stream_executor/cuda/cuda_gpu_executor.cc:937] successful NUMA node read from SysFS had negative value (-1), but there must be at least one NUMA node, so returning NUMA node zero\n",
      "2022-04-10 15:43:30.079417: I tensorflow/stream_executor/cuda/cuda_gpu_executor.cc:937] successful NUMA node read from SysFS had negative value (-1), but there must be at least one NUMA node, so returning NUMA node zero\n",
      "2022-04-10 15:43:32.232966: I tensorflow/stream_executor/cuda/cuda_gpu_executor.cc:937] successful NUMA node read from SysFS had negative value (-1), but there must be at least one NUMA node, so returning NUMA node zero\n",
      "2022-04-10 15:43:32.234804: I tensorflow/stream_executor/cuda/cuda_gpu_executor.cc:937] successful NUMA node read from SysFS had negative value (-1), but there must be at least one NUMA node, so returning NUMA node zero\n",
      "2022-04-10 15:43:32.236002: I tensorflow/stream_executor/cuda/cuda_gpu_executor.cc:937] successful NUMA node read from SysFS had negative value (-1), but there must be at least one NUMA node, so returning NUMA node zero\n",
      "2022-04-10 15:43:32.236898: I tensorflow/core/common_runtime/gpu/gpu_device.cc:1510] Created device /job:localhost/replica:0/task:0/device:GPU:0 with 15403 MB memory:  -> device: 0, name: Tesla P100-PCIE-16GB, pci bus id: 0000:00:04.0, compute capability: 6.0\n"
     ]
    },
    {
     "name": "stdout",
     "output_type": "stream",
     "text": [
      "Downloading data from https://storage.googleapis.com/tensorflow/keras-applications/inception_resnet_v2/inception_resnet_v2_weights_tf_dim_ordering_tf_kernels_notop.h5\n",
      "219062272/219055592 [==============================] - 2s 0us/step\n",
      "219070464/219055592 [==============================] - 2s 0us/step\n",
      "Model: \"model\"\n",
      "_________________________________________________________________\n",
      "Layer (type)                 Output Shape              Param #   \n",
      "=================================================================\n",
      "image_input (InputLayer)     [(None, 299, 299, 3)]     0         \n",
      "_________________________________________________________________\n",
      "inception_resnet_v2 (Functio (None, 8, 8, 1536)        54336736  \n",
      "_________________________________________________________________\n",
      "avg_pool (GlobalAveragePooli (None, 1536)              0         \n",
      "_________________________________________________________________\n",
      "batch_normalization_203 (Bat (None, 1536)              6144      \n",
      "_________________________________________________________________\n",
      "dense (Dense)                (None, 256)               393472    \n",
      "_________________________________________________________________\n",
      "batch_normalization_204 (Bat (None, 256)               1024      \n",
      "_________________________________________________________________\n",
      "dropout (Dropout)            (None, 256)               0         \n",
      "_________________________________________________________________\n",
      "dense_1 (Dense)              (None, 12)                3084      \n",
      "=================================================================\n",
      "Total params: 54,740,460\n",
      "Trainable params: 54,676,332\n",
      "Non-trainable params: 64,128\n",
      "_________________________________________________________________\n"
     ]
    },
    {
     "name": "stderr",
     "output_type": "stream",
     "text": [
      "/opt/conda/lib/python3.7/site-packages/keras/optimizer_v2/optimizer_v2.py:356: UserWarning: The `lr` argument is deprecated, use `learning_rate` instead.\n",
      "  \"The `lr` argument is deprecated, use `learning_rate` instead.\")\n"
     ]
    }
   ],
   "source": [
    "model = create_model()\n",
    "model.summary()"
   ]
  },
  {
   "cell_type": "code",
   "execution_count": 10,
   "id": "7e25d372",
   "metadata": {
    "execution": {
     "iopub.execute_input": "2022-04-10T15:43:43.123901Z",
     "iopub.status.busy": "2022-04-10T15:43:43.123169Z",
     "iopub.status.idle": "2022-04-10T19:32:02.173649Z",
     "shell.execute_reply": "2022-04-10T19:32:02.174947Z",
     "shell.execute_reply.started": "2022-04-08T04:03:28.092754Z"
    },
    "papermill": {
     "duration": 13699.097081,
     "end_time": "2022-04-10T19:32:02.175202",
     "exception": false,
     "start_time": "2022-04-10T15:43:43.078121",
     "status": "completed"
    },
    "tags": []
   },
   "outputs": [
    {
     "name": "stdout",
     "output_type": "stream",
     "text": [
      "Found 4750 images belonging to 12 classes.\n",
      "Found 0 images belonging to 12 classes.\n",
      "Found 794 images belonging to 1 classes.\n"
     ]
    },
    {
     "name": "stderr",
     "output_type": "stream",
     "text": [
      "2022-04-10 15:43:44.750848: I tensorflow/compiler/mlir/mlir_graph_optimization_pass.cc:185] None of the MLIR Optimization Passes are enabled (registered 2)\n"
     ]
    },
    {
     "name": "stdout",
     "output_type": "stream",
     "text": [
      "Epoch 1/100\n"
     ]
    },
    {
     "name": "stderr",
     "output_type": "stream",
     "text": [
      "2022-04-10 15:44:08.160950: I tensorflow/stream_executor/cuda/cuda_dnn.cc:369] Loaded cuDNN version 8005\n"
     ]
    },
    {
     "name": "stdout",
     "output_type": "stream",
     "text": [
      "296/296 [==============================] - 282s 852ms/step - loss: 1.2512 - accuracy: 0.6113\n",
      "\n",
      "Epoch 00001: accuracy improved from -inf to 0.61132, saving model to model.h5\n",
      "Epoch 2/100\n",
      "296/296 [==============================] - 201s 676ms/step - loss: 0.4600 - accuracy: 0.8483\n",
      "\n",
      "Epoch 00002: accuracy improved from 0.61132 to 0.84833, saving model to model.h5\n",
      "Epoch 3/100\n",
      "296/296 [==============================] - 199s 669ms/step - loss: 0.3366 - accuracy: 0.8895\n",
      "\n",
      "Epoch 00003: accuracy improved from 0.84833 to 0.88952, saving model to model.h5\n",
      "Epoch 4/100\n",
      "296/296 [==============================] - 199s 671ms/step - loss: 0.2865 - accuracy: 0.9045\n",
      "\n",
      "Epoch 00004: accuracy improved from 0.88952 to 0.90452, saving model to model.h5\n",
      "Epoch 5/100\n",
      "296/296 [==============================] - 199s 671ms/step - loss: 0.2354 - accuracy: 0.9221\n",
      "\n",
      "Epoch 00005: accuracy improved from 0.90452 to 0.92205, saving model to model.h5\n",
      "Epoch 6/100\n",
      "296/296 [==============================] - 201s 679ms/step - loss: 0.2134 - accuracy: 0.9269\n",
      "\n",
      "Epoch 00006: accuracy improved from 0.92205 to 0.92691, saving model to model.h5\n",
      "Epoch 7/100\n",
      "296/296 [==============================] - 202s 679ms/step - loss: 0.1826 - accuracy: 0.9351\n",
      "\n",
      "Epoch 00007: accuracy improved from 0.92691 to 0.93515, saving model to model.h5\n",
      "Epoch 8/100\n",
      "296/296 [==============================] - 202s 684ms/step - loss: 0.1743 - accuracy: 0.9419\n",
      "\n",
      "Epoch 00008: accuracy improved from 0.93515 to 0.94191, saving model to model.h5\n",
      "Epoch 9/100\n",
      "296/296 [==============================] - 202s 683ms/step - loss: 0.1559 - accuracy: 0.9499\n",
      "\n",
      "Epoch 00009: accuracy improved from 0.94191 to 0.94994, saving model to model.h5\n",
      "Epoch 10/100\n",
      "296/296 [==============================] - 206s 695ms/step - loss: 0.1581 - accuracy: 0.9470\n",
      "\n",
      "Epoch 00010: accuracy did not improve from 0.94994\n",
      "Epoch 11/100\n",
      "296/296 [==============================] - 205s 690ms/step - loss: 0.1488 - accuracy: 0.9506\n",
      "\n",
      "Epoch 00011: accuracy improved from 0.94994 to 0.95057, saving model to model.h5\n",
      "Epoch 12/100\n",
      "296/296 [==============================] - 201s 678ms/step - loss: 0.1419 - accuracy: 0.9561\n",
      "\n",
      "Epoch 00012: accuracy improved from 0.95057 to 0.95606, saving model to model.h5\n",
      "Epoch 13/100\n",
      "296/296 [==============================] - 202s 681ms/step - loss: 0.1350 - accuracy: 0.9552\n",
      "\n",
      "Epoch 00013: accuracy did not improve from 0.95606\n",
      "Epoch 14/100\n",
      "296/296 [==============================] - 203s 685ms/step - loss: 0.1215 - accuracy: 0.9605\n",
      "\n",
      "Epoch 00014: accuracy improved from 0.95606 to 0.96050, saving model to model.h5\n",
      "Epoch 15/100\n",
      "296/296 [==============================] - 203s 685ms/step - loss: 0.1210 - accuracy: 0.9597\n",
      "\n",
      "Epoch 00015: accuracy did not improve from 0.96050\n",
      "Epoch 16/100\n",
      "296/296 [==============================] - 203s 683ms/step - loss: 0.1181 - accuracy: 0.9632\n",
      "\n",
      "Epoch 00016: accuracy improved from 0.96050 to 0.96324, saving model to model.h5\n",
      "Epoch 17/100\n",
      "296/296 [==============================] - 205s 689ms/step - loss: 0.1126 - accuracy: 0.9637\n",
      "\n",
      "Epoch 00017: accuracy improved from 0.96324 to 0.96367, saving model to model.h5\n",
      "Epoch 18/100\n",
      "296/296 [==============================] - 207s 698ms/step - loss: 0.1169 - accuracy: 0.9613\n",
      "\n",
      "Epoch 00018: accuracy did not improve from 0.96367\n",
      "Epoch 19/100\n",
      "296/296 [==============================] - 211s 709ms/step - loss: 0.1002 - accuracy: 0.9683\n",
      "\n",
      "Epoch 00019: accuracy improved from 0.96367 to 0.96831, saving model to model.h5\n",
      "Epoch 20/100\n",
      "296/296 [==============================] - 208s 699ms/step - loss: 0.1008 - accuracy: 0.9666\n",
      "\n",
      "Epoch 00020: accuracy did not improve from 0.96831\n",
      "Epoch 21/100\n",
      "296/296 [==============================] - 211s 713ms/step - loss: 0.0931 - accuracy: 0.9713\n",
      "\n",
      "Epoch 00021: accuracy improved from 0.96831 to 0.97127, saving model to model.h5\n",
      "Epoch 22/100\n",
      "296/296 [==============================] - 210s 709ms/step - loss: 0.1049 - accuracy: 0.9681\n",
      "\n",
      "Epoch 00022: accuracy did not improve from 0.97127\n",
      "Epoch 23/100\n",
      "296/296 [==============================] - 212s 717ms/step - loss: 0.1039 - accuracy: 0.9679\n",
      "\n",
      "Epoch 00023: accuracy did not improve from 0.97127\n",
      "Epoch 24/100\n",
      "296/296 [==============================] - 213s 719ms/step - loss: 0.1055 - accuracy: 0.9656\n",
      "\n",
      "Epoch 00024: accuracy did not improve from 0.97127\n",
      "\n",
      "Epoch 00024: ReduceLROnPlateau reducing learning rate to 1.9999999494757503e-05.\n",
      "Epoch 25/100\n",
      "296/296 [==============================] - 213s 720ms/step - loss: 0.0688 - accuracy: 0.9823\n",
      "\n",
      "Epoch 00025: accuracy improved from 0.97127 to 0.98226, saving model to model.h5\n",
      "Epoch 26/100\n",
      "296/296 [==============================] - 209s 704ms/step - loss: 0.0620 - accuracy: 0.9808\n",
      "\n",
      "Epoch 00026: accuracy did not improve from 0.98226\n",
      "Epoch 27/100\n",
      "296/296 [==============================] - 206s 696ms/step - loss: 0.0597 - accuracy: 0.9850\n",
      "\n",
      "Epoch 00027: accuracy improved from 0.98226 to 0.98500, saving model to model.h5\n",
      "Epoch 28/100\n",
      "296/296 [==============================] - 210s 709ms/step - loss: 0.0564 - accuracy: 0.9833\n",
      "\n",
      "Epoch 00028: accuracy did not improve from 0.98500\n",
      "Epoch 29/100\n",
      "296/296 [==============================] - 205s 691ms/step - loss: 0.0555 - accuracy: 0.9839\n",
      "\n",
      "Epoch 00029: accuracy did not improve from 0.98500\n",
      "Epoch 30/100\n",
      "296/296 [==============================] - 205s 693ms/step - loss: 0.0478 - accuracy: 0.9842\n",
      "\n",
      "Epoch 00030: accuracy did not improve from 0.98500\n",
      "Epoch 31/100\n",
      "296/296 [==============================] - 209s 706ms/step - loss: 0.0547 - accuracy: 0.9852\n",
      "\n",
      "Epoch 00031: accuracy improved from 0.98500 to 0.98521, saving model to model.h5\n",
      "Epoch 32/100\n",
      "296/296 [==============================] - 207s 700ms/step - loss: 0.0482 - accuracy: 0.9869\n",
      "\n",
      "Epoch 00032: accuracy improved from 0.98521 to 0.98690, saving model to model.h5\n",
      "Epoch 33/100\n",
      "296/296 [==============================] - 208s 701ms/step - loss: 0.0505 - accuracy: 0.9863\n",
      "\n",
      "Epoch 00033: accuracy did not improve from 0.98690\n",
      "\n",
      "Epoch 00033: ReduceLROnPlateau reducing learning rate to 7.999999797903002e-06.\n",
      "Epoch 34/100\n",
      "296/296 [==============================] - 208s 701ms/step - loss: 0.0379 - accuracy: 0.9890\n",
      "\n",
      "Epoch 00034: accuracy improved from 0.98690 to 0.98902, saving model to model.h5\n",
      "Epoch 35/100\n",
      "296/296 [==============================] - 208s 701ms/step - loss: 0.0469 - accuracy: 0.9871\n",
      "\n",
      "Epoch 00035: accuracy did not improve from 0.98902\n",
      "Epoch 36/100\n",
      "296/296 [==============================] - 211s 713ms/step - loss: 0.0450 - accuracy: 0.9877\n",
      "\n",
      "Epoch 00036: accuracy did not improve from 0.98902\n",
      "Epoch 37/100\n",
      "296/296 [==============================] - 210s 708ms/step - loss: 0.0379 - accuracy: 0.9896\n",
      "\n",
      "Epoch 00037: accuracy improved from 0.98902 to 0.98965, saving model to model.h5\n",
      "\n",
      "Epoch 00037: ReduceLROnPlateau reducing learning rate to 3.199999991920777e-06.\n",
      "Epoch 38/100\n",
      "296/296 [==============================] - 211s 711ms/step - loss: 0.0379 - accuracy: 0.9888\n",
      "\n",
      "Epoch 00038: accuracy did not improve from 0.98965\n",
      "Epoch 39/100\n",
      "296/296 [==============================] - 210s 707ms/step - loss: 0.0305 - accuracy: 0.9918\n",
      "\n",
      "Epoch 00039: accuracy improved from 0.98965 to 0.99176, saving model to model.h5\n",
      "Epoch 40/100\n",
      "296/296 [==============================] - 212s 715ms/step - loss: 0.0341 - accuracy: 0.9907\n",
      "\n",
      "Epoch 00040: accuracy did not improve from 0.99176\n",
      "Epoch 41/100\n",
      "296/296 [==============================] - 210s 708ms/step - loss: 0.0354 - accuracy: 0.9909\n",
      "\n",
      "Epoch 00041: accuracy did not improve from 0.99176\n",
      "Epoch 42/100\n",
      "296/296 [==============================] - 211s 710ms/step - loss: 0.0337 - accuracy: 0.9901\n",
      "\n",
      "Epoch 00042: accuracy did not improve from 0.99176\n",
      "\n",
      "Epoch 00042: ReduceLROnPlateau reducing learning rate to 1.2800000149582048e-06.\n",
      "Epoch 43/100\n",
      "296/296 [==============================] - 212s 715ms/step - loss: 0.0275 - accuracy: 0.9937\n",
      "\n",
      "Epoch 00043: accuracy improved from 0.99176 to 0.99366, saving model to model.h5\n",
      "Epoch 44/100\n",
      "296/296 [==============================] - 211s 710ms/step - loss: 0.0267 - accuracy: 0.9939\n",
      "\n",
      "Epoch 00044: accuracy improved from 0.99366 to 0.99387, saving model to model.h5\n",
      "Epoch 45/100\n",
      "296/296 [==============================] - 210s 709ms/step - loss: 0.0339 - accuracy: 0.9909\n",
      "\n",
      "Epoch 00045: accuracy did not improve from 0.99387\n",
      "Epoch 46/100\n",
      "296/296 [==============================] - 211s 713ms/step - loss: 0.0313 - accuracy: 0.9907\n",
      "\n",
      "Epoch 00046: accuracy did not improve from 0.99387\n",
      "Epoch 47/100\n",
      "296/296 [==============================] - 211s 712ms/step - loss: 0.0295 - accuracy: 0.9930\n",
      "\n",
      "Epoch 00047: accuracy did not improve from 0.99387\n",
      "\n",
      "Epoch 00047: ReduceLROnPlateau reducing learning rate to 5.119999968883349e-07.\n",
      "Epoch 48/100\n",
      "296/296 [==============================] - 211s 713ms/step - loss: 0.0286 - accuracy: 0.9930\n",
      "\n",
      "Epoch 00048: accuracy did not improve from 0.99387\n",
      "Epoch 49/100\n",
      "296/296 [==============================] - 212s 716ms/step - loss: 0.0366 - accuracy: 0.9905\n",
      "\n",
      "Epoch 00049: accuracy did not improve from 0.99387\n",
      "Epoch 50/100\n",
      "296/296 [==============================] - 213s 719ms/step - loss: 0.0243 - accuracy: 0.9939\n",
      "\n",
      "Epoch 00050: accuracy did not improve from 0.99387\n",
      "Epoch 51/100\n",
      "296/296 [==============================] - 214s 723ms/step - loss: 0.0274 - accuracy: 0.9924\n",
      "\n",
      "Epoch 00051: accuracy did not improve from 0.99387\n",
      "Epoch 52/100\n",
      "296/296 [==============================] - 214s 721ms/step - loss: 0.0289 - accuracy: 0.9928\n",
      "\n",
      "Epoch 00052: accuracy did not improve from 0.99387\n",
      "Epoch 53/100\n",
      "296/296 [==============================] - 213s 719ms/step - loss: 0.0361 - accuracy: 0.9916\n",
      "\n",
      "Epoch 00053: accuracy did not improve from 0.99387\n",
      "\n",
      "Epoch 00053: ReduceLROnPlateau reducing learning rate to 2.0479999420786044e-07.\n",
      "Epoch 54/100\n",
      "296/296 [==============================] - 214s 720ms/step - loss: 0.0285 - accuracy: 0.9937\n",
      "\n",
      "Epoch 00054: accuracy did not improve from 0.99387\n",
      "Epoch 55/100\n",
      "296/296 [==============================] - 214s 719ms/step - loss: 0.0284 - accuracy: 0.9911\n",
      "\n",
      "Epoch 00055: accuracy did not improve from 0.99387\n",
      "Epoch 56/100\n",
      "296/296 [==============================] - 212s 717ms/step - loss: 0.0286 - accuracy: 0.9926\n",
      "\n",
      "Epoch 00056: accuracy did not improve from 0.99387\n",
      "\n",
      "Epoch 00056: ReduceLROnPlateau reducing learning rate to 8.191999540940742e-08.\n",
      "Epoch 57/100\n",
      "296/296 [==============================] - 203s 685ms/step - loss: 0.0251 - accuracy: 0.9928\n",
      "\n",
      "Epoch 00057: accuracy did not improve from 0.99387\n",
      "Epoch 58/100\n",
      "296/296 [==============================] - 207s 699ms/step - loss: 0.0288 - accuracy: 0.9922\n",
      "\n",
      "Epoch 00058: accuracy did not improve from 0.99387\n",
      "Restoring model weights from the end of the best epoch.\n",
      "Epoch 00058: early stopping\n"
     ]
    }
   ],
   "source": [
    "train_generator, validation_generator, test_generator = define_generators()\n",
    "\n",
    "history = model.fit(\n",
    "    train_generator,\n",
    "    epochs=nb_epoch,\n",
    "    steps_per_epoch=train_generator.samples // batch_size,\n",
    "    validation_data= validation_generator,\n",
    "    validation_steps=validation_generator.samples // batch_size,\n",
    "    callbacks = training_callbacks()\n",
    ")"
   ]
  },
  {
   "cell_type": "code",
   "execution_count": 11,
   "id": "0343ab99",
   "metadata": {
    "execution": {
     "iopub.execute_input": "2022-04-10T19:32:17.728794Z",
     "iopub.status.busy": "2022-04-10T19:32:17.727679Z",
     "iopub.status.idle": "2022-04-10T19:32:17.729952Z",
     "shell.execute_reply": "2022-04-10T19:32:17.730549Z"
    },
    "papermill": {
     "duration": 7.66113,
     "end_time": "2022-04-10T19:32:17.730748",
     "exception": false,
     "start_time": "2022-04-10T19:32:10.069618",
     "status": "completed"
    },
    "tags": []
   },
   "outputs": [],
   "source": [
    "# plt.plot(history.history['loss'], label='train')\n",
    "# #plt.plot(history.history['val_loss'], label = \"validation\")\n",
    "# plt.legend(loc='upper right')\n",
    "# plt.title('Loss')\n",
    "# plt.ylabel('Loss')\n",
    "# plt.xlabel('Epoch')\n",
    "# plt.show()\n",
    "# plt.savefig('Loss.png')"
   ]
  },
  {
   "cell_type": "code",
   "execution_count": 12,
   "id": "65d09111",
   "metadata": {
    "execution": {
     "iopub.execute_input": "2022-04-10T19:32:32.476012Z",
     "iopub.status.busy": "2022-04-10T19:32:32.475031Z",
     "iopub.status.idle": "2022-04-10T19:32:32.477804Z",
     "shell.execute_reply": "2022-04-10T19:32:32.478306Z"
    },
    "papermill": {
     "duration": 7.267572,
     "end_time": "2022-04-10T19:32:32.478547",
     "exception": false,
     "start_time": "2022-04-10T19:32:25.210975",
     "status": "completed"
    },
    "tags": []
   },
   "outputs": [],
   "source": [
    "# plt.plot(history.history['accuracy'], label='train')\n",
    "# #plt.plot(history.history['val_accuracy'], label = \"validation\")\n",
    "# plt.legend(loc='upper left')\n",
    "# plt.title('Model accuracy')\n",
    "# plt.ylabel('Accuracy')\n",
    "# plt.xlabel('Epoch')\n",
    "# plt.show()\n",
    "# plt.savefig('Accuracy.png')"
   ]
  },
  {
   "cell_type": "code",
   "execution_count": 13,
   "id": "ab5d50d1",
   "metadata": {
    "execution": {
     "iopub.execute_input": "2022-04-10T19:32:48.446822Z",
     "iopub.status.busy": "2022-04-10T19:32:48.445791Z",
     "iopub.status.idle": "2022-04-10T19:32:49.505035Z",
     "shell.execute_reply": "2022-04-10T19:32:49.504440Z"
    },
    "papermill": {
     "duration": 8.903174,
     "end_time": "2022-04-10T19:32:49.505238",
     "exception": false,
     "start_time": "2022-04-10T19:32:40.602064",
     "status": "completed"
    },
    "tags": []
   },
   "outputs": [],
   "source": [
    "model.save_weights('inception_resnet_v2.h5')"
   ]
  },
  {
   "cell_type": "code",
   "execution_count": 14,
   "id": "00f5e9d6",
   "metadata": {
    "execution": {
     "iopub.execute_input": "2022-04-10T19:33:04.215900Z",
     "iopub.status.busy": "2022-04-10T19:33:04.213606Z",
     "iopub.status.idle": "2022-04-10T19:33:04.216684Z",
     "shell.execute_reply": "2022-04-10T19:33:04.217286Z"
    },
    "papermill": {
     "duration": 7.256172,
     "end_time": "2022-04-10T19:33:04.217444",
     "exception": false,
     "start_time": "2022-04-10T19:32:56.961272",
     "status": "completed"
    },
    "tags": []
   },
   "outputs": [],
   "source": [
    "# validation_generator.reset() \n",
    "# val_pred = model.predict(validation_generator, steps=validation_generator.samples)\n",
    "# print(val_pred.shape)\n",
    "# y_pred = np.argmax(val_pred, axis = 1)\n",
    "# y_true = validation_generator.classes\n",
    "\n",
    "# cm = confusion_matrix(y_true, y_pred)\n",
    "# disp = ConfusionMatrixDisplay(confusion_matrix=cm, display_labels=species_list)\n",
    "\n",
    "# disp.plot(cmap=plt.cm.Blues)\n",
    "# plt.xticks(rotation=90)\n",
    "# plt.show()"
   ]
  },
  {
   "cell_type": "code",
   "execution_count": 15,
   "id": "a6bd72ac",
   "metadata": {
    "execution": {
     "iopub.execute_input": "2022-04-10T19:33:20.505416Z",
     "iopub.status.busy": "2022-04-10T19:33:20.504419Z",
     "iopub.status.idle": "2022-04-10T19:34:43.125996Z",
     "shell.execute_reply": "2022-04-10T19:34:43.126573Z"
    },
    "papermill": {
     "duration": 90.668522,
     "end_time": "2022-04-10T19:34:43.126794",
     "exception": false,
     "start_time": "2022-04-10T19:33:12.458272",
     "status": "completed"
    },
    "tags": []
   },
   "outputs": [
    {
     "name": "stdout",
     "output_type": "stream",
     "text": [
      "Submission file generated. All done.\n"
     ]
    }
   ],
   "source": [
    "predictions = model.predict(test_generator, steps=test_generator.samples)\n",
    "\n",
    "class_list = []\n",
    "\n",
    "for i in range(0, predictions.shape[0]):\n",
    "    y_class = predictions[i, :].argmax(axis=-1)\n",
    "    class_list += [species_list[y_class]]\n",
    "\n",
    "submission = pd.DataFrame()\n",
    "submission['file'] = test_generator.filenames\n",
    "submission['file'] = submission['file'].str.replace(r'test/', '')\n",
    "submission['species'] = class_list\n",
    "\n",
    "submission.to_csv('inception_resnet_v2_submission.csv', index=False)\n",
    "\n",
    "print('Submission file generated. All done.')"
   ]
  },
  {
   "cell_type": "code",
   "execution_count": null,
   "id": "210634f2",
   "metadata": {
    "papermill": {
     "duration": 7.696129,
     "end_time": "2022-04-10T19:34:58.810259",
     "exception": false,
     "start_time": "2022-04-10T19:34:51.114130",
     "status": "completed"
    },
    "tags": []
   },
   "outputs": [],
   "source": []
  }
 ],
 "metadata": {
  "kernelspec": {
   "display_name": "Python 3",
   "language": "python",
   "name": "python3"
  },
  "language_info": {
   "codemirror_mode": {
    "name": "ipython",
    "version": 3
   },
   "file_extension": ".py",
   "mimetype": "text/x-python",
   "name": "python",
   "nbconvert_exporter": "python",
   "pygments_lexer": "ipython3",
   "version": "3.7.12"
  },
  "papermill": {
   "default_parameters": {},
   "duration": 13916.217401,
   "end_time": "2022-04-10T19:35:09.126869",
   "environment_variables": {},
   "exception": null,
   "input_path": "__notebook__.ipynb",
   "output_path": "__notebook__.ipynb",
   "parameters": {},
   "start_time": "2022-04-10T15:43:12.909468",
   "version": "2.3.3"
  }
 },
 "nbformat": 4,
 "nbformat_minor": 5
}
