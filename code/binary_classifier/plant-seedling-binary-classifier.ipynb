{
 "cells": [
  {
   "cell_type": "code",
   "execution_count": 1,
   "id": "b60170f6",
   "metadata": {
    "execution": {
     "iopub.execute_input": "2022-04-18T16:19:51.645766Z",
     "iopub.status.busy": "2022-04-18T16:19:51.645399Z",
     "iopub.status.idle": "2022-04-18T16:19:57.239226Z",
     "shell.execute_reply": "2022-04-18T16:19:57.238393Z"
    },
    "papermill": {
     "duration": 5.621799,
     "end_time": "2022-04-18T16:19:57.241776",
     "exception": false,
     "start_time": "2022-04-18T16:19:51.619977",
     "status": "completed"
    },
    "tags": []
   },
   "outputs": [],
   "source": [
    "import numpy as np\n",
    "import pandas as pd\n",
    "import os\n",
    "import tensorflow as tf\n",
    "import matplotlib.pyplot as plt\n",
    "from sklearn.metrics import confusion_matrix\n",
    "from sklearn.metrics import ConfusionMatrixDisplay\n",
    "import tensorflow_addons as tfa"
   ]
  },
  {
   "cell_type": "code",
   "execution_count": 2,
   "id": "8970a3fa",
   "metadata": {
    "execution": {
     "iopub.execute_input": "2022-04-18T16:19:57.288959Z",
     "iopub.status.busy": "2022-04-18T16:19:57.288748Z",
     "iopub.status.idle": "2022-04-18T16:19:57.293064Z",
     "shell.execute_reply": "2022-04-18T16:19:57.292285Z"
    },
    "papermill": {
     "duration": 0.029273,
     "end_time": "2022-04-18T16:19:57.294652",
     "exception": false,
     "start_time": "2022-04-18T16:19:57.265379",
     "status": "completed"
    },
    "tags": []
   },
   "outputs": [],
   "source": [
    "# Path to train images\n",
    "train_dir = '../input/plant-seedlings-classification/train/'\n",
    "train_dir_seg = '../input/plant-seedling-segmented/plant-seedling-segmented/seg_train/'\n",
    "train_dir_large = '../input/plant-seedling-large/plant-seedlings-large/train-large/'\n",
    "train_dir_seg_large = '../input/plant-seedling-large/plant-seedlings-large/train-large-seg/'\n",
    "\n",
    "\n",
    "# Path to test images\n",
    "test_dir = '../input/plant-seedlings-classification/'\n",
    "test_dir_seg = '../input/plant-seedling-segmented/plant-seedling-segmented/'\n",
    "\n",
    "model_dir = '../input/plant-seedling-models/'"
   ]
  },
  {
   "cell_type": "code",
   "execution_count": 3,
   "id": "ee639f67",
   "metadata": {
    "execution": {
     "iopub.execute_input": "2022-04-18T16:19:57.340732Z",
     "iopub.status.busy": "2022-04-18T16:19:57.340231Z",
     "iopub.status.idle": "2022-04-18T16:19:57.343973Z",
     "shell.execute_reply": "2022-04-18T16:19:57.342975Z"
    },
    "papermill": {
     "duration": 0.029111,
     "end_time": "2022-04-18T16:19:57.346047",
     "exception": false,
     "start_time": "2022-04-18T16:19:57.316936",
     "status": "completed"
    },
    "tags": []
   },
   "outputs": [],
   "source": [
    "train = train_dir_large\n",
    "test = test_dir"
   ]
  },
  {
   "cell_type": "code",
   "execution_count": 4,
   "id": "bbf0ffc0",
   "metadata": {
    "execution": {
     "iopub.execute_input": "2022-04-18T16:19:57.392583Z",
     "iopub.status.busy": "2022-04-18T16:19:57.391915Z",
     "iopub.status.idle": "2022-04-18T16:19:57.395962Z",
     "shell.execute_reply": "2022-04-18T16:19:57.395339Z"
    },
    "papermill": {
     "duration": 0.028788,
     "end_time": "2022-04-18T16:19:57.397596",
     "exception": false,
     "start_time": "2022-04-18T16:19:57.368808",
     "status": "completed"
    },
    "tags": []
   },
   "outputs": [],
   "source": [
    "phase = 'train'\n",
    "\n",
    "nb_epoch     = 100\n",
    "batch_size   = 16\n",
    "width        = 299\n",
    "height       = 299"
   ]
  },
  {
   "cell_type": "code",
   "execution_count": 5,
   "id": "52210178",
   "metadata": {
    "execution": {
     "iopub.execute_input": "2022-04-18T16:19:57.445157Z",
     "iopub.status.busy": "2022-04-18T16:19:57.444695Z",
     "iopub.status.idle": "2022-04-18T16:19:57.448416Z",
     "shell.execute_reply": "2022-04-18T16:19:57.447796Z"
    },
    "papermill": {
     "duration": 0.030059,
     "end_time": "2022-04-18T16:19:57.450009",
     "exception": false,
     "start_time": "2022-04-18T16:19:57.419950",
     "status": "completed"
    },
    "tags": []
   },
   "outputs": [],
   "source": [
    "species_list = [\"Black-grass\", \"Charlock\", \"Cleavers\", \"Common Chickweed\", \"Common wheat\", \"Fat Hen\",\n",
    "                 \"Loose Silky-bent\", \"Maize\", \"Scentless Mayweed\", \"Shepherds Purse\", \"Small-flowered Cranesbill\",\n",
    "                \"Sugar beet\"]\n",
    "\n",
    "binary_list = [\"Black-grass\", \"Loose Silky-bent\"]"
   ]
  },
  {
   "cell_type": "code",
   "execution_count": 6,
   "id": "241a8e9a",
   "metadata": {
    "execution": {
     "iopub.execute_input": "2022-04-18T16:19:57.496170Z",
     "iopub.status.busy": "2022-04-18T16:19:57.495644Z",
     "iopub.status.idle": "2022-04-18T16:19:57.501184Z",
     "shell.execute_reply": "2022-04-18T16:19:57.500596Z"
    },
    "papermill": {
     "duration": 0.030325,
     "end_time": "2022-04-18T16:19:57.502790",
     "exception": false,
     "start_time": "2022-04-18T16:19:57.472465",
     "status": "completed"
    },
    "tags": []
   },
   "outputs": [],
   "source": [
    "def Create_Directory_DataFrame(basedir, basedir_seg):\n",
    "    df = pd.DataFrame(columns=['Class','Location'])\n",
    "    # basedir\n",
    "    for Class in os.listdir(basedir+'/'):\n",
    "        for location in os.listdir(basedir+'/'+Class+'/'):\n",
    "            df = df.append({'Class':Class,'Location':basedir+'/'+Class+'/'+location, 'Location_seg':basedir_seg+'/'+Class+'/'+location},ignore_index=True)\n",
    "    return df"
   ]
  },
  {
   "cell_type": "code",
   "execution_count": 7,
   "id": "4aacb5e6",
   "metadata": {
    "execution": {
     "iopub.execute_input": "2022-04-18T16:19:57.548581Z",
     "iopub.status.busy": "2022-04-18T16:19:57.548197Z",
     "iopub.status.idle": "2022-04-18T16:20:25.419024Z",
     "shell.execute_reply": "2022-04-18T16:20:25.418309Z"
    },
    "papermill": {
     "duration": 27.89662,
     "end_time": "2022-04-18T16:20:25.421749",
     "exception": false,
     "start_time": "2022-04-18T16:19:57.525129",
     "status": "completed"
    },
    "tags": []
   },
   "outputs": [
    {
     "name": "stdout",
     "output_type": "stream",
     "text": [
      "['Scentless Mayweed' 'Common wheat' 'Charlock' 'Black-grass' 'Sugar beet'\n",
      " 'Loose Silky-bent' 'Maize' 'Cleavers' 'Common Chickweed' 'Fat Hen'\n",
      " 'Small-flowered Cranesbill' 'Shepherds Purse']\n"
     ]
    }
   ],
   "source": [
    "df = Create_Directory_DataFrame(train_dir_large, train_dir_seg_large)\n",
    "print(df['Class'].unique())"
   ]
  },
  {
   "cell_type": "code",
   "execution_count": 8,
   "id": "49a08756",
   "metadata": {
    "execution": {
     "iopub.execute_input": "2022-04-18T16:20:25.469840Z",
     "iopub.status.busy": "2022-04-18T16:20:25.469627Z",
     "iopub.status.idle": "2022-04-18T16:20:25.481413Z",
     "shell.execute_reply": "2022-04-18T16:20:25.480748Z"
    },
    "papermill": {
     "duration": 0.037209,
     "end_time": "2022-04-18T16:20:25.483080",
     "exception": false,
     "start_time": "2022-04-18T16:20:25.445871",
     "status": "completed"
    },
    "tags": []
   },
   "outputs": [
    {
     "name": "stdout",
     "output_type": "stream",
     "text": [
      "['Black-grass' 'Loose Silky-bent']\n"
     ]
    }
   ],
   "source": [
    "binary_df = df[(df['Class']=='Black-grass') | (df['Class']=='Loose Silky-bent')]\n",
    "print(binary_df['Class'].unique())"
   ]
  },
  {
   "cell_type": "code",
   "execution_count": 9,
   "id": "b4a529b7",
   "metadata": {
    "execution": {
     "iopub.execute_input": "2022-04-18T16:20:25.530013Z",
     "iopub.status.busy": "2022-04-18T16:20:25.529823Z",
     "iopub.status.idle": "2022-04-18T16:20:25.542601Z",
     "shell.execute_reply": "2022-04-18T16:20:25.541961Z"
    },
    "papermill": {
     "duration": 0.038314,
     "end_time": "2022-04-18T16:20:25.544224",
     "exception": false,
     "start_time": "2022-04-18T16:20:25.505910",
     "status": "completed"
    },
    "tags": []
   },
   "outputs": [
    {
     "data": {
      "text/html": [
       "<div>\n",
       "<style scoped>\n",
       "    .dataframe tbody tr th:only-of-type {\n",
       "        vertical-align: middle;\n",
       "    }\n",
       "\n",
       "    .dataframe tbody tr th {\n",
       "        vertical-align: top;\n",
       "    }\n",
       "\n",
       "    .dataframe thead th {\n",
       "        text-align: right;\n",
       "    }\n",
       "</style>\n",
       "<table border=\"1\" class=\"dataframe\">\n",
       "  <thead>\n",
       "    <tr style=\"text-align: right;\">\n",
       "      <th></th>\n",
       "      <th>Class</th>\n",
       "      <th>Location</th>\n",
       "      <th>Location_seg</th>\n",
       "    </tr>\n",
       "  </thead>\n",
       "  <tbody>\n",
       "    <tr>\n",
       "      <th>3000</th>\n",
       "      <td>Black-grass</td>\n",
       "      <td>../input/plant-seedling-large/plant-seedlings-...</td>\n",
       "      <td>../input/plant-seedling-large/plant-seedlings-...</td>\n",
       "    </tr>\n",
       "    <tr>\n",
       "      <th>3001</th>\n",
       "      <td>Black-grass</td>\n",
       "      <td>../input/plant-seedling-large/plant-seedlings-...</td>\n",
       "      <td>../input/plant-seedling-large/plant-seedlings-...</td>\n",
       "    </tr>\n",
       "    <tr>\n",
       "      <th>3002</th>\n",
       "      <td>Black-grass</td>\n",
       "      <td>../input/plant-seedling-large/plant-seedlings-...</td>\n",
       "      <td>../input/plant-seedling-large/plant-seedlings-...</td>\n",
       "    </tr>\n",
       "    <tr>\n",
       "      <th>3003</th>\n",
       "      <td>Black-grass</td>\n",
       "      <td>../input/plant-seedling-large/plant-seedlings-...</td>\n",
       "      <td>../input/plant-seedling-large/plant-seedlings-...</td>\n",
       "    </tr>\n",
       "    <tr>\n",
       "      <th>3004</th>\n",
       "      <td>Black-grass</td>\n",
       "      <td>../input/plant-seedling-large/plant-seedlings-...</td>\n",
       "      <td>../input/plant-seedling-large/plant-seedlings-...</td>\n",
       "    </tr>\n",
       "  </tbody>\n",
       "</table>\n",
       "</div>"
      ],
      "text/plain": [
       "            Class                                           Location  \\\n",
       "3000  Black-grass  ../input/plant-seedling-large/plant-seedlings-...   \n",
       "3001  Black-grass  ../input/plant-seedling-large/plant-seedlings-...   \n",
       "3002  Black-grass  ../input/plant-seedling-large/plant-seedlings-...   \n",
       "3003  Black-grass  ../input/plant-seedling-large/plant-seedlings-...   \n",
       "3004  Black-grass  ../input/plant-seedling-large/plant-seedlings-...   \n",
       "\n",
       "                                           Location_seg  \n",
       "3000  ../input/plant-seedling-large/plant-seedlings-...  \n",
       "3001  ../input/plant-seedling-large/plant-seedlings-...  \n",
       "3002  ../input/plant-seedling-large/plant-seedlings-...  \n",
       "3003  ../input/plant-seedling-large/plant-seedlings-...  \n",
       "3004  ../input/plant-seedling-large/plant-seedlings-...  "
      ]
     },
     "execution_count": 9,
     "metadata": {},
     "output_type": "execute_result"
    }
   ],
   "source": [
    "binary_df.head()"
   ]
  },
  {
   "cell_type": "code",
   "execution_count": 10,
   "id": "6305d3cb",
   "metadata": {
    "execution": {
     "iopub.execute_input": "2022-04-18T16:20:25.592274Z",
     "iopub.status.busy": "2022-04-18T16:20:25.591881Z",
     "iopub.status.idle": "2022-04-18T16:20:25.607490Z",
     "shell.execute_reply": "2022-04-18T16:20:25.606833Z"
    },
    "papermill": {
     "duration": 0.041213,
     "end_time": "2022-04-18T16:20:25.609036",
     "exception": false,
     "start_time": "2022-04-18T16:20:25.567823",
     "status": "completed"
    },
    "tags": []
   },
   "outputs": [],
   "source": [
    "from sklearn.model_selection import train_test_split\n",
    "train_df, val_df = train_test_split(binary_df, test_size=0.1)"
   ]
  },
  {
   "cell_type": "code",
   "execution_count": 11,
   "id": "d90c180f",
   "metadata": {
    "execution": {
     "iopub.execute_input": "2022-04-18T16:20:25.656897Z",
     "iopub.status.busy": "2022-04-18T16:20:25.656384Z",
     "iopub.status.idle": "2022-04-18T16:20:25.664473Z",
     "shell.execute_reply": "2022-04-18T16:20:25.663805Z"
    },
    "papermill": {
     "duration": 0.033586,
     "end_time": "2022-04-18T16:20:25.666021",
     "exception": false,
     "start_time": "2022-04-18T16:20:25.632435",
     "status": "completed"
    },
    "tags": []
   },
   "outputs": [],
   "source": [
    "def define_generators():\n",
    "    train_datagen = tf.keras.preprocessing.image.ImageDataGenerator(\n",
    "        preprocessing_function=tf.keras.applications.efficientnet.preprocess_input,\n",
    "        validation_split=0.1,\n",
    "        rotation_range=360,\n",
    "        width_shift_range=0.3,\n",
    "        height_shift_range=0.3,\n",
    "        shear_range=0.3,\n",
    "        zoom_range=0.5,\n",
    "        vertical_flip=True,\n",
    "        horizontal_flip=True\n",
    "    )\n",
    "    \n",
    "    train_generator = train_datagen.flow_from_dataframe(\n",
    "        dataframe = train_df,\n",
    "        x_col=\"Location\",\n",
    "        y_col=\"Class\",\n",
    "        target_size=(width, height),\n",
    "        batch_size=batch_size,\n",
    "        color_mode='rgb',\n",
    "        class_mode=\"binary\",\n",
    "        shuffle=True\n",
    "    )\n",
    "\n",
    "    validation_generator = train_datagen.flow_from_dataframe(\n",
    "        dataframe = val_df,\n",
    "        x_col=\"Location\",\n",
    "        y_col=\"Class\",\n",
    "        target_size=(width, height),\n",
    "        batch_size=batch_size,\n",
    "        color_mode='rgb',\n",
    "        class_mode=\"binary\",\n",
    "        shuffle=False\n",
    "    )\n",
    "\n",
    "    test_datagen = tf.keras.preprocessing.image.ImageDataGenerator(\n",
    "        preprocessing_function=tf.keras.applications.efficientnet.preprocess_input\n",
    "    )\n",
    "\n",
    "    test_generator = test_datagen.flow_from_directory(\n",
    "        directory=test_dir_seg,\n",
    "        classes=['test'],\n",
    "        target_size=(width, height),\n",
    "        batch_size=1,\n",
    "        color_mode='rgb',\n",
    "        shuffle=False,\n",
    "        class_mode='binary')\n",
    "\n",
    "\n",
    "    return train_generator, validation_generator, test_generator"
   ]
  },
  {
   "cell_type": "code",
   "execution_count": 12,
   "id": "0a5e0578",
   "metadata": {
    "execution": {
     "iopub.execute_input": "2022-04-18T16:20:25.713652Z",
     "iopub.status.busy": "2022-04-18T16:20:25.713345Z",
     "iopub.status.idle": "2022-04-18T16:20:25.718796Z",
     "shell.execute_reply": "2022-04-18T16:20:25.718120Z"
    },
    "papermill": {
     "duration": 0.030952,
     "end_time": "2022-04-18T16:20:25.720373",
     "exception": false,
     "start_time": "2022-04-18T16:20:25.689421",
     "status": "completed"
    },
    "tags": []
   },
   "outputs": [],
   "source": [
    "# define appropriate callbacks\n",
    "def training_callbacks():\n",
    "    \n",
    "    # save best model regularly\n",
    "    save_best_model = tf.keras.callbacks.ModelCheckpoint(filepath = 'model.h5',\n",
    "        monitor = 'accuracy', save_best_only = True, verbose = 1)\n",
    "    \n",
    "    # reduce learning rate when it stops decreasing\n",
    "    reduce_lr = tf.keras.callbacks.ReduceLROnPlateau(monitor = 'val_loss', factor = 0.4,\n",
    "                              patience = 3, min_lr = 1e-10, verbose = 1, cooldown = 1)\n",
    "    \n",
    "    # stop training early if no further improvement\n",
    "    early_stopping = tf.keras.callbacks.EarlyStopping(\n",
    "        monitor = 'val_loss', min_delta = 1e-2, patience = 30, verbose = 1,\n",
    "        mode = 'min', baseline = None, restore_best_weights = True\n",
    "    )\n",
    "\n",
    "    return save_best_model, reduce_lr, early_stopping\n"
   ]
  },
  {
   "cell_type": "code",
   "execution_count": 13,
   "id": "01555923",
   "metadata": {
    "execution": {
     "iopub.execute_input": "2022-04-18T16:20:25.768095Z",
     "iopub.status.busy": "2022-04-18T16:20:25.767546Z",
     "iopub.status.idle": "2022-04-18T16:20:25.776491Z",
     "shell.execute_reply": "2022-04-18T16:20:25.775851Z"
    },
    "papermill": {
     "duration": 0.034568,
     "end_time": "2022-04-18T16:20:25.778007",
     "exception": false,
     "start_time": "2022-04-18T16:20:25.743439",
     "status": "completed"
    },
    "tags": []
   },
   "outputs": [],
   "source": [
    "from tensorflow.keras.layers import Conv2D, MaxPooling2D, BatchNormalization, GlobalAveragePooling2D\n",
    "from tensorflow.keras.layers import Dense, Dropout, Flatten\n",
    "import tensorflow_addons as tfa\n",
    "\n",
    "def create_model():\n",
    "    model_input = tf.keras.layers.Input(shape=(width, height, 3), name='image_input')\n",
    "    model_main = tf.keras.applications.efficientnet.EfficientNetB3(input_shape=(width, height, 3), include_top=False, weights='imagenet')(model_input)\n",
    "    layer = model_main\n",
    "    layer = GlobalAveragePooling2D(name=\"avg_pool\")(layer)\n",
    "    layer = BatchNormalization()(layer)\n",
    "    \n",
    "    layer = Dropout(0.2, name=\"top_dropout\")(layer)\n",
    "\n",
    "    model_dense2 = tf.keras.layers.Dense(256, activation = 'selu', activity_regularizer=tf.keras.regularizers.l2(1e-5))(layer)\n",
    "    dropout_2 = tf.keras.layers.Dropout(0.25)(model_dense2)\n",
    "    model_out = tf.keras.layers.Dense(1, activation=\"sigmoid\")(model_dense2)\n",
    "\n",
    "    model = tf.keras.models.Model(model_input,  model_out)\n",
    "    optimizer = tf.keras.optimizers.Adam(learning_rate=0.0001, beta_1=0.9, beta_2=0.999)\n",
    "    model.compile(loss=tf.keras.losses.BinaryCrossentropy(from_logits=False), optimizer=optimizer, metrics=[\"accuracy\"])\n",
    "    return model"
   ]
  },
  {
   "cell_type": "code",
   "execution_count": 14,
   "id": "f9941c3d",
   "metadata": {
    "execution": {
     "iopub.execute_input": "2022-04-18T16:20:25.825717Z",
     "iopub.status.busy": "2022-04-18T16:20:25.825217Z",
     "iopub.status.idle": "2022-04-18T16:20:34.924560Z",
     "shell.execute_reply": "2022-04-18T16:20:34.923750Z"
    },
    "papermill": {
     "duration": 9.125661,
     "end_time": "2022-04-18T16:20:34.926906",
     "exception": false,
     "start_time": "2022-04-18T16:20:25.801245",
     "status": "completed"
    },
    "tags": []
   },
   "outputs": [
    {
     "name": "stderr",
     "output_type": "stream",
     "text": [
      "2022-04-18 16:20:25.924127: I tensorflow/stream_executor/cuda/cuda_gpu_executor.cc:937] successful NUMA node read from SysFS had negative value (-1), but there must be at least one NUMA node, so returning NUMA node zero\n",
      "2022-04-18 16:20:26.053221: I tensorflow/stream_executor/cuda/cuda_gpu_executor.cc:937] successful NUMA node read from SysFS had negative value (-1), but there must be at least one NUMA node, so returning NUMA node zero\n",
      "2022-04-18 16:20:26.053981: I tensorflow/stream_executor/cuda/cuda_gpu_executor.cc:937] successful NUMA node read from SysFS had negative value (-1), but there must be at least one NUMA node, so returning NUMA node zero\n",
      "2022-04-18 16:20:26.055116: I tensorflow/core/platform/cpu_feature_guard.cc:142] This TensorFlow binary is optimized with oneAPI Deep Neural Network Library (oneDNN) to use the following CPU instructions in performance-critical operations:  AVX2 AVX512F FMA\n",
      "To enable them in other operations, rebuild TensorFlow with the appropriate compiler flags.\n",
      "2022-04-18 16:20:26.055439: I tensorflow/stream_executor/cuda/cuda_gpu_executor.cc:937] successful NUMA node read from SysFS had negative value (-1), but there must be at least one NUMA node, so returning NUMA node zero\n",
      "2022-04-18 16:20:26.056127: I tensorflow/stream_executor/cuda/cuda_gpu_executor.cc:937] successful NUMA node read from SysFS had negative value (-1), but there must be at least one NUMA node, so returning NUMA node zero\n",
      "2022-04-18 16:20:26.056746: I tensorflow/stream_executor/cuda/cuda_gpu_executor.cc:937] successful NUMA node read from SysFS had negative value (-1), but there must be at least one NUMA node, so returning NUMA node zero\n",
      "2022-04-18 16:20:27.963364: I tensorflow/stream_executor/cuda/cuda_gpu_executor.cc:937] successful NUMA node read from SysFS had negative value (-1), but there must be at least one NUMA node, so returning NUMA node zero\n",
      "2022-04-18 16:20:27.964222: I tensorflow/stream_executor/cuda/cuda_gpu_executor.cc:937] successful NUMA node read from SysFS had negative value (-1), but there must be at least one NUMA node, so returning NUMA node zero\n",
      "2022-04-18 16:20:27.964885: I tensorflow/stream_executor/cuda/cuda_gpu_executor.cc:937] successful NUMA node read from SysFS had negative value (-1), but there must be at least one NUMA node, so returning NUMA node zero\n",
      "2022-04-18 16:20:27.966306: I tensorflow/core/common_runtime/gpu/gpu_device.cc:1510] Created device /job:localhost/replica:0/task:0/device:GPU:0 with 15403 MB memory:  -> device: 0, name: Tesla P100-PCIE-16GB, pci bus id: 0000:00:04.0, compute capability: 6.0\n"
     ]
    },
    {
     "name": "stdout",
     "output_type": "stream",
     "text": [
      "Downloading data from https://storage.googleapis.com/keras-applications/efficientnetb3_notop.h5\n",
      "43941888/43941136 [==============================] - 2s 0us/step\n",
      "43950080/43941136 [==============================] - 2s 0us/step\n",
      "Model: \"model\"\n",
      "_________________________________________________________________\n",
      "Layer (type)                 Output Shape              Param #   \n",
      "=================================================================\n",
      "image_input (InputLayer)     [(None, 299, 299, 3)]     0         \n",
      "_________________________________________________________________\n",
      "efficientnetb3 (Functional)  (None, 10, 10, 1536)      10783535  \n",
      "_________________________________________________________________\n",
      "avg_pool (GlobalAveragePooli (None, 1536)              0         \n",
      "_________________________________________________________________\n",
      "batch_normalization (BatchNo (None, 1536)              6144      \n",
      "_________________________________________________________________\n",
      "top_dropout (Dropout)        (None, 1536)              0         \n",
      "_________________________________________________________________\n",
      "dense (Dense)                (None, 256)               393472    \n",
      "_________________________________________________________________\n",
      "dense_1 (Dense)              (None, 1)                 257       \n",
      "=================================================================\n",
      "Total params: 11,183,408\n",
      "Trainable params: 11,093,033\n",
      "Non-trainable params: 90,375\n",
      "_________________________________________________________________\n"
     ]
    }
   ],
   "source": [
    "model = create_model()\n",
    "model.summary()"
   ]
  },
  {
   "cell_type": "code",
   "execution_count": 15,
   "id": "05262ffd",
   "metadata": {
    "execution": {
     "iopub.execute_input": "2022-04-18T16:20:34.983780Z",
     "iopub.status.busy": "2022-04-18T16:20:34.983227Z",
     "iopub.status.idle": "2022-04-18T16:20:35.738694Z",
     "shell.execute_reply": "2022-04-18T16:20:35.737922Z"
    },
    "papermill": {
     "duration": 0.785397,
     "end_time": "2022-04-18T16:20:35.740682",
     "exception": false,
     "start_time": "2022-04-18T16:20:34.955285",
     "status": "completed"
    },
    "tags": []
   },
   "outputs": [
    {
     "data": {
      "image/png": "[encoded data removed]",
      "text/plain": [
       "<IPython.core.display.Image object>"
      ]
     },
     "execution_count": 15,
     "metadata": {},
     "output_type": "execute_result"
    }
   ],
   "source": [
    "from keras.utils.vis_utils import plot_model\n",
    "plot_model(model,show_shapes=True)"
   ]
  },
  {
   "cell_type": "code",
   "execution_count": 16,
   "id": "8653c9ea",
   "metadata": {
    "execution": {
     "iopub.execute_input": "2022-04-18T16:20:35.799647Z",
     "iopub.status.busy": "2022-04-18T16:20:35.799428Z",
     "iopub.status.idle": "2022-04-18T17:51:09.702972Z",
     "shell.execute_reply": "2022-04-18T17:51:09.701346Z"
    },
    "papermill": {
     "duration": 5433.935062,
     "end_time": "2022-04-18T17:51:09.704835",
     "exception": false,
     "start_time": "2022-04-18T16:20:35.769773",
     "status": "completed"
    },
    "tags": []
   },
   "outputs": [
    {
     "name": "stdout",
     "output_type": "stream",
     "text": [
      "Found 1800 validated image filenames belonging to 2 classes.\n",
      "Found 200 validated image filenames belonging to 2 classes.\n",
      "Found 0 images belonging to 1 classes.\n"
     ]
    },
    {
     "name": "stderr",
     "output_type": "stream",
     "text": [
      "2022-04-18 16:20:37.542164: I tensorflow/compiler/mlir/mlir_graph_optimization_pass.cc:185] None of the MLIR Optimization Passes are enabled (registered 2)\n"
     ]
    },
    {
     "name": "stdout",
     "output_type": "stream",
     "text": [
      "Epoch 1/100\n"
     ]
    },
    {
     "name": "stderr",
     "output_type": "stream",
     "text": [
      "2022-04-18 16:20:52.009967: I tensorflow/stream_executor/cuda/cuda_dnn.cc:369] Loaded cuDNN version 8005\n"
     ]
    },
    {
     "name": "stdout",
     "output_type": "stream",
     "text": [
      "112/112 [==============================] - 122s 914ms/step - loss: 0.7491 - accuracy: 0.6693 - val_loss: 0.5651 - val_accuracy: 0.7292\n",
      "\n",
      "Epoch 00001: accuracy improved from -inf to 0.66928, saving model to model.h5\n"
     ]
    },
    {
     "name": "stderr",
     "output_type": "stream",
     "text": [
      "/opt/conda/lib/python3.7/site-packages/keras/utils/generic_utils.py:497: CustomMaskWarning: Custom mask layers require a config and must override get_config. When loading, the custom mask layer must be passed to the custom_objects argument.\n",
      "  category=CustomMaskWarning)\n"
     ]
    },
    {
     "name": "stdout",
     "output_type": "stream",
     "text": [
      "Epoch 2/100\n",
      "112/112 [==============================] - 78s 698ms/step - loss: 0.6333 - accuracy: 0.7192 - val_loss: 0.4818 - val_accuracy: 0.7656\n",
      "\n",
      "Epoch 00002: accuracy improved from 0.66928 to 0.71917, saving model to model.h5\n",
      "Epoch 3/100\n",
      "112/112 [==============================] - 79s 703ms/step - loss: 0.5529 - accuracy: 0.7534 - val_loss: 0.3455 - val_accuracy: 0.8438\n",
      "\n",
      "Epoch 00003: accuracy improved from 0.71917 to 0.75336, saving model to model.h5\n",
      "Epoch 4/100\n",
      "112/112 [==============================] - 78s 692ms/step - loss: 0.4922 - accuracy: 0.7876 - val_loss: 0.4836 - val_accuracy: 0.7865\n",
      "\n",
      "Epoch 00004: accuracy improved from 0.75336 to 0.78756, saving model to model.h5\n",
      "Epoch 5/100\n",
      "112/112 [==============================] - 78s 691ms/step - loss: 0.5093 - accuracy: 0.7881 - val_loss: 0.3414 - val_accuracy: 0.8490\n",
      "\n",
      "Epoch 00005: accuracy improved from 0.78756 to 0.78812, saving model to model.h5\n",
      "Epoch 6/100\n",
      "112/112 [==============================] - 79s 700ms/step - loss: 0.4306 - accuracy: 0.8212 - val_loss: 0.3717 - val_accuracy: 0.8698\n",
      "\n",
      "Epoch 00006: accuracy improved from 0.78812 to 0.82119, saving model to model.h5\n",
      "Epoch 7/100\n",
      "112/112 [==============================] - 77s 690ms/step - loss: 0.3951 - accuracy: 0.8313 - val_loss: 0.3295 - val_accuracy: 0.8646\n",
      "\n",
      "Epoch 00007: accuracy improved from 0.82119 to 0.83128, saving model to model.h5\n",
      "Epoch 8/100\n",
      "112/112 [==============================] - 77s 689ms/step - loss: 0.3754 - accuracy: 0.8492 - val_loss: 0.4068 - val_accuracy: 0.8281\n",
      "\n",
      "Epoch 00008: accuracy improved from 0.83128 to 0.84922, saving model to model.h5\n",
      "Epoch 9/100\n",
      "112/112 [==============================] - 78s 693ms/step - loss: 0.3571 - accuracy: 0.8492 - val_loss: 0.3286 - val_accuracy: 0.8698\n",
      "\n",
      "Epoch 00009: accuracy did not improve from 0.84922\n",
      "Epoch 10/100\n",
      "112/112 [==============================] - 77s 691ms/step - loss: 0.3603 - accuracy: 0.8559 - val_loss: 0.2930 - val_accuracy: 0.8594\n",
      "\n",
      "Epoch 00010: accuracy improved from 0.84922 to 0.85594, saving model to model.h5\n",
      "Epoch 11/100\n",
      "112/112 [==============================] - 78s 700ms/step - loss: 0.2978 - accuracy: 0.8756 - val_loss: 0.2465 - val_accuracy: 0.8802\n",
      "\n",
      "Epoch 00011: accuracy improved from 0.85594 to 0.87556, saving model to model.h5\n",
      "Epoch 12/100\n",
      "112/112 [==============================] - 78s 698ms/step - loss: 0.2907 - accuracy: 0.8756 - val_loss: 0.3007 - val_accuracy: 0.9062\n",
      "\n",
      "Epoch 00012: accuracy did not improve from 0.87556\n",
      "Epoch 13/100\n",
      "112/112 [==============================] - 78s 691ms/step - loss: 0.2708 - accuracy: 0.8901 - val_loss: 0.3106 - val_accuracy: 0.8802\n",
      "\n",
      "Epoch 00013: accuracy improved from 0.87556 to 0.89013, saving model to model.h5\n",
      "Epoch 14/100\n",
      "112/112 [==============================] - 80s 709ms/step - loss: 0.2375 - accuracy: 0.9070 - val_loss: 0.3022 - val_accuracy: 0.8854\n",
      "\n",
      "Epoch 00014: accuracy improved from 0.89013 to 0.90695, saving model to model.h5\n",
      "\n",
      "Epoch 00014: ReduceLROnPlateau reducing learning rate to 3.9999998989515007e-05.\n",
      "Epoch 15/100\n",
      "112/112 [==============================] - 78s 694ms/step - loss: 0.2188 - accuracy: 0.9137 - val_loss: 0.1591 - val_accuracy: 0.9219\n",
      "\n",
      "Epoch 00015: accuracy improved from 0.90695 to 0.91368, saving model to model.h5\n",
      "Epoch 16/100\n",
      "112/112 [==============================] - 78s 695ms/step - loss: 0.2144 - accuracy: 0.9070 - val_loss: 0.2296 - val_accuracy: 0.9271\n",
      "\n",
      "Epoch 00016: accuracy did not improve from 0.91368\n",
      "Epoch 17/100\n",
      "112/112 [==============================] - 79s 704ms/step - loss: 0.2296 - accuracy: 0.9159 - val_loss: 0.2860 - val_accuracy: 0.9062\n",
      "\n",
      "Epoch 00017: accuracy improved from 0.91368 to 0.91592, saving model to model.h5\n",
      "Epoch 18/100\n",
      "112/112 [==============================] - 78s 692ms/step - loss: 0.2206 - accuracy: 0.9159 - val_loss: 0.2101 - val_accuracy: 0.9167\n",
      "\n",
      "Epoch 00018: accuracy did not improve from 0.91592\n",
      "\n",
      "Epoch 00018: ReduceLROnPlateau reducing learning rate to 1.5999999595806004e-05.\n",
      "Epoch 19/100\n",
      "112/112 [==============================] - 79s 706ms/step - loss: 0.1873 - accuracy: 0.9226 - val_loss: 0.2506 - val_accuracy: 0.9062\n",
      "\n",
      "Epoch 00019: accuracy improved from 0.91592 to 0.92265, saving model to model.h5\n",
      "Epoch 20/100\n",
      "112/112 [==============================] - 78s 699ms/step - loss: 0.1958 - accuracy: 0.9260 - val_loss: 0.2245 - val_accuracy: 0.9167\n",
      "\n",
      "Epoch 00020: accuracy improved from 0.92265 to 0.92601, saving model to model.h5\n",
      "Epoch 21/100\n",
      "112/112 [==============================] - 79s 706ms/step - loss: 0.1904 - accuracy: 0.9226 - val_loss: 0.2169 - val_accuracy: 0.9115\n",
      "\n",
      "Epoch 00021: accuracy did not improve from 0.92601\n",
      "\n",
      "Epoch 00021: ReduceLROnPlateau reducing learning rate to 6.399999983841554e-06.\n",
      "Epoch 22/100\n",
      "112/112 [==============================] - 78s 699ms/step - loss: 0.1759 - accuracy: 0.9283 - val_loss: 0.2770 - val_accuracy: 0.9062\n",
      "\n",
      "Epoch 00022: accuracy improved from 0.92601 to 0.92825, saving model to model.h5\n",
      "Epoch 23/100\n",
      "112/112 [==============================] - 79s 705ms/step - loss: 0.2019 - accuracy: 0.9215 - val_loss: 0.1990 - val_accuracy: 0.9323\n",
      "\n",
      "Epoch 00023: accuracy did not improve from 0.92825\n",
      "Epoch 24/100\n",
      "112/112 [==============================] - 79s 702ms/step - loss: 0.1958 - accuracy: 0.9215 - val_loss: 0.2101 - val_accuracy: 0.9115\n",
      "\n",
      "Epoch 00024: accuracy did not improve from 0.92825\n",
      "\n",
      "Epoch 00024: ReduceLROnPlateau reducing learning rate to 2.5600000299164097e-06.\n",
      "Epoch 25/100\n",
      "112/112 [==============================] - 79s 705ms/step - loss: 0.1792 - accuracy: 0.9283 - val_loss: 0.2303 - val_accuracy: 0.9167\n",
      "\n",
      "Epoch 00025: accuracy did not improve from 0.92825\n",
      "Epoch 26/100\n",
      "112/112 [==============================] - 79s 700ms/step - loss: 0.1722 - accuracy: 0.9333 - val_loss: 0.2079 - val_accuracy: 0.9375\n",
      "\n",
      "Epoch 00026: accuracy improved from 0.92825 to 0.93330, saving model to model.h5\n",
      "Epoch 27/100\n",
      "112/112 [==============================] - 79s 706ms/step - loss: 0.1740 - accuracy: 0.9333 - val_loss: 0.1742 - val_accuracy: 0.9479\n",
      "\n",
      "Epoch 00027: accuracy did not improve from 0.93330\n",
      "\n",
      "Epoch 00027: ReduceLROnPlateau reducing learning rate to 1.0239999937766699e-06.\n",
      "Epoch 28/100\n",
      "112/112 [==============================] - 79s 700ms/step - loss: 0.1729 - accuracy: 0.9322 - val_loss: 0.2476 - val_accuracy: 0.9010\n",
      "\n",
      "Epoch 00028: accuracy did not improve from 0.93330\n",
      "Epoch 29/100\n",
      "112/112 [==============================] - 80s 712ms/step - loss: 0.1915 - accuracy: 0.9204 - val_loss: 0.1661 - val_accuracy: 0.9427\n",
      "\n",
      "Epoch 00029: accuracy did not improve from 0.93330\n",
      "Epoch 30/100\n",
      "112/112 [==============================] - 80s 710ms/step - loss: 0.1701 - accuracy: 0.9361 - val_loss: 0.1687 - val_accuracy: 0.9271\n",
      "\n",
      "Epoch 00030: accuracy improved from 0.93330 to 0.93610, saving model to model.h5\n",
      "\n",
      "Epoch 00030: ReduceLROnPlateau reducing learning rate to 4.095999884157209e-07.\n",
      "Epoch 31/100\n",
      "112/112 [==============================] - 80s 706ms/step - loss: 0.1912 - accuracy: 0.9260 - val_loss: 0.2165 - val_accuracy: 0.9115\n",
      "\n",
      "Epoch 00031: accuracy did not improve from 0.93610\n",
      "Epoch 32/100\n",
      "112/112 [==============================] - 80s 709ms/step - loss: 0.1722 - accuracy: 0.9367 - val_loss: 0.1418 - val_accuracy: 0.9635\n",
      "\n",
      "Epoch 00032: accuracy improved from 0.93610 to 0.93666, saving model to model.h5\n",
      "Epoch 33/100\n",
      "112/112 [==============================] - 79s 709ms/step - loss: 0.1945 - accuracy: 0.9299 - val_loss: 0.1927 - val_accuracy: 0.9219\n",
      "\n",
      "Epoch 00033: accuracy did not improve from 0.93666\n",
      "Epoch 34/100\n",
      "112/112 [==============================] - 80s 709ms/step - loss: 0.1650 - accuracy: 0.9350 - val_loss: 0.1691 - val_accuracy: 0.9479\n",
      "\n",
      "Epoch 00034: accuracy did not improve from 0.93666\n",
      "Epoch 35/100\n",
      "112/112 [==============================] - 80s 709ms/step - loss: 0.1899 - accuracy: 0.9277 - val_loss: 0.1661 - val_accuracy: 0.9479\n",
      "\n",
      "Epoch 00035: accuracy did not improve from 0.93666\n",
      "\n",
      "Epoch 00035: ReduceLROnPlateau reducing learning rate to 1.6383999081881485e-07.\n",
      "Epoch 36/100\n",
      "112/112 [==============================] - 80s 710ms/step - loss: 0.1694 - accuracy: 0.9311 - val_loss: 0.1858 - val_accuracy: 0.9271\n",
      "\n",
      "Epoch 00036: accuracy did not improve from 0.93666\n",
      "Epoch 37/100\n",
      "112/112 [==============================] - 80s 716ms/step - loss: 0.1894 - accuracy: 0.9215 - val_loss: 0.2242 - val_accuracy: 0.9219\n",
      "\n",
      "Epoch 00037: accuracy did not improve from 0.93666\n",
      "Epoch 38/100\n",
      "112/112 [==============================] - 80s 711ms/step - loss: 0.1726 - accuracy: 0.9322 - val_loss: 0.2326 - val_accuracy: 0.9115\n",
      "\n",
      "Epoch 00038: accuracy did not improve from 0.93666\n",
      "\n",
      "Epoch 00038: ReduceLROnPlateau reducing learning rate to 6.553599405378919e-08.\n",
      "Epoch 39/100\n",
      "112/112 [==============================] - 81s 726ms/step - loss: 0.1758 - accuracy: 0.9311 - val_loss: 0.2181 - val_accuracy: 0.9010\n",
      "\n",
      "Epoch 00039: accuracy did not improve from 0.93666\n",
      "Epoch 40/100\n",
      "112/112 [==============================] - 79s 703ms/step - loss: 0.1702 - accuracy: 0.9333 - val_loss: 0.1648 - val_accuracy: 0.9427\n",
      "\n",
      "Epoch 00040: accuracy did not improve from 0.93666\n",
      "Epoch 41/100\n",
      "112/112 [==============================] - 80s 708ms/step - loss: 0.1821 - accuracy: 0.9361 - val_loss: 0.2127 - val_accuracy: 0.9219\n",
      "\n",
      "Epoch 00041: accuracy did not improve from 0.93666\n",
      "\n",
      "Epoch 00041: ReduceLROnPlateau reducing learning rate to 2.6214397053081487e-08.\n",
      "Epoch 42/100\n",
      "112/112 [==============================] - 80s 709ms/step - loss: 0.1676 - accuracy: 0.9395 - val_loss: 0.2329 - val_accuracy: 0.9010\n",
      "\n",
      "Epoch 00042: accuracy improved from 0.93666 to 0.93946, saving model to model.h5\n",
      "Epoch 43/100\n",
      "112/112 [==============================] - 80s 715ms/step - loss: 0.1809 - accuracy: 0.9271 - val_loss: 0.1915 - val_accuracy: 0.9167\n",
      "\n",
      "Epoch 00043: accuracy did not improve from 0.93946\n",
      "Epoch 44/100\n",
      "112/112 [==============================] - 80s 712ms/step - loss: 0.1645 - accuracy: 0.9322 - val_loss: 0.2365 - val_accuracy: 0.8958\n",
      "\n",
      "Epoch 00044: accuracy did not improve from 0.93946\n",
      "\n",
      "Epoch 00044: ReduceLROnPlateau reducing learning rate to 1.0485759105449689e-08.\n",
      "Epoch 45/100\n",
      "112/112 [==============================] - 80s 709ms/step - loss: 0.1951 - accuracy: 0.9226 - val_loss: 0.1778 - val_accuracy: 0.9271\n",
      "\n",
      "Epoch 00045: accuracy did not improve from 0.93946\n",
      "Epoch 46/100\n",
      "112/112 [==============================] - 81s 723ms/step - loss: 0.1458 - accuracy: 0.9434 - val_loss: 0.2452 - val_accuracy: 0.9115\n",
      "\n",
      "Epoch 00046: accuracy improved from 0.93946 to 0.94339, saving model to model.h5\n",
      "Epoch 47/100\n",
      "112/112 [==============================] - 81s 715ms/step - loss: 0.1926 - accuracy: 0.9159 - val_loss: 0.2281 - val_accuracy: 0.9010\n",
      "\n",
      "Epoch 00047: accuracy did not improve from 0.94339\n",
      "\n",
      "Epoch 00047: ReduceLROnPlateau reducing learning rate to 4.194303571125602e-09.\n",
      "Epoch 48/100\n",
      "112/112 [==============================] - 80s 713ms/step - loss: 0.1692 - accuracy: 0.9389 - val_loss: 0.1974 - val_accuracy: 0.9271\n",
      "\n",
      "Epoch 00048: accuracy did not improve from 0.94339\n",
      "Epoch 49/100\n",
      "112/112 [==============================] - 82s 729ms/step - loss: 0.1909 - accuracy: 0.9176 - val_loss: 0.1981 - val_accuracy: 0.9271\n",
      "\n",
      "Epoch 00049: accuracy did not improve from 0.94339\n",
      "Epoch 50/100\n",
      "112/112 [==============================] - 81s 719ms/step - loss: 0.1815 - accuracy: 0.9299 - val_loss: 0.2013 - val_accuracy: 0.9062\n",
      "\n",
      "Epoch 00050: accuracy did not improve from 0.94339\n",
      "\n",
      "Epoch 00050: ReduceLROnPlateau reducing learning rate to 1.6777214284502408e-09.\n",
      "Epoch 51/100\n",
      "112/112 [==============================] - 81s 722ms/step - loss: 0.1899 - accuracy: 0.9243 - val_loss: 0.1897 - val_accuracy: 0.9427\n",
      "\n",
      "Epoch 00051: accuracy did not improve from 0.94339\n",
      "Epoch 52/100\n",
      "112/112 [==============================] - 82s 731ms/step - loss: 0.1752 - accuracy: 0.9339 - val_loss: 0.2224 - val_accuracy: 0.9271\n",
      "\n",
      "Epoch 00052: accuracy did not improve from 0.94339\n",
      "Epoch 53/100\n",
      "112/112 [==============================] - 81s 721ms/step - loss: 0.1819 - accuracy: 0.9294 - val_loss: 0.1746 - val_accuracy: 0.9219\n",
      "\n",
      "Epoch 00053: accuracy did not improve from 0.94339\n",
      "\n",
      "Epoch 00053: ReduceLROnPlateau reducing learning rate to 6.710885624983121e-10.\n",
      "Epoch 54/100\n",
      "112/112 [==============================] - 83s 735ms/step - loss: 0.1816 - accuracy: 0.9305 - val_loss: 0.2148 - val_accuracy: 0.9062\n",
      "\n",
      "Epoch 00054: accuracy did not improve from 0.94339\n",
      "Epoch 55/100\n",
      "112/112 [==============================] - 83s 740ms/step - loss: 0.1543 - accuracy: 0.9445 - val_loss: 0.2398 - val_accuracy: 0.9062\n",
      "\n",
      "Epoch 00055: accuracy improved from 0.94339 to 0.94451, saving model to model.h5\n",
      "Epoch 56/100\n",
      "112/112 [==============================] - 81s 723ms/step - loss: 0.1855 - accuracy: 0.9260 - val_loss: 0.2385 - val_accuracy: 0.9323\n",
      "\n",
      "Epoch 00056: accuracy did not improve from 0.94451\n",
      "\n",
      "Epoch 00056: ReduceLROnPlateau reducing learning rate to 2.684354294402169e-10.\n",
      "Epoch 57/100\n",
      "112/112 [==============================] - 83s 740ms/step - loss: 0.1822 - accuracy: 0.9294 - val_loss: 0.1700 - val_accuracy: 0.9323\n",
      "\n",
      "Epoch 00057: accuracy did not improve from 0.94451\n",
      "Epoch 58/100\n",
      "112/112 [==============================] - 83s 736ms/step - loss: 0.1673 - accuracy: 0.9389 - val_loss: 0.1647 - val_accuracy: 0.9531\n",
      "\n",
      "Epoch 00058: accuracy did not improve from 0.94451\n",
      "Epoch 59/100\n",
      "112/112 [==============================] - 82s 733ms/step - loss: 0.1582 - accuracy: 0.9389 - val_loss: 0.2180 - val_accuracy: 0.9115\n",
      "\n",
      "Epoch 00059: accuracy did not improve from 0.94451\n",
      "\n",
      "Epoch 00059: ReduceLROnPlateau reducing learning rate to 1.0737417621697888e-10.\n",
      "Epoch 60/100\n",
      "112/112 [==============================] - 84s 742ms/step - loss: 0.1903 - accuracy: 0.9243 - val_loss: 0.2076 - val_accuracy: 0.9062\n",
      "\n",
      "Epoch 00060: accuracy did not improve from 0.94451\n",
      "Epoch 61/100\n",
      "112/112 [==============================] - 82s 732ms/step - loss: 0.1741 - accuracy: 0.9381 - val_loss: 0.2547 - val_accuracy: 0.9115\n",
      "\n",
      "Epoch 00061: accuracy did not improve from 0.94451\n",
      "Epoch 62/100\n",
      "112/112 [==============================] - 82s 730ms/step - loss: 0.1745 - accuracy: 0.9299 - val_loss: 0.2245 - val_accuracy: 0.9375\n",
      "\n",
      "Epoch 00062: accuracy did not improve from 0.94451\n",
      "\n",
      "Epoch 00062: ReduceLROnPlateau reducing learning rate to 1e-10.\n",
      "Restoring model weights from the end of the best epoch.\n",
      "Epoch 00062: early stopping\n"
     ]
    }
   ],
   "source": [
    "train_generator, validation_generator, test_generator = define_generators()\n",
    "\n",
    "history = model.fit(\n",
    "    train_generator,\n",
    "    epochs=nb_epoch,\n",
    "    steps_per_epoch=train_generator.samples // batch_size,\n",
    "    validation_data= validation_generator,\n",
    "    validation_steps=validation_generator.samples // batch_size,\n",
    "    callbacks = training_callbacks()\n",
    ")"
   ]
  },
  {
   "cell_type": "code",
   "execution_count": 17,
   "id": "43834ae5",
   "metadata": {
    "execution": {
     "iopub.execute_input": "2022-04-18T17:51:14.402439Z",
     "iopub.status.busy": "2022-04-18T17:51:14.402186Z",
     "iopub.status.idle": "2022-04-18T17:51:14.608526Z",
     "shell.execute_reply": "2022-04-18T17:51:14.607874Z"
    },
    "papermill": {
     "duration": 2.713208,
     "end_time": "2022-04-18T17:51:14.610168",
     "exception": false,
     "start_time": "2022-04-18T17:51:11.896960",
     "status": "completed"
    },
    "tags": []
   },
   "outputs": [
    {
     "data": {
      "image/png": "[encoded data removed]",
      "text/plain": [
       "<Figure size 432x288 with 1 Axes>"
      ]
     },
     "metadata": {
      "needs_background": "light"
     },
     "output_type": "display_data"
    },
    {
     "data": {
      "text/plain": [
       "<Figure size 432x288 with 0 Axes>"
      ]
     },
     "metadata": {},
     "output_type": "display_data"
    }
   ],
   "source": [
    "plt.plot(history.history['loss'], label='train')\n",
    "plt.plot(history.history['val_loss'], label = \"validation\")\n",
    "plt.legend(loc='upper right')\n",
    "plt.title('Loss')\n",
    "plt.ylabel('Loss')\n",
    "plt.xlabel('Epoch')\n",
    "plt.show()\n",
    "plt.savefig('Loss.png')"
   ]
  },
  {
   "cell_type": "code",
   "execution_count": 18,
   "id": "47cb69cc",
   "metadata": {
    "execution": {
     "iopub.execute_input": "2022-04-18T17:51:19.036812Z",
     "iopub.status.busy": "2022-04-18T17:51:19.036548Z",
     "iopub.status.idle": "2022-04-18T17:51:19.237932Z",
     "shell.execute_reply": "2022-04-18T17:51:19.237266Z"
    },
    "papermill": {
     "duration": 2.437125,
     "end_time": "2022-04-18T17:51:19.239767",
     "exception": false,
     "start_time": "2022-04-18T17:51:16.802642",
     "status": "completed"
    },
    "tags": []
   },
   "outputs": [
    {
     "data": {
      "image/png": "[encoded data removed]",
      "text/plain": [
       "<Figure size 432x288 with 1 Axes>"
      ]
     },
     "metadata": {
      "needs_background": "light"
     },
     "output_type": "display_data"
    },
    {
     "data": {
      "text/plain": [
       "<Figure size 432x288 with 0 Axes>"
      ]
     },
     "metadata": {},
     "output_type": "display_data"
    }
   ],
   "source": [
    "plt.plot(history.history['accuracy'], label='train')\n",
    "plt.plot(history.history['val_accuracy'], label = \"validation\")\n",
    "plt.legend(loc='upper left')\n",
    "plt.title('Model accuracy')\n",
    "plt.ylabel('Accuracy')\n",
    "plt.xlabel('Epoch')\n",
    "plt.show()\n",
    "plt.savefig('Accuracy.png')"
   ]
  },
  {
   "cell_type": "code",
   "execution_count": 19,
   "id": "c6459a9a",
   "metadata": {
    "execution": {
     "iopub.execute_input": "2022-04-18T17:51:23.982600Z",
     "iopub.status.busy": "2022-04-18T17:51:23.982277Z",
     "iopub.status.idle": "2022-04-18T17:51:24.348903Z",
     "shell.execute_reply": "2022-04-18T17:51:24.348180Z"
    },
    "papermill": {
     "duration": 2.852617,
     "end_time": "2022-04-18T17:51:24.351603",
     "exception": false,
     "start_time": "2022-04-18T17:51:21.498986",
     "status": "completed"
    },
    "tags": []
   },
   "outputs": [],
   "source": [
    "model.save_weights('binary_efficientnetB3.h5')"
   ]
  },
  {
   "cell_type": "code",
   "execution_count": 20,
   "id": "a2152f90",
   "metadata": {
    "execution": {
     "iopub.execute_input": "2022-04-18T17:51:28.799737Z",
     "iopub.status.busy": "2022-04-18T17:51:28.799485Z",
     "iopub.status.idle": "2022-04-18T17:51:37.834522Z",
     "shell.execute_reply": "2022-04-18T17:51:37.833876Z"
    },
    "papermill": {
     "duration": 11.244815,
     "end_time": "2022-04-18T17:51:37.836435",
     "exception": false,
     "start_time": "2022-04-18T17:51:26.591620",
     "status": "completed"
    },
    "tags": []
   },
   "outputs": [
    {
     "data": {
      "image/png": "[encoded data removed]",
      "text/plain": [
       "<Figure size 432x288 with 2 Axes>"
      ]
     },
     "metadata": {
      "needs_background": "light"
     },
     "output_type": "display_data"
    }
   ],
   "source": [
    "validation_generator.reset() \n",
    "val_pred = model.predict(validation_generator, steps=validation_generator.samples)\n",
    "y_pred = val_pred>0.5\n",
    "y_true = validation_generator.classes\n",
    "\n",
    "cm = confusion_matrix(y_true, y_pred)\n",
    "disp = ConfusionMatrixDisplay(confusion_matrix=cm, display_labels=['Black-grass', 'Loose Silky-bent'])\n",
    "\n",
    "disp.plot(cmap=plt.cm.Blues)\n",
    "plt.xticks(rotation=90)\n",
    "plt.show()"
   ]
  },
  {
   "cell_type": "code",
   "execution_count": 21,
   "id": "461155ca",
   "metadata": {
    "execution": {
     "iopub.execute_input": "2022-04-18T17:51:42.433123Z",
     "iopub.status.busy": "2022-04-18T17:51:42.432847Z",
     "iopub.status.idle": "2022-04-18T17:51:42.436950Z",
     "shell.execute_reply": "2022-04-18T17:51:42.436181Z"
    },
    "papermill": {
     "duration": 2.316115,
     "end_time": "2022-04-18T17:51:42.439076",
     "exception": false,
     "start_time": "2022-04-18T17:51:40.122961",
     "status": "completed"
    },
    "tags": []
   },
   "outputs": [],
   "source": [
    "# def create_main_classifier():\n",
    "#     model_main = Xception(weights='imagenet', input_shape=(width, height, 3), include_top=False)\n",
    "#     layer = model_main.output\n",
    "#     layer = GlobalAveragePooling2D(name=\"avg_pool\")(layer)\n",
    "#     layer = BatchNormalization()(layer)\n",
    "    \n",
    "#     layer = Dropout(0.2, name=\"top_dropout\")(layer)\n",
    "\n",
    "#     dropout_1 = tf.keras.layers.Dropout(0.2)(layer)\n",
    "#     model_dense2 = tf.keras.layers.Dense(256, activation = 'selu', activity_regularizer=tf.keras.regularizers.l2(1e-5))(dropout_1)\n",
    "#     dropout_2 = tf.keras.layers.Dropout(0.2)(model_dense2)\n",
    "#     model_dense3 = tf.keras.layers.Dense(128, activation='selu')(dropout_2)\n",
    "#     model_out = tf.keras.layers.Dense(12, activation=\"softmax\")(model_dense3)\n",
    "\n",
    "#     model = tf.keras.models.Model(model_main.input,  model_out)\n",
    "#     optimizer = tf.keras.optimizers.Adam(learning_rate=0.0001, beta_1=0.9, beta_2=0.999)\n",
    "#     model.compile(loss=\"categorical_crossentropy\", optimizer=optimizer, metrics=[\"accuracy\"])\n",
    "#     return model"
   ]
  },
  {
   "cell_type": "code",
   "execution_count": 22,
   "id": "e01dbccc",
   "metadata": {
    "execution": {
     "iopub.execute_input": "2022-04-18T17:51:47.188422Z",
     "iopub.status.busy": "2022-04-18T17:51:47.188167Z",
     "iopub.status.idle": "2022-04-18T17:51:47.191485Z",
     "shell.execute_reply": "2022-04-18T17:51:47.190773Z"
    },
    "papermill": {
     "duration": 2.531343,
     "end_time": "2022-04-18T17:51:47.193266",
     "exception": false,
     "start_time": "2022-04-18T17:51:44.661923",
     "status": "completed"
    },
    "tags": []
   },
   "outputs": [],
   "source": [
    "# xception = create_main_classifier()\n",
    "# xception.summary()\n",
    "# xception.load_weights(f'{model_dir}xception_new.h5')"
   ]
  },
  {
   "cell_type": "code",
   "execution_count": 23,
   "id": "bef3666d",
   "metadata": {
    "execution": {
     "iopub.execute_input": "2022-04-18T17:51:51.690045Z",
     "iopub.status.busy": "2022-04-18T17:51:51.689797Z",
     "iopub.status.idle": "2022-04-18T17:51:51.693329Z",
     "shell.execute_reply": "2022-04-18T17:51:51.692646Z"
    },
    "papermill": {
     "duration": 2.27995,
     "end_time": "2022-04-18T17:51:51.694962",
     "exception": false,
     "start_time": "2022-04-18T17:51:49.415012",
     "status": "completed"
    },
    "tags": []
   },
   "outputs": [],
   "source": [
    "# predictions = xception.predict(test_generator, steps=test_generator.samples)\n",
    "\n",
    "# class_list = []\n",
    "\n",
    "# for i in range(0, predictions.shape[0]):\n",
    "#     y_class = predictions[i, :].argmax(axis=-1)\n",
    "#     class_list += [species_list[y_class]]\n",
    "\n",
    "# submission = pd.DataFrame()\n",
    "# submission['file'] = test_generator.filenames\n",
    "# submission['file'] = submission['file'].str.replace(r'seg_test/', '')\n",
    "# submission['species'] = class_list"
   ]
  },
  {
   "cell_type": "code",
   "execution_count": 24,
   "id": "52b8aaec",
   "metadata": {
    "execution": {
     "iopub.execute_input": "2022-04-18T17:51:56.091642Z",
     "iopub.status.busy": "2022-04-18T17:51:56.091371Z",
     "iopub.status.idle": "2022-04-18T17:51:56.095446Z",
     "shell.execute_reply": "2022-04-18T17:51:56.094543Z"
    },
    "papermill": {
     "duration": 2.211864,
     "end_time": "2022-04-18T17:51:56.097835",
     "exception": false,
     "start_time": "2022-04-18T17:51:53.885971",
     "status": "completed"
    },
    "tags": []
   },
   "outputs": [],
   "source": [
    "# predictions = model.predict(test_generator, steps=test_generator.samples)\n",
    "\n",
    "# class_list = []\n",
    "\n",
    "# for i in range(0, predictions.shape[0]):\n",
    "#     y_class = (predictions[i, :]>0.5).astype('int32')[0]\n",
    "#     class_list += [binary_list[y_class]]\n",
    "\n",
    "# binary = pd.DataFrame()\n",
    "# binary['file'] = test_generator.filenames\n",
    "# binary['file'] = binary['file'].str.replace(r'seg_test/', '')\n",
    "# binary['species'] = class_list"
   ]
  },
  {
   "cell_type": "code",
   "execution_count": 25,
   "id": "d897be57",
   "metadata": {
    "execution": {
     "iopub.execute_input": "2022-04-18T17:52:00.876529Z",
     "iopub.status.busy": "2022-04-18T17:52:00.876277Z",
     "iopub.status.idle": "2022-04-18T17:52:00.879792Z",
     "shell.execute_reply": "2022-04-18T17:52:00.879118Z"
    },
    "papermill": {
     "duration": 2.253162,
     "end_time": "2022-04-18T17:52:00.881461",
     "exception": false,
     "start_time": "2022-04-18T17:51:58.628299",
     "status": "completed"
    },
    "tags": []
   },
   "outputs": [],
   "source": [
    "# for idx, pred in enumerate(submission['species']):\n",
    "#     if pred == 'Black-grass' or pred == 'Loose Silky-bent':\n",
    "#         print(f'Modifying Sumission {submission[\"species\"][idx]} to {binary[\"species\"][idx]}')\n",
    "#         submission['species'][idx] = binary['species'][idx]"
   ]
  },
  {
   "cell_type": "code",
   "execution_count": 26,
   "id": "d1c8a89c",
   "metadata": {
    "execution": {
     "iopub.execute_input": "2022-04-18T17:52:05.314447Z",
     "iopub.status.busy": "2022-04-18T17:52:05.314189Z",
     "iopub.status.idle": "2022-04-18T17:52:05.317518Z",
     "shell.execute_reply": "2022-04-18T17:52:05.316849Z"
    },
    "papermill": {
     "duration": 2.20438,
     "end_time": "2022-04-18T17:52:05.319325",
     "exception": false,
     "start_time": "2022-04-18T17:52:03.114945",
     "status": "completed"
    },
    "tags": []
   },
   "outputs": [],
   "source": [
    "# submission.to_csv('xception_binary.csv', index=False)\n",
    "# print('Submission file generated. All done.')"
   ]
  },
  {
   "cell_type": "code",
   "execution_count": null,
   "id": "2b6a7f7e",
   "metadata": {
    "papermill": {
     "duration": 3.010838,
     "end_time": "2022-04-18T17:52:10.568333",
     "exception": false,
     "start_time": "2022-04-18T17:52:07.557495",
     "status": "completed"
    },
    "tags": []
   },
   "outputs": [],
   "source": []
  }
 ],
 "metadata": {
  "kernelspec": {
   "display_name": "Python 3",
   "language": "python",
   "name": "python3"
  },
  "language_info": {
   "codemirror_mode": {
    "name": "ipython",
    "version": 3
   },
   "file_extension": ".py",
   "mimetype": "text/x-python",
   "name": "python",
   "nbconvert_exporter": "python",
   "pygments_lexer": "ipython3",
   "version": "3.7.12"
  },
  "papermill": {
   "default_parameters": {},
   "duration": 5552.854524,
   "end_time": "2022-04-18T17:52:16.293565",
   "environment_variables": {},
   "exception": null,
   "input_path": "__notebook__.ipynb",
   "output_path": "__notebook__.ipynb",
   "parameters": {},
   "start_time": "2022-04-18T16:19:43.439041",
   "version": "2.3.4"
  }
 },
 "nbformat": 4,
 "nbformat_minor": 5
}
