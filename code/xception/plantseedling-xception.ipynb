{
 "cells": [
  {
   "cell_type": "code",
   "execution_count": 1,
   "id": "0c2b4591",
   "metadata": {
    "_cell_guid": "b1076dfc-b9ad-4769-8c92-a6c4dae69d19",
    "_uuid": "8f2839f25d086af736a60e9eeb907d3b93b6e0e5",
    "execution": {
     "iopub.execute_input": "2022-04-11T03:31:53.864941Z",
     "iopub.status.busy": "2022-04-11T03:31:53.863451Z",
     "iopub.status.idle": "2022-04-11T03:31:59.727072Z",
     "shell.execute_reply": "2022-04-11T03:31:59.726483Z",
     "shell.execute_reply.started": "2022-04-10T10:52:44.6893Z"
    },
    "papermill": {
     "duration": 5.884511,
     "end_time": "2022-04-11T03:31:59.727227",
     "exception": false,
     "start_time": "2022-04-11T03:31:53.842716",
     "status": "completed"
    },
    "tags": []
   },
   "outputs": [],
   "source": [
    "import numpy as np\n",
    "import pandas as pd\n",
    "import os\n",
    "import cv2\n",
    "import matplotlib.pyplot as plt\n",
    "import seaborn as sb\n",
    "sb.set()\n",
    "\n",
    "import tensorflow as tf\n",
    "from keras.preprocessing.image import ImageDataGenerator\n",
    "from sklearn.metrics import confusion_matrix\n",
    "from sklearn.metrics import ConfusionMatrixDisplay"
   ]
  },
  {
   "cell_type": "code",
   "execution_count": 2,
   "id": "61d86e40",
   "metadata": {
    "execution": {
     "iopub.execute_input": "2022-04-11T03:31:59.763826Z",
     "iopub.status.busy": "2022-04-11T03:31:59.763059Z",
     "iopub.status.idle": "2022-04-11T03:31:59.765125Z",
     "shell.execute_reply": "2022-04-11T03:31:59.765566Z",
     "shell.execute_reply.started": "2022-04-10T10:52:44.705638Z"
    },
    "papermill": {
     "duration": 0.022048,
     "end_time": "2022-04-11T03:31:59.765689",
     "exception": false,
     "start_time": "2022-04-11T03:31:59.743641",
     "status": "completed"
    },
    "tags": []
   },
   "outputs": [],
   "source": [
    "# Path to train images\n",
    "train_dir = '../input/plant-seedlings-classification/train/'\n",
    "train_dir_seg = '../input/plant-seedling-segmented/plant-seedling-segmented/seg_train/'\n",
    "train_dir_large = '../input/plantseedlingslarge/plant-seedlings-large/train-large/'\n",
    "train_dir_seg_large = '../input/plantseedlingslarge/plant-seedlings-large/train-large-seg/'\n",
    "\n",
    "\n",
    "# Path to test images\n",
    "test_dir = '../input/plant-seedlings-classification/'\n",
    "test_dir_seg = '../input/plant-seedling-segmented/plant-seedling-segmented/'"
   ]
  },
  {
   "cell_type": "code",
   "execution_count": 3,
   "id": "5a748a1e",
   "metadata": {
    "execution": {
     "iopub.execute_input": "2022-04-11T03:31:59.799679Z",
     "iopub.status.busy": "2022-04-11T03:31:59.798847Z",
     "iopub.status.idle": "2022-04-11T03:31:59.802225Z",
     "shell.execute_reply": "2022-04-11T03:31:59.802666Z",
     "shell.execute_reply.started": "2022-04-10T10:52:44.717494Z"
    },
    "papermill": {
     "duration": 0.021788,
     "end_time": "2022-04-11T03:31:59.802800",
     "exception": false,
     "start_time": "2022-04-11T03:31:59.781012",
     "status": "completed"
    },
    "tags": []
   },
   "outputs": [],
   "source": [
    "train = train_dir_seg_large\n",
    "test = test_dir_seg"
   ]
  },
  {
   "cell_type": "code",
   "execution_count": 4,
   "id": "0a4dd2d0",
   "metadata": {
    "execution": {
     "iopub.execute_input": "2022-04-11T03:31:59.837767Z",
     "iopub.status.busy": "2022-04-11T03:31:59.837010Z",
     "iopub.status.idle": "2022-04-11T03:31:59.839395Z",
     "shell.execute_reply": "2022-04-11T03:31:59.838972Z",
     "shell.execute_reply.started": "2022-04-10T10:52:44.728224Z"
    },
    "papermill": {
     "duration": 0.021038,
     "end_time": "2022-04-11T03:31:59.839501",
     "exception": false,
     "start_time": "2022-04-11T03:31:59.818463",
     "status": "completed"
    },
    "tags": []
   },
   "outputs": [],
   "source": [
    "epochs     = 70\n",
    "batch_size   = 16\n",
    "width        = 299\n",
    "height       = 299"
   ]
  },
  {
   "cell_type": "code",
   "execution_count": 5,
   "id": "21d6bb4a",
   "metadata": {
    "execution": {
     "iopub.execute_input": "2022-04-11T03:31:59.873513Z",
     "iopub.status.busy": "2022-04-11T03:31:59.872643Z",
     "iopub.status.idle": "2022-04-11T03:31:59.877068Z",
     "shell.execute_reply": "2022-04-11T03:31:59.876663Z",
     "shell.execute_reply.started": "2022-04-10T10:52:44.738001Z"
    },
    "papermill": {
     "duration": 0.021961,
     "end_time": "2022-04-11T03:31:59.877170",
     "exception": false,
     "start_time": "2022-04-11T03:31:59.855209",
     "status": "completed"
    },
    "tags": []
   },
   "outputs": [],
   "source": [
    "species_list = [\"Black-grass\", \"Charlock\", \"Cleavers\", \"Common Chickweed\", \"Common wheat\", \"Fat Hen\",\n",
    "                 \"Loose Silky-bent\", \"Maize\", \"Scentless Mayweed\", \"Shepherds Purse\", \"Small-flowered Cranesbill\",\n",
    "                \"Sugar beet\"]"
   ]
  },
  {
   "cell_type": "code",
   "execution_count": 6,
   "id": "91b0c6e5",
   "metadata": {
    "execution": {
     "iopub.execute_input": "2022-04-11T03:31:59.912427Z",
     "iopub.status.busy": "2022-04-11T03:31:59.911727Z",
     "iopub.status.idle": "2022-04-11T03:31:59.922470Z",
     "shell.execute_reply": "2022-04-11T03:31:59.921991Z",
     "shell.execute_reply.started": "2022-04-10T10:52:44.748229Z"
    },
    "papermill": {
     "duration": 0.029987,
     "end_time": "2022-04-11T03:31:59.922575",
     "exception": false,
     "start_time": "2022-04-11T03:31:59.892588",
     "status": "completed"
    },
    "tags": []
   },
   "outputs": [],
   "source": [
    "from keras.applications.xception import Xception, preprocess_input"
   ]
  },
  {
   "cell_type": "code",
   "execution_count": 7,
   "id": "642a826b",
   "metadata": {
    "execution": {
     "iopub.execute_input": "2022-04-11T03:31:59.960963Z",
     "iopub.status.busy": "2022-04-11T03:31:59.958252Z",
     "iopub.status.idle": "2022-04-11T03:31:59.964797Z",
     "shell.execute_reply": "2022-04-11T03:31:59.964362Z",
     "shell.execute_reply.started": "2022-04-10T10:52:44.758154Z"
    },
    "papermill": {
     "duration": 0.026705,
     "end_time": "2022-04-11T03:31:59.964896",
     "exception": false,
     "start_time": "2022-04-11T03:31:59.938191",
     "status": "completed"
    },
    "tags": []
   },
   "outputs": [],
   "source": [
    "def define_generators():\n",
    "    train_datagen = tf.keras.preprocessing.image.ImageDataGenerator(\n",
    "        preprocessing_function=preprocess_input,\n",
    "        rotation_range=360,\n",
    "        width_shift_range=0.3,\n",
    "        height_shift_range=0.3,\n",
    "        shear_range=0.3,\n",
    "        zoom_range=0.5,\n",
    "        vertical_flip=True,\n",
    "        horizontal_flip=True,\n",
    "        validation_split=0.15,\n",
    "    )\n",
    "\n",
    "    train_generator = train_datagen.flow_from_directory(\n",
    "        directory=train,\n",
    "        target_size=(width, height),\n",
    "        batch_size=batch_size,\n",
    "        color_mode='rgb',\n",
    "        class_mode=\"categorical\",\n",
    "        subset='training',\n",
    "    )\n",
    "\n",
    "    validation_generator = train_datagen.flow_from_directory(\n",
    "        directory=train,\n",
    "        target_size=(width, height),\n",
    "        batch_size=batch_size,\n",
    "        color_mode='rgb',\n",
    "        class_mode=\"categorical\",\n",
    "        subset='validation',\n",
    "        shuffle=False\n",
    "    )\n",
    "\n",
    "    test_datagen = tf.keras.preprocessing.image.ImageDataGenerator(\n",
    "            preprocessing_function=preprocess_input,\n",
    "            rotation_range=180,\n",
    "            width_shift_range=0.3,\n",
    "            height_shift_range=0.3,\n",
    "            shear_range=0.3,\n",
    "            vertical_flip=True,\n",
    "            horizontal_flip=True)\n",
    "\n",
    "    test_generator = test_datagen.flow_from_directory(\n",
    "        directory=test,\n",
    "        classes=['seg_test'],\n",
    "        target_size=(width, height),\n",
    "        batch_size=1,\n",
    "        color_mode='rgb',\n",
    "        shuffle=False,\n",
    "        class_mode='categorical')\n",
    "\n",
    "    return train_generator, validation_generator, test_generator"
   ]
  },
  {
   "cell_type": "code",
   "execution_count": 8,
   "id": "17fb4a34",
   "metadata": {
    "execution": {
     "iopub.execute_input": "2022-04-11T03:32:00.001052Z",
     "iopub.status.busy": "2022-04-11T03:32:00.000377Z",
     "iopub.status.idle": "2022-04-11T03:32:13.883111Z",
     "shell.execute_reply": "2022-04-11T03:32:13.883801Z",
     "shell.execute_reply.started": "2022-04-10T10:52:44.787034Z"
    },
    "papermill": {
     "duration": 13.903606,
     "end_time": "2022-04-11T03:32:13.883956",
     "exception": false,
     "start_time": "2022-04-11T03:31:59.980350",
     "status": "completed"
    },
    "tags": []
   },
   "outputs": [
    {
     "name": "stdout",
     "output_type": "stream",
     "text": [
      "Found 10200 images belonging to 12 classes.\n",
      "Found 1800 images belonging to 12 classes.\n",
      "Found 794 images belonging to 1 classes.\n"
     ]
    }
   ],
   "source": [
    "train_generator, validation_generator, test_generator = define_generators()"
   ]
  },
  {
   "cell_type": "code",
   "execution_count": 9,
   "id": "b0c36413",
   "metadata": {
    "execution": {
     "iopub.execute_input": "2022-04-11T03:32:13.924762Z",
     "iopub.status.busy": "2022-04-11T03:32:13.923966Z",
     "iopub.status.idle": "2022-04-11T03:32:13.925939Z",
     "shell.execute_reply": "2022-04-11T03:32:13.926319Z",
     "shell.execute_reply.started": "2022-04-10T10:52:46.95713Z"
    },
    "papermill": {
     "duration": 0.025529,
     "end_time": "2022-04-11T03:32:13.926453",
     "exception": false,
     "start_time": "2022-04-11T03:32:13.900924",
     "status": "completed"
    },
    "tags": []
   },
   "outputs": [],
   "source": [
    "# define appropriate callbacks\n",
    "def training_callbacks():\n",
    "    \n",
    "    # save best model regularly\n",
    "    save_best_model = tf.keras.callbacks.ModelCheckpoint(filepath = 'model.h5',\n",
    "        monitor = 'loss', save_best_only = True, verbose = 1)\n",
    "    \n",
    "    # reduce learning rate when it stops decreasing\n",
    "    reduce_lr = tf.keras.callbacks.ReduceLROnPlateau(monitor = 'loss', factor = 0.4,\n",
    "                              patience = 3, min_lr = 1e-10, verbose = 1, cooldown = 1)\n",
    "    \n",
    "    # stop training early if no further improvement\n",
    "    early_stopping = tf.keras.callbacks.EarlyStopping(\n",
    "        monitor = 'loss', min_delta = 1e-2, patience = 10, verbose = 1,\n",
    "        mode = 'min', baseline = None, restore_best_weights = True\n",
    "    )\n",
    "\n",
    "    return save_best_model, reduce_lr, early_stopping\n"
   ]
  },
  {
   "cell_type": "code",
   "execution_count": 10,
   "id": "3b42b579",
   "metadata": {
    "execution": {
     "iopub.execute_input": "2022-04-11T03:32:13.968907Z",
     "iopub.status.busy": "2022-04-11T03:32:13.968056Z",
     "iopub.status.idle": "2022-04-11T03:32:13.971522Z",
     "shell.execute_reply": "2022-04-11T03:32:13.971973Z",
     "shell.execute_reply.started": "2022-04-10T10:53:42.46514Z"
    },
    "papermill": {
     "duration": 0.029295,
     "end_time": "2022-04-11T03:32:13.972100",
     "exception": false,
     "start_time": "2022-04-11T03:32:13.942805",
     "status": "completed"
    },
    "tags": []
   },
   "outputs": [],
   "source": [
    "from tensorflow.keras.layers import Conv2D, MaxPooling2D, BatchNormalization, GlobalAveragePooling2D\n",
    "from tensorflow.keras.layers import Dense, Dropout, Flatten\n",
    "\n",
    "\n",
    "def create_model():\n",
    "    model_main = Xception(weights='imagenet', input_shape=(width, height, 3), include_top=False)\n",
    "    layer = model_main.output\n",
    "    layer = GlobalAveragePooling2D(name=\"avg_pool\")(layer)\n",
    "    layer = BatchNormalization()(layer)\n",
    "    \n",
    "    layer = Dropout(0.2, name=\"top_dropout\")(layer)\n",
    "\n",
    "    dropout_1 = tf.keras.layers.Dropout(0.2)(layer)\n",
    "    model_dense2 = tf.keras.layers.Dense(256, activation = 'selu', activity_regularizer=tf.keras.regularizers.l2(1e-5))(dropout_1)\n",
    "    dropout_2 = tf.keras.layers.Dropout(0.2)(model_dense2)\n",
    "    model_dense3 = tf.keras.layers.Dense(128, activation='selu')(dropout_2)\n",
    "    model_out = tf.keras.layers.Dense(12, activation=\"softmax\")(model_dense3)\n",
    "\n",
    "    model = tf.keras.models.Model(model_main.input,  model_out)\n",
    "    optimizer = tf.keras.optimizers.Adam(learning_rate=0.0001, beta_1=0.9, beta_2=0.999)\n",
    "    model.compile(loss=\"categorical_crossentropy\", optimizer=optimizer, metrics=[\"accuracy\"])\n",
    "    return model"
   ]
  },
  {
   "cell_type": "code",
   "execution_count": 11,
   "id": "a5375593",
   "metadata": {
    "execution": {
     "iopub.execute_input": "2022-04-11T03:32:14.007973Z",
     "iopub.status.busy": "2022-04-11T03:32:14.007201Z",
     "iopub.status.idle": "2022-04-11T03:32:18.107731Z",
     "shell.execute_reply": "2022-04-11T03:32:18.108187Z",
     "shell.execute_reply.started": "2022-04-10T10:53:42.658609Z"
    },
    "papermill": {
     "duration": 4.1199,
     "end_time": "2022-04-11T03:32:18.108355",
     "exception": false,
     "start_time": "2022-04-11T03:32:13.988455",
     "status": "completed"
    },
    "tags": []
   },
   "outputs": [
    {
     "name": "stderr",
     "output_type": "stream",
     "text": [
      "2022-04-11 03:32:14.093402: I tensorflow/stream_executor/cuda/cuda_gpu_executor.cc:937] successful NUMA node read from SysFS had negative value (-1), but there must be at least one NUMA node, so returning NUMA node zero\n",
      "2022-04-11 03:32:14.217461: I tensorflow/stream_executor/cuda/cuda_gpu_executor.cc:937] successful NUMA node read from SysFS had negative value (-1), but there must be at least one NUMA node, so returning NUMA node zero\n",
      "2022-04-11 03:32:14.218276: I tensorflow/stream_executor/cuda/cuda_gpu_executor.cc:937] successful NUMA node read from SysFS had negative value (-1), but there must be at least one NUMA node, so returning NUMA node zero\n",
      "2022-04-11 03:32:14.219750: I tensorflow/core/platform/cpu_feature_guard.cc:142] This TensorFlow binary is optimized with oneAPI Deep Neural Network Library (oneDNN) to use the following CPU instructions in performance-critical operations:  AVX2 AVX512F FMA\n",
      "To enable them in other operations, rebuild TensorFlow with the appropriate compiler flags.\n",
      "2022-04-11 03:32:14.220900: I tensorflow/stream_executor/cuda/cuda_gpu_executor.cc:937] successful NUMA node read from SysFS had negative value (-1), but there must be at least one NUMA node, so returning NUMA node zero\n",
      "2022-04-11 03:32:14.221901: I tensorflow/stream_executor/cuda/cuda_gpu_executor.cc:937] successful NUMA node read from SysFS had negative value (-1), but there must be at least one NUMA node, so returning NUMA node zero\n",
      "2022-04-11 03:32:14.222813: I tensorflow/stream_executor/cuda/cuda_gpu_executor.cc:937] successful NUMA node read from SysFS had negative value (-1), but there must be at least one NUMA node, so returning NUMA node zero\n",
      "2022-04-11 03:32:16.056376: I tensorflow/stream_executor/cuda/cuda_gpu_executor.cc:937] successful NUMA node read from SysFS had negative value (-1), but there must be at least one NUMA node, so returning NUMA node zero\n",
      "2022-04-11 03:32:16.057257: I tensorflow/stream_executor/cuda/cuda_gpu_executor.cc:937] successful NUMA node read from SysFS had negative value (-1), but there must be at least one NUMA node, so returning NUMA node zero\n",
      "2022-04-11 03:32:16.057954: I tensorflow/stream_executor/cuda/cuda_gpu_executor.cc:937] successful NUMA node read from SysFS had negative value (-1), but there must be at least one NUMA node, so returning NUMA node zero\n",
      "2022-04-11 03:32:16.058586: I tensorflow/core/common_runtime/gpu/gpu_device.cc:1510] Created device /job:localhost/replica:0/task:0/device:GPU:0 with 15403 MB memory:  -> device: 0, name: Tesla P100-PCIE-16GB, pci bus id: 0000:00:04.0, compute capability: 6.0\n"
     ]
    },
    {
     "name": "stdout",
     "output_type": "stream",
     "text": [
      "Downloading data from https://storage.googleapis.com/tensorflow/keras-applications/xception/xception_weights_tf_dim_ordering_tf_kernels_notop.h5\n",
      "83689472/83683744 [==============================] - 0s 0us/step\n",
      "83697664/83683744 [==============================] - 0s 0us/step\n",
      "Model: \"model\"\n",
      "__________________________________________________________________________________________________\n",
      "Layer (type)                    Output Shape         Param #     Connected to                     \n",
      "==================================================================================================\n",
      "input_1 (InputLayer)            [(None, 299, 299, 3) 0                                            \n",
      "__________________________________________________________________________________________________\n",
      "block1_conv1 (Conv2D)           (None, 149, 149, 32) 864         input_1[0][0]                    \n",
      "__________________________________________________________________________________________________\n",
      "block1_conv1_bn (BatchNormaliza (None, 149, 149, 32) 128         block1_conv1[0][0]               \n",
      "__________________________________________________________________________________________________\n",
      "block1_conv1_act (Activation)   (None, 149, 149, 32) 0           block1_conv1_bn[0][0]            \n",
      "__________________________________________________________________________________________________\n",
      "block1_conv2 (Conv2D)           (None, 147, 147, 64) 18432       block1_conv1_act[0][0]           \n",
      "__________________________________________________________________________________________________\n",
      "block1_conv2_bn (BatchNormaliza (None, 147, 147, 64) 256         block1_conv2[0][0]               \n",
      "__________________________________________________________________________________________________\n",
      "block1_conv2_act (Activation)   (None, 147, 147, 64) 0           block1_conv2_bn[0][0]            \n",
      "__________________________________________________________________________________________________\n",
      "block2_sepconv1 (SeparableConv2 (None, 147, 147, 128 8768        block1_conv2_act[0][0]           \n",
      "__________________________________________________________________________________________________\n",
      "block2_sepconv1_bn (BatchNormal (None, 147, 147, 128 512         block2_sepconv1[0][0]            \n",
      "__________________________________________________________________________________________________\n",
      "block2_sepconv2_act (Activation (None, 147, 147, 128 0           block2_sepconv1_bn[0][0]         \n",
      "__________________________________________________________________________________________________\n",
      "block2_sepconv2 (SeparableConv2 (None, 147, 147, 128 17536       block2_sepconv2_act[0][0]        \n",
      "__________________________________________________________________________________________________\n",
      "block2_sepconv2_bn (BatchNormal (None, 147, 147, 128 512         block2_sepconv2[0][0]            \n",
      "__________________________________________________________________________________________________\n",
      "conv2d (Conv2D)                 (None, 74, 74, 128)  8192        block1_conv2_act[0][0]           \n",
      "__________________________________________________________________________________________________\n",
      "block2_pool (MaxPooling2D)      (None, 74, 74, 128)  0           block2_sepconv2_bn[0][0]         \n",
      "__________________________________________________________________________________________________\n",
      "batch_normalization (BatchNorma (None, 74, 74, 128)  512         conv2d[0][0]                     \n",
      "__________________________________________________________________________________________________\n",
      "add (Add)                       (None, 74, 74, 128)  0           block2_pool[0][0]                \n",
      "                                                                 batch_normalization[0][0]        \n",
      "__________________________________________________________________________________________________\n",
      "block3_sepconv1_act (Activation (None, 74, 74, 128)  0           add[0][0]                        \n",
      "__________________________________________________________________________________________________\n",
      "block3_sepconv1 (SeparableConv2 (None, 74, 74, 256)  33920       block3_sepconv1_act[0][0]        \n",
      "__________________________________________________________________________________________________\n",
      "block3_sepconv1_bn (BatchNormal (None, 74, 74, 256)  1024        block3_sepconv1[0][0]            \n",
      "__________________________________________________________________________________________________\n",
      "block3_sepconv2_act (Activation (None, 74, 74, 256)  0           block3_sepconv1_bn[0][0]         \n",
      "__________________________________________________________________________________________________\n",
      "block3_sepconv2 (SeparableConv2 (None, 74, 74, 256)  67840       block3_sepconv2_act[0][0]        \n",
      "__________________________________________________________________________________________________\n",
      "block3_sepconv2_bn (BatchNormal (None, 74, 74, 256)  1024        block3_sepconv2[0][0]            \n",
      "__________________________________________________________________________________________________\n",
      "conv2d_1 (Conv2D)               (None, 37, 37, 256)  32768       add[0][0]                        \n",
      "__________________________________________________________________________________________________\n",
      "block3_pool (MaxPooling2D)      (None, 37, 37, 256)  0           block3_sepconv2_bn[0][0]         \n",
      "__________________________________________________________________________________________________\n",
      "batch_normalization_1 (BatchNor (None, 37, 37, 256)  1024        conv2d_1[0][0]                   \n",
      "__________________________________________________________________________________________________\n",
      "add_1 (Add)                     (None, 37, 37, 256)  0           block3_pool[0][0]                \n",
      "                                                                 batch_normalization_1[0][0]      \n",
      "__________________________________________________________________________________________________\n",
      "block4_sepconv1_act (Activation (None, 37, 37, 256)  0           add_1[0][0]                      \n",
      "__________________________________________________________________________________________________\n",
      "block4_sepconv1 (SeparableConv2 (None, 37, 37, 728)  188672      block4_sepconv1_act[0][0]        \n",
      "__________________________________________________________________________________________________\n",
      "block4_sepconv1_bn (BatchNormal (None, 37, 37, 728)  2912        block4_sepconv1[0][0]            \n",
      "__________________________________________________________________________________________________\n",
      "block4_sepconv2_act (Activation (None, 37, 37, 728)  0           block4_sepconv1_bn[0][0]         \n",
      "__________________________________________________________________________________________________\n",
      "block4_sepconv2 (SeparableConv2 (None, 37, 37, 728)  536536      block4_sepconv2_act[0][0]        \n",
      "__________________________________________________________________________________________________\n",
      "block4_sepconv2_bn (BatchNormal (None, 37, 37, 728)  2912        block4_sepconv2[0][0]            \n",
      "__________________________________________________________________________________________________\n",
      "conv2d_2 (Conv2D)               (None, 19, 19, 728)  186368      add_1[0][0]                      \n",
      "__________________________________________________________________________________________________\n",
      "block4_pool (MaxPooling2D)      (None, 19, 19, 728)  0           block4_sepconv2_bn[0][0]         \n",
      "__________________________________________________________________________________________________\n",
      "batch_normalization_2 (BatchNor (None, 19, 19, 728)  2912        conv2d_2[0][0]                   \n",
      "__________________________________________________________________________________________________\n",
      "add_2 (Add)                     (None, 19, 19, 728)  0           block4_pool[0][0]                \n",
      "                                                                 batch_normalization_2[0][0]      \n",
      "__________________________________________________________________________________________________\n",
      "block5_sepconv1_act (Activation (None, 19, 19, 728)  0           add_2[0][0]                      \n",
      "__________________________________________________________________________________________________\n",
      "block5_sepconv1 (SeparableConv2 (None, 19, 19, 728)  536536      block5_sepconv1_act[0][0]        \n",
      "__________________________________________________________________________________________________\n",
      "block5_sepconv1_bn (BatchNormal (None, 19, 19, 728)  2912        block5_sepconv1[0][0]            \n",
      "__________________________________________________________________________________________________\n",
      "block5_sepconv2_act (Activation (None, 19, 19, 728)  0           block5_sepconv1_bn[0][0]         \n",
      "__________________________________________________________________________________________________\n",
      "block5_sepconv2 (SeparableConv2 (None, 19, 19, 728)  536536      block5_sepconv2_act[0][0]        \n",
      "__________________________________________________________________________________________________\n",
      "block5_sepconv2_bn (BatchNormal (None, 19, 19, 728)  2912        block5_sepconv2[0][0]            \n",
      "__________________________________________________________________________________________________\n",
      "block5_sepconv3_act (Activation (None, 19, 19, 728)  0           block5_sepconv2_bn[0][0]         \n",
      "__________________________________________________________________________________________________\n",
      "block5_sepconv3 (SeparableConv2 (None, 19, 19, 728)  536536      block5_sepconv3_act[0][0]        \n",
      "__________________________________________________________________________________________________\n",
      "block5_sepconv3_bn (BatchNormal (None, 19, 19, 728)  2912        block5_sepconv3[0][0]            \n",
      "__________________________________________________________________________________________________\n",
      "add_3 (Add)                     (None, 19, 19, 728)  0           block5_sepconv3_bn[0][0]         \n",
      "                                                                 add_2[0][0]                      \n",
      "__________________________________________________________________________________________________\n",
      "block6_sepconv1_act (Activation (None, 19, 19, 728)  0           add_3[0][0]                      \n",
      "__________________________________________________________________________________________________\n",
      "block6_sepconv1 (SeparableConv2 (None, 19, 19, 728)  536536      block6_sepconv1_act[0][0]        \n",
      "__________________________________________________________________________________________________\n",
      "block6_sepconv1_bn (BatchNormal (None, 19, 19, 728)  2912        block6_sepconv1[0][0]            \n",
      "__________________________________________________________________________________________________\n",
      "block6_sepconv2_act (Activation (None, 19, 19, 728)  0           block6_sepconv1_bn[0][0]         \n",
      "__________________________________________________________________________________________________\n",
      "block6_sepconv2 (SeparableConv2 (None, 19, 19, 728)  536536      block6_sepconv2_act[0][0]        \n",
      "__________________________________________________________________________________________________\n",
      "block6_sepconv2_bn (BatchNormal (None, 19, 19, 728)  2912        block6_sepconv2[0][0]            \n",
      "__________________________________________________________________________________________________\n",
      "block6_sepconv3_act (Activation (None, 19, 19, 728)  0           block6_sepconv2_bn[0][0]         \n",
      "__________________________________________________________________________________________________\n",
      "block6_sepconv3 (SeparableConv2 (None, 19, 19, 728)  536536      block6_sepconv3_act[0][0]        \n",
      "__________________________________________________________________________________________________\n",
      "block6_sepconv3_bn (BatchNormal (None, 19, 19, 728)  2912        block6_sepconv3[0][0]            \n",
      "__________________________________________________________________________________________________\n",
      "add_4 (Add)                     (None, 19, 19, 728)  0           block6_sepconv3_bn[0][0]         \n",
      "                                                                 add_3[0][0]                      \n",
      "__________________________________________________________________________________________________\n",
      "block7_sepconv1_act (Activation (None, 19, 19, 728)  0           add_4[0][0]                      \n",
      "__________________________________________________________________________________________________\n",
      "block7_sepconv1 (SeparableConv2 (None, 19, 19, 728)  536536      block7_sepconv1_act[0][0]        \n",
      "__________________________________________________________________________________________________\n",
      "block7_sepconv1_bn (BatchNormal (None, 19, 19, 728)  2912        block7_sepconv1[0][0]            \n",
      "__________________________________________________________________________________________________\n",
      "block7_sepconv2_act (Activation (None, 19, 19, 728)  0           block7_sepconv1_bn[0][0]         \n",
      "__________________________________________________________________________________________________\n",
      "block7_sepconv2 (SeparableConv2 (None, 19, 19, 728)  536536      block7_sepconv2_act[0][0]        \n",
      "__________________________________________________________________________________________________\n",
      "block7_sepconv2_bn (BatchNormal (None, 19, 19, 728)  2912        block7_sepconv2[0][0]            \n",
      "__________________________________________________________________________________________________\n",
      "block7_sepconv3_act (Activation (None, 19, 19, 728)  0           block7_sepconv2_bn[0][0]         \n",
      "__________________________________________________________________________________________________\n",
      "block7_sepconv3 (SeparableConv2 (None, 19, 19, 728)  536536      block7_sepconv3_act[0][0]        \n",
      "__________________________________________________________________________________________________\n",
      "block7_sepconv3_bn (BatchNormal (None, 19, 19, 728)  2912        block7_sepconv3[0][0]            \n",
      "__________________________________________________________________________________________________\n",
      "add_5 (Add)                     (None, 19, 19, 728)  0           block7_sepconv3_bn[0][0]         \n",
      "                                                                 add_4[0][0]                      \n",
      "__________________________________________________________________________________________________\n",
      "block8_sepconv1_act (Activation (None, 19, 19, 728)  0           add_5[0][0]                      \n",
      "__________________________________________________________________________________________________\n",
      "block8_sepconv1 (SeparableConv2 (None, 19, 19, 728)  536536      block8_sepconv1_act[0][0]        \n",
      "__________________________________________________________________________________________________\n",
      "block8_sepconv1_bn (BatchNormal (None, 19, 19, 728)  2912        block8_sepconv1[0][0]            \n",
      "__________________________________________________________________________________________________\n",
      "block8_sepconv2_act (Activation (None, 19, 19, 728)  0           block8_sepconv1_bn[0][0]         \n",
      "__________________________________________________________________________________________________\n",
      "block8_sepconv2 (SeparableConv2 (None, 19, 19, 728)  536536      block8_sepconv2_act[0][0]        \n",
      "__________________________________________________________________________________________________\n",
      "block8_sepconv2_bn (BatchNormal (None, 19, 19, 728)  2912        block8_sepconv2[0][0]            \n",
      "__________________________________________________________________________________________________\n",
      "block8_sepconv3_act (Activation (None, 19, 19, 728)  0           block8_sepconv2_bn[0][0]         \n",
      "__________________________________________________________________________________________________\n",
      "block8_sepconv3 (SeparableConv2 (None, 19, 19, 728)  536536      block8_sepconv3_act[0][0]        \n",
      "__________________________________________________________________________________________________\n",
      "block8_sepconv3_bn (BatchNormal (None, 19, 19, 728)  2912        block8_sepconv3[0][0]            \n",
      "__________________________________________________________________________________________________\n",
      "add_6 (Add)                     (None, 19, 19, 728)  0           block8_sepconv3_bn[0][0]         \n",
      "                                                                 add_5[0][0]                      \n",
      "__________________________________________________________________________________________________\n",
      "block9_sepconv1_act (Activation (None, 19, 19, 728)  0           add_6[0][0]                      \n",
      "__________________________________________________________________________________________________\n",
      "block9_sepconv1 (SeparableConv2 (None, 19, 19, 728)  536536      block9_sepconv1_act[0][0]        \n",
      "__________________________________________________________________________________________________\n",
      "block9_sepconv1_bn (BatchNormal (None, 19, 19, 728)  2912        block9_sepconv1[0][0]            \n",
      "__________________________________________________________________________________________________\n",
      "block9_sepconv2_act (Activation (None, 19, 19, 728)  0           block9_sepconv1_bn[0][0]         \n",
      "__________________________________________________________________________________________________\n",
      "block9_sepconv2 (SeparableConv2 (None, 19, 19, 728)  536536      block9_sepconv2_act[0][0]        \n",
      "__________________________________________________________________________________________________\n",
      "block9_sepconv2_bn (BatchNormal (None, 19, 19, 728)  2912        block9_sepconv2[0][0]            \n",
      "__________________________________________________________________________________________________\n",
      "block9_sepconv3_act (Activation (None, 19, 19, 728)  0           block9_sepconv2_bn[0][0]         \n",
      "__________________________________________________________________________________________________\n",
      "block9_sepconv3 (SeparableConv2 (None, 19, 19, 728)  536536      block9_sepconv3_act[0][0]        \n",
      "__________________________________________________________________________________________________\n",
      "block9_sepconv3_bn (BatchNormal (None, 19, 19, 728)  2912        block9_sepconv3[0][0]            \n",
      "__________________________________________________________________________________________________\n",
      "add_7 (Add)                     (None, 19, 19, 728)  0           block9_sepconv3_bn[0][0]         \n",
      "                                                                 add_6[0][0]                      \n",
      "__________________________________________________________________________________________________\n",
      "block10_sepconv1_act (Activatio (None, 19, 19, 728)  0           add_7[0][0]                      \n",
      "__________________________________________________________________________________________________\n",
      "block10_sepconv1 (SeparableConv (None, 19, 19, 728)  536536      block10_sepconv1_act[0][0]       \n",
      "__________________________________________________________________________________________________\n",
      "block10_sepconv1_bn (BatchNorma (None, 19, 19, 728)  2912        block10_sepconv1[0][0]           \n",
      "__________________________________________________________________________________________________\n",
      "block10_sepconv2_act (Activatio (None, 19, 19, 728)  0           block10_sepconv1_bn[0][0]        \n",
      "__________________________________________________________________________________________________\n",
      "block10_sepconv2 (SeparableConv (None, 19, 19, 728)  536536      block10_sepconv2_act[0][0]       \n",
      "__________________________________________________________________________________________________\n",
      "block10_sepconv2_bn (BatchNorma (None, 19, 19, 728)  2912        block10_sepconv2[0][0]           \n",
      "__________________________________________________________________________________________________\n",
      "block10_sepconv3_act (Activatio (None, 19, 19, 728)  0           block10_sepconv2_bn[0][0]        \n",
      "__________________________________________________________________________________________________\n",
      "block10_sepconv3 (SeparableConv (None, 19, 19, 728)  536536      block10_sepconv3_act[0][0]       \n",
      "__________________________________________________________________________________________________\n",
      "block10_sepconv3_bn (BatchNorma (None, 19, 19, 728)  2912        block10_sepconv3[0][0]           \n",
      "__________________________________________________________________________________________________\n",
      "add_8 (Add)                     (None, 19, 19, 728)  0           block10_sepconv3_bn[0][0]        \n",
      "                                                                 add_7[0][0]                      \n",
      "__________________________________________________________________________________________________\n",
      "block11_sepconv1_act (Activatio (None, 19, 19, 728)  0           add_8[0][0]                      \n",
      "__________________________________________________________________________________________________\n",
      "block11_sepconv1 (SeparableConv (None, 19, 19, 728)  536536      block11_sepconv1_act[0][0]       \n",
      "__________________________________________________________________________________________________\n",
      "block11_sepconv1_bn (BatchNorma (None, 19, 19, 728)  2912        block11_sepconv1[0][0]           \n",
      "__________________________________________________________________________________________________\n",
      "block11_sepconv2_act (Activatio (None, 19, 19, 728)  0           block11_sepconv1_bn[0][0]        \n",
      "__________________________________________________________________________________________________\n",
      "block11_sepconv2 (SeparableConv (None, 19, 19, 728)  536536      block11_sepconv2_act[0][0]       \n",
      "__________________________________________________________________________________________________\n",
      "block11_sepconv2_bn (BatchNorma (None, 19, 19, 728)  2912        block11_sepconv2[0][0]           \n",
      "__________________________________________________________________________________________________\n",
      "block11_sepconv3_act (Activatio (None, 19, 19, 728)  0           block11_sepconv2_bn[0][0]        \n",
      "__________________________________________________________________________________________________\n",
      "block11_sepconv3 (SeparableConv (None, 19, 19, 728)  536536      block11_sepconv3_act[0][0]       \n",
      "__________________________________________________________________________________________________\n",
      "block11_sepconv3_bn (BatchNorma (None, 19, 19, 728)  2912        block11_sepconv3[0][0]           \n",
      "__________________________________________________________________________________________________\n",
      "add_9 (Add)                     (None, 19, 19, 728)  0           block11_sepconv3_bn[0][0]        \n",
      "                                                                 add_8[0][0]                      \n",
      "__________________________________________________________________________________________________\n",
      "block12_sepconv1_act (Activatio (None, 19, 19, 728)  0           add_9[0][0]                      \n",
      "__________________________________________________________________________________________________\n",
      "block12_sepconv1 (SeparableConv (None, 19, 19, 728)  536536      block12_sepconv1_act[0][0]       \n",
      "__________________________________________________________________________________________________\n",
      "block12_sepconv1_bn (BatchNorma (None, 19, 19, 728)  2912        block12_sepconv1[0][0]           \n",
      "__________________________________________________________________________________________________\n",
      "block12_sepconv2_act (Activatio (None, 19, 19, 728)  0           block12_sepconv1_bn[0][0]        \n",
      "__________________________________________________________________________________________________\n",
      "block12_sepconv2 (SeparableConv (None, 19, 19, 728)  536536      block12_sepconv2_act[0][0]       \n",
      "__________________________________________________________________________________________________\n",
      "block12_sepconv2_bn (BatchNorma (None, 19, 19, 728)  2912        block12_sepconv2[0][0]           \n",
      "__________________________________________________________________________________________________\n",
      "block12_sepconv3_act (Activatio (None, 19, 19, 728)  0           block12_sepconv2_bn[0][0]        \n",
      "__________________________________________________________________________________________________\n",
      "block12_sepconv3 (SeparableConv (None, 19, 19, 728)  536536      block12_sepconv3_act[0][0]       \n",
      "__________________________________________________________________________________________________\n",
      "block12_sepconv3_bn (BatchNorma (None, 19, 19, 728)  2912        block12_sepconv3[0][0]           \n",
      "__________________________________________________________________________________________________\n",
      "add_10 (Add)                    (None, 19, 19, 728)  0           block12_sepconv3_bn[0][0]        \n",
      "                                                                 add_9[0][0]                      \n",
      "__________________________________________________________________________________________________\n",
      "block13_sepconv1_act (Activatio (None, 19, 19, 728)  0           add_10[0][0]                     \n",
      "__________________________________________________________________________________________________\n",
      "block13_sepconv1 (SeparableConv (None, 19, 19, 728)  536536      block13_sepconv1_act[0][0]       \n",
      "__________________________________________________________________________________________________\n",
      "block13_sepconv1_bn (BatchNorma (None, 19, 19, 728)  2912        block13_sepconv1[0][0]           \n",
      "__________________________________________________________________________________________________\n",
      "block13_sepconv2_act (Activatio (None, 19, 19, 728)  0           block13_sepconv1_bn[0][0]        \n",
      "__________________________________________________________________________________________________\n",
      "block13_sepconv2 (SeparableConv (None, 19, 19, 1024) 752024      block13_sepconv2_act[0][0]       \n",
      "__________________________________________________________________________________________________\n",
      "block13_sepconv2_bn (BatchNorma (None, 19, 19, 1024) 4096        block13_sepconv2[0][0]           \n",
      "__________________________________________________________________________________________________\n",
      "conv2d_3 (Conv2D)               (None, 10, 10, 1024) 745472      add_10[0][0]                     \n",
      "__________________________________________________________________________________________________\n",
      "block13_pool (MaxPooling2D)     (None, 10, 10, 1024) 0           block13_sepconv2_bn[0][0]        \n",
      "__________________________________________________________________________________________________\n",
      "batch_normalization_3 (BatchNor (None, 10, 10, 1024) 4096        conv2d_3[0][0]                   \n",
      "__________________________________________________________________________________________________\n",
      "add_11 (Add)                    (None, 10, 10, 1024) 0           block13_pool[0][0]               \n",
      "                                                                 batch_normalization_3[0][0]      \n",
      "__________________________________________________________________________________________________\n",
      "block14_sepconv1 (SeparableConv (None, 10, 10, 1536) 1582080     add_11[0][0]                     \n",
      "__________________________________________________________________________________________________\n",
      "block14_sepconv1_bn (BatchNorma (None, 10, 10, 1536) 6144        block14_sepconv1[0][0]           \n",
      "__________________________________________________________________________________________________\n",
      "block14_sepconv1_act (Activatio (None, 10, 10, 1536) 0           block14_sepconv1_bn[0][0]        \n",
      "__________________________________________________________________________________________________\n",
      "block14_sepconv2 (SeparableConv (None, 10, 10, 2048) 3159552     block14_sepconv1_act[0][0]       \n",
      "__________________________________________________________________________________________________\n",
      "block14_sepconv2_bn (BatchNorma (None, 10, 10, 2048) 8192        block14_sepconv2[0][0]           \n",
      "__________________________________________________________________________________________________\n",
      "block14_sepconv2_act (Activatio (None, 10, 10, 2048) 0           block14_sepconv2_bn[0][0]        \n",
      "__________________________________________________________________________________________________\n",
      "avg_pool (GlobalAveragePooling2 (None, 2048)         0           block14_sepconv2_act[0][0]       \n",
      "__________________________________________________________________________________________________\n",
      "batch_normalization_4 (BatchNor (None, 2048)         8192        avg_pool[0][0]                   \n",
      "__________________________________________________________________________________________________\n",
      "top_dropout (Dropout)           (None, 2048)         0           batch_normalization_4[0][0]      \n",
      "__________________________________________________________________________________________________\n",
      "dropout (Dropout)               (None, 2048)         0           top_dropout[0][0]                \n",
      "__________________________________________________________________________________________________\n",
      "dense (Dense)                   (None, 256)          524544      dropout[0][0]                    \n",
      "__________________________________________________________________________________________________\n",
      "dropout_1 (Dropout)             (None, 256)          0           dense[0][0]                      \n",
      "__________________________________________________________________________________________________\n",
      "dense_1 (Dense)                 (None, 128)          32896       dropout_1[0][0]                  \n",
      "__________________________________________________________________________________________________\n",
      "dense_2 (Dense)                 (None, 12)           1548        dense_1[0][0]                    \n",
      "==================================================================================================\n",
      "Total params: 21,428,660\n",
      "Trainable params: 21,370,036\n",
      "Non-trainable params: 58,624\n",
      "__________________________________________________________________________________________________\n"
     ]
    }
   ],
   "source": [
    "model = create_model()\n",
    "model.summary()"
   ]
  },
  {
   "cell_type": "code",
   "execution_count": 12,
   "id": "f3bc731b",
   "metadata": {
    "execution": {
     "iopub.execute_input": "2022-04-11T03:32:18.159058Z",
     "iopub.status.busy": "2022-04-11T03:32:18.158283Z",
     "iopub.status.idle": "2022-04-11T10:06:29.556541Z",
     "shell.execute_reply": "2022-04-11T10:06:29.556075Z",
     "shell.execute_reply.started": "2022-04-10T10:54:08.195161Z"
    },
    "papermill": {
     "duration": 23651.426089,
     "end_time": "2022-04-11T10:06:29.556686",
     "exception": false,
     "start_time": "2022-04-11T03:32:18.130597",
     "status": "completed"
    },
    "tags": []
   },
   "outputs": [
    {
     "name": "stderr",
     "output_type": "stream",
     "text": [
      "2022-04-11 03:32:18.946324: I tensorflow/compiler/mlir/mlir_graph_optimization_pass.cc:185] None of the MLIR Optimization Passes are enabled (registered 2)\n"
     ]
    },
    {
     "name": "stdout",
     "output_type": "stream",
     "text": [
      "Epoch 1/70\n"
     ]
    },
    {
     "name": "stderr",
     "output_type": "stream",
     "text": [
      "2022-04-11 03:32:24.236333: I tensorflow/stream_executor/cuda/cuda_dnn.cc:369] Loaded cuDNN version 8005\n"
     ]
    },
    {
     "name": "stdout",
     "output_type": "stream",
     "text": [
      "637/637 [==============================] - 438s 670ms/step - loss: 1.0913 - accuracy: 0.6511 - val_loss: 0.4996 - val_accuracy: 0.8203\n",
      "\n",
      "Epoch 00001: loss improved from inf to 1.09134, saving model to model.h5\n"
     ]
    },
    {
     "name": "stderr",
     "output_type": "stream",
     "text": [
      "/opt/conda/lib/python3.7/site-packages/keras/utils/generic_utils.py:497: CustomMaskWarning: Custom mask layers require a config and must override get_config. When loading, the custom mask layer must be passed to the custom_objects argument.\n",
      "  category=CustomMaskWarning)\n"
     ]
    },
    {
     "name": "stdout",
     "output_type": "stream",
     "text": [
      "Epoch 2/70\n",
      "637/637 [==============================] - 365s 572ms/step - loss: 0.5447 - accuracy: 0.8122 - val_loss: 0.3464 - val_accuracy: 0.8811\n",
      "\n",
      "Epoch 00002: loss improved from 1.09134 to 0.54474, saving model to model.h5\n",
      "Epoch 3/70\n",
      "637/637 [==============================] - 366s 574ms/step - loss: 0.4247 - accuracy: 0.8539 - val_loss: 0.3183 - val_accuracy: 0.8951\n",
      "\n",
      "Epoch 00003: loss improved from 0.54474 to 0.42470, saving model to model.h5\n",
      "Epoch 4/70\n",
      "637/637 [==============================] - 366s 574ms/step - loss: 0.3583 - accuracy: 0.8764 - val_loss: 0.2592 - val_accuracy: 0.9079\n",
      "\n",
      "Epoch 00004: loss improved from 0.42470 to 0.35834, saving model to model.h5\n",
      "Epoch 5/70\n",
      "637/637 [==============================] - 367s 575ms/step - loss: 0.3256 - accuracy: 0.8888 - val_loss: 0.2075 - val_accuracy: 0.9241\n",
      "\n",
      "Epoch 00005: loss improved from 0.35834 to 0.32559, saving model to model.h5\n",
      "Epoch 6/70\n",
      "637/637 [==============================] - 368s 578ms/step - loss: 0.2911 - accuracy: 0.8993 - val_loss: 0.1880 - val_accuracy: 0.9336\n",
      "\n",
      "Epoch 00006: loss improved from 0.32559 to 0.29107, saving model to model.h5\n",
      "Epoch 7/70\n",
      "637/637 [==============================] - 371s 582ms/step - loss: 0.2571 - accuracy: 0.9117 - val_loss: 0.9352 - val_accuracy: 0.7556\n",
      "\n",
      "Epoch 00007: loss improved from 0.29107 to 0.25711, saving model to model.h5\n",
      "Epoch 8/70\n",
      "637/637 [==============================] - 373s 585ms/step - loss: 0.2519 - accuracy: 0.9151 - val_loss: 0.2303 - val_accuracy: 0.9191\n",
      "\n",
      "Epoch 00008: loss improved from 0.25711 to 0.25194, saving model to model.h5\n",
      "Epoch 9/70\n",
      "637/637 [==============================] - 374s 586ms/step - loss: 0.2291 - accuracy: 0.9218 - val_loss: 0.1990 - val_accuracy: 0.9247\n",
      "\n",
      "Epoch 00009: loss improved from 0.25194 to 0.22910, saving model to model.h5\n",
      "Epoch 10/70\n",
      "637/637 [==============================] - 374s 587ms/step - loss: 0.2244 - accuracy: 0.9223 - val_loss: 0.1438 - val_accuracy: 0.9492\n",
      "\n",
      "Epoch 00010: loss improved from 0.22910 to 0.22441, saving model to model.h5\n",
      "Epoch 11/70\n",
      "637/637 [==============================] - 375s 588ms/step - loss: 0.1965 - accuracy: 0.9310 - val_loss: 0.1776 - val_accuracy: 0.9386\n",
      "\n",
      "Epoch 00011: loss improved from 0.22441 to 0.19646, saving model to model.h5\n",
      "Epoch 12/70\n",
      "637/637 [==============================] - 377s 591ms/step - loss: 0.2073 - accuracy: 0.9272 - val_loss: 0.1421 - val_accuracy: 0.9470\n",
      "\n",
      "Epoch 00012: loss did not improve from 0.19646\n",
      "Epoch 13/70\n",
      "637/637 [==============================] - 377s 591ms/step - loss: 0.1959 - accuracy: 0.9297 - val_loss: 0.1724 - val_accuracy: 0.9386\n",
      "\n",
      "Epoch 00013: loss improved from 0.19646 to 0.19586, saving model to model.h5\n",
      "Epoch 14/70\n",
      "637/637 [==============================] - 378s 592ms/step - loss: 0.1730 - accuracy: 0.9386 - val_loss: 0.1439 - val_accuracy: 0.9448\n",
      "\n",
      "Epoch 00014: loss improved from 0.19586 to 0.17303, saving model to model.h5\n",
      "Epoch 15/70\n",
      "637/637 [==============================] - 380s 597ms/step - loss: 0.1741 - accuracy: 0.9395 - val_loss: 0.1309 - val_accuracy: 0.9565\n",
      "\n",
      "Epoch 00015: loss did not improve from 0.17303\n",
      "Epoch 16/70\n",
      "637/637 [==============================] - 382s 599ms/step - loss: 0.1790 - accuracy: 0.9401 - val_loss: 0.1489 - val_accuracy: 0.9487\n",
      "\n",
      "Epoch 00016: loss did not improve from 0.17303\n",
      "Epoch 17/70\n",
      "637/637 [==============================] - 379s 594ms/step - loss: 0.1646 - accuracy: 0.9434 - val_loss: 0.1301 - val_accuracy: 0.9576\n",
      "\n",
      "Epoch 00017: loss improved from 0.17303 to 0.16464, saving model to model.h5\n",
      "Epoch 18/70\n",
      "637/637 [==============================] - 373s 585ms/step - loss: 0.1592 - accuracy: 0.9465 - val_loss: 0.1196 - val_accuracy: 0.9470\n",
      "\n",
      "Epoch 00018: loss improved from 0.16464 to 0.15918, saving model to model.h5\n",
      "Epoch 19/70\n",
      "637/637 [==============================] - 374s 587ms/step - loss: 0.1545 - accuracy: 0.9447 - val_loss: 0.1544 - val_accuracy: 0.9431\n",
      "\n",
      "Epoch 00019: loss improved from 0.15918 to 0.15453, saving model to model.h5\n",
      "Epoch 20/70\n",
      "637/637 [==============================] - 375s 588ms/step - loss: 0.1477 - accuracy: 0.9490 - val_loss: 0.1209 - val_accuracy: 0.9559\n",
      "\n",
      "Epoch 00020: loss improved from 0.15453 to 0.14772, saving model to model.h5\n",
      "Epoch 21/70\n",
      "637/637 [==============================] - 373s 585ms/step - loss: 0.1492 - accuracy: 0.9498 - val_loss: 0.1200 - val_accuracy: 0.9581\n",
      "\n",
      "Epoch 00021: loss did not improve from 0.14772\n",
      "Epoch 22/70\n",
      "637/637 [==============================] - 374s 586ms/step - loss: 0.1584 - accuracy: 0.9482 - val_loss: 0.1261 - val_accuracy: 0.9542\n",
      "\n",
      "Epoch 00022: loss did not improve from 0.14772\n",
      "Epoch 23/70\n",
      "637/637 [==============================] - 373s 585ms/step - loss: 0.1310 - accuracy: 0.9541 - val_loss: 0.1286 - val_accuracy: 0.9593\n",
      "\n",
      "Epoch 00023: loss improved from 0.14772 to 0.13098, saving model to model.h5\n",
      "Epoch 24/70\n",
      "637/637 [==============================] - 374s 586ms/step - loss: 0.1428 - accuracy: 0.9510 - val_loss: 0.1108 - val_accuracy: 0.9587\n",
      "\n",
      "Epoch 00024: loss did not improve from 0.13098\n",
      "Epoch 25/70\n",
      "637/637 [==============================] - 381s 598ms/step - loss: 0.1313 - accuracy: 0.9547 - val_loss: 0.0972 - val_accuracy: 0.9648\n",
      "\n",
      "Epoch 00025: loss did not improve from 0.13098\n",
      "Epoch 26/70\n",
      "637/637 [==============================] - 383s 601ms/step - loss: 0.1300 - accuracy: 0.9562 - val_loss: 0.0973 - val_accuracy: 0.9660\n",
      "\n",
      "Epoch 00026: loss improved from 0.13098 to 0.12998, saving model to model.h5\n",
      "Epoch 27/70\n",
      "637/637 [==============================] - 382s 600ms/step - loss: 0.1436 - accuracy: 0.9493 - val_loss: 0.1433 - val_accuracy: 0.9581\n",
      "\n",
      "Epoch 00027: loss did not improve from 0.12998\n",
      "Epoch 28/70\n",
      "637/637 [==============================] - 381s 598ms/step - loss: 0.1333 - accuracy: 0.9554 - val_loss: 0.1431 - val_accuracy: 0.9475\n",
      "\n",
      "Epoch 00028: loss did not improve from 0.12998\n",
      "Epoch 29/70\n",
      "637/637 [==============================] - 382s 600ms/step - loss: 0.1395 - accuracy: 0.9534 - val_loss: 0.1153 - val_accuracy: 0.9621\n",
      "\n",
      "Epoch 00029: loss did not improve from 0.12998\n",
      "\n",
      "Epoch 00029: ReduceLROnPlateau reducing learning rate to 3.9999998989515007e-05.\n",
      "Epoch 30/70\n",
      "637/637 [==============================] - 383s 601ms/step - loss: 0.1002 - accuracy: 0.9641 - val_loss: 0.0827 - val_accuracy: 0.9699\n",
      "\n",
      "Epoch 00030: loss improved from 0.12998 to 0.10019, saving model to model.h5\n",
      "Epoch 31/70\n",
      "637/637 [==============================] - 383s 600ms/step - loss: 0.0953 - accuracy: 0.9660 - val_loss: 0.0684 - val_accuracy: 0.9766\n",
      "\n",
      "Epoch 00031: loss improved from 0.10019 to 0.09526, saving model to model.h5\n",
      "Epoch 32/70\n",
      "637/637 [==============================] - 382s 599ms/step - loss: 0.0889 - accuracy: 0.9681 - val_loss: 0.0871 - val_accuracy: 0.9688\n",
      "\n",
      "Epoch 00032: loss improved from 0.09526 to 0.08887, saving model to model.h5\n",
      "Epoch 33/70\n",
      "637/637 [==============================] - 386s 605ms/step - loss: 0.0872 - accuracy: 0.9701 - val_loss: 0.0597 - val_accuracy: 0.9788\n",
      "\n",
      "Epoch 00033: loss improved from 0.08887 to 0.08716, saving model to model.h5\n",
      "Epoch 34/70\n",
      "637/637 [==============================] - 385s 604ms/step - loss: 0.0889 - accuracy: 0.9683 - val_loss: 0.0651 - val_accuracy: 0.9771\n",
      "\n",
      "Epoch 00034: loss did not improve from 0.08716\n",
      "Epoch 35/70\n",
      "637/637 [==============================] - 385s 604ms/step - loss: 0.0776 - accuracy: 0.9731 - val_loss: 0.0679 - val_accuracy: 0.9777\n",
      "\n",
      "Epoch 00035: loss improved from 0.08716 to 0.07763, saving model to model.h5\n",
      "Epoch 36/70\n",
      "637/637 [==============================] - 388s 607ms/step - loss: 0.0807 - accuracy: 0.9712 - val_loss: 0.0669 - val_accuracy: 0.9782\n",
      "\n",
      "Epoch 00036: loss did not improve from 0.07763\n",
      "Epoch 37/70\n",
      "637/637 [==============================] - 380s 596ms/step - loss: 0.0809 - accuracy: 0.9725 - val_loss: 0.0843 - val_accuracy: 0.9676\n",
      "\n",
      "Epoch 00037: loss did not improve from 0.07763\n",
      "Epoch 38/70\n",
      "637/637 [==============================] - 378s 593ms/step - loss: 0.0837 - accuracy: 0.9701 - val_loss: 0.0567 - val_accuracy: 0.9816\n",
      "\n",
      "Epoch 00038: loss did not improve from 0.07763\n",
      "\n",
      "Epoch 00038: ReduceLROnPlateau reducing learning rate to 1.5999999595806004e-05.\n",
      "Epoch 39/70\n",
      "637/637 [==============================] - 380s 597ms/step - loss: 0.0766 - accuracy: 0.9731 - val_loss: 0.0596 - val_accuracy: 0.9782\n",
      "\n",
      "Epoch 00039: loss improved from 0.07763 to 0.07664, saving model to model.h5\n",
      "Epoch 40/70\n",
      "637/637 [==============================] - 377s 592ms/step - loss: 0.0654 - accuracy: 0.9783 - val_loss: 0.0583 - val_accuracy: 0.9805\n",
      "\n",
      "Epoch 00040: loss improved from 0.07664 to 0.06538, saving model to model.h5\n",
      "Epoch 41/70\n",
      "637/637 [==============================] - 379s 595ms/step - loss: 0.0654 - accuracy: 0.9783 - val_loss: 0.0673 - val_accuracy: 0.9777\n",
      "\n",
      "Epoch 00041: loss did not improve from 0.06538\n",
      "Epoch 42/70\n",
      "637/637 [==============================] - 383s 600ms/step - loss: 0.0650 - accuracy: 0.9771 - val_loss: 0.0581 - val_accuracy: 0.9810\n",
      "\n",
      "Epoch 00042: loss improved from 0.06538 to 0.06501, saving model to model.h5\n",
      "Epoch 43/70\n",
      "637/637 [==============================] - 382s 599ms/step - loss: 0.0659 - accuracy: 0.9773 - val_loss: 0.0584 - val_accuracy: 0.9805\n",
      "\n",
      "Epoch 00043: loss did not improve from 0.06501\n",
      "Epoch 44/70\n",
      "637/637 [==============================] - 380s 597ms/step - loss: 0.0625 - accuracy: 0.9791 - val_loss: 0.0666 - val_accuracy: 0.9782\n",
      "\n",
      "Epoch 00044: loss improved from 0.06501 to 0.06245, saving model to model.h5\n",
      "Epoch 45/70\n",
      "637/637 [==============================] - 376s 590ms/step - loss: 0.0615 - accuracy: 0.9781 - val_loss: 0.0566 - val_accuracy: 0.9799\n",
      "\n",
      "Epoch 00045: loss improved from 0.06245 to 0.06152, saving model to model.h5\n",
      "Epoch 46/70\n",
      "637/637 [==============================] - 380s 596ms/step - loss: 0.0659 - accuracy: 0.9773 - val_loss: 0.0411 - val_accuracy: 0.9838\n",
      "\n",
      "Epoch 00046: loss did not improve from 0.06152\n",
      "Epoch 47/70\n",
      "637/637 [==============================] - 382s 599ms/step - loss: 0.0617 - accuracy: 0.9790 - val_loss: 0.0530 - val_accuracy: 0.9827\n",
      "\n",
      "Epoch 00047: loss did not improve from 0.06152\n",
      "Epoch 48/70\n",
      "637/637 [==============================] - 375s 588ms/step - loss: 0.0677 - accuracy: 0.9777 - val_loss: 0.0597 - val_accuracy: 0.9782\n",
      "\n",
      "Epoch 00048: loss did not improve from 0.06152\n",
      "\n",
      "Epoch 00048: ReduceLROnPlateau reducing learning rate to 6.399999983841554e-06.\n",
      "Epoch 49/70\n",
      "637/637 [==============================] - 379s 594ms/step - loss: 0.0603 - accuracy: 0.9785 - val_loss: 0.0588 - val_accuracy: 0.9794\n",
      "\n",
      "Epoch 00049: loss improved from 0.06152 to 0.06035, saving model to model.h5\n",
      "Epoch 50/70\n",
      "637/637 [==============================] - 384s 602ms/step - loss: 0.0472 - accuracy: 0.9835 - val_loss: 0.0568 - val_accuracy: 0.9777\n",
      "\n",
      "Epoch 00050: loss improved from 0.06035 to 0.04722, saving model to model.h5\n",
      "Epoch 51/70\n",
      "637/637 [==============================] - 376s 591ms/step - loss: 0.0568 - accuracy: 0.9800 - val_loss: 0.0421 - val_accuracy: 0.9838\n",
      "\n",
      "Epoch 00051: loss did not improve from 0.04722\n",
      "Epoch 52/70\n",
      "637/637 [==============================] - 385s 603ms/step - loss: 0.0538 - accuracy: 0.9827 - val_loss: 0.0406 - val_accuracy: 0.9849\n",
      "\n",
      "Epoch 00052: loss did not improve from 0.04722\n",
      "Epoch 53/70\n",
      "637/637 [==============================] - 385s 604ms/step - loss: 0.0522 - accuracy: 0.9827 - val_loss: 0.0566 - val_accuracy: 0.9816\n",
      "\n",
      "Epoch 00053: loss did not improve from 0.04722\n",
      "\n",
      "Epoch 00053: ReduceLROnPlateau reducing learning rate to 2.5600000299164097e-06.\n",
      "Epoch 54/70\n",
      "637/637 [==============================] - 385s 604ms/step - loss: 0.0518 - accuracy: 0.9827 - val_loss: 0.0394 - val_accuracy: 0.9855\n",
      "\n",
      "Epoch 00054: loss did not improve from 0.04722\n",
      "Epoch 55/70\n",
      "637/637 [==============================] - 386s 605ms/step - loss: 0.0603 - accuracy: 0.9785 - val_loss: 0.0578 - val_accuracy: 0.9816\n",
      "\n",
      "Epoch 00055: loss did not improve from 0.04722\n",
      "Epoch 56/70\n",
      "637/637 [==============================] - 389s 610ms/step - loss: 0.0541 - accuracy: 0.9819 - val_loss: 0.0549 - val_accuracy: 0.9844\n",
      "\n",
      "Epoch 00056: loss did not improve from 0.04722\n",
      "\n",
      "Epoch 00056: ReduceLROnPlateau reducing learning rate to 1.0239999937766699e-06.\n",
      "Epoch 57/70\n",
      "637/637 [==============================] - 389s 610ms/step - loss: 0.0525 - accuracy: 0.9835 - val_loss: 0.0516 - val_accuracy: 0.9833\n",
      "\n",
      "Epoch 00057: loss did not improve from 0.04722\n",
      "Epoch 58/70\n",
      "637/637 [==============================] - 388s 609ms/step - loss: 0.0530 - accuracy: 0.9821 - val_loss: 0.0534 - val_accuracy: 0.9827\n",
      "\n",
      "Epoch 00058: loss did not improve from 0.04722\n",
      "Epoch 59/70\n",
      "637/637 [==============================] - 428s 672ms/step - loss: 0.0524 - accuracy: 0.9824 - val_loss: 0.0564 - val_accuracy: 0.9821\n",
      "\n",
      "Epoch 00059: loss did not improve from 0.04722\n",
      "\n",
      "Epoch 00059: ReduceLROnPlateau reducing learning rate to 4.095999884157209e-07.\n",
      "Epoch 60/70\n",
      "637/637 [==============================] - 390s 612ms/step - loss: 0.0563 - accuracy: 0.9819 - val_loss: 0.0455 - val_accuracy: 0.9872\n",
      "\n",
      "Epoch 00060: loss did not improve from 0.04722\n",
      "Restoring model weights from the end of the best epoch.\n",
      "Epoch 00060: early stopping\n"
     ]
    }
   ],
   "source": [
    "history = model.fit(\n",
    "    train_generator,\n",
    "    epochs=epochs,\n",
    "    steps_per_epoch=train_generator.samples // batch_size,\n",
    "    validation_data= validation_generator,\n",
    "    validation_steps=validation_generator.samples // batch_size,\n",
    "    callbacks = training_callbacks()\n",
    ")"
   ]
  },
  {
   "cell_type": "code",
   "execution_count": 13,
   "id": "d8019251",
   "metadata": {
    "execution": {
     "iopub.execute_input": "2022-04-11T10:06:55.088060Z",
     "iopub.status.busy": "2022-04-11T10:06:55.087369Z",
     "iopub.status.idle": "2022-04-11T10:06:55.351913Z",
     "shell.execute_reply": "2022-04-11T10:06:55.352511Z",
     "shell.execute_reply.started": "2022-04-10T10:52:48.110195Z"
    },
    "papermill": {
     "duration": 12.657694,
     "end_time": "2022-04-11T10:06:55.352686",
     "exception": false,
     "start_time": "2022-04-11T10:06:42.694992",
     "status": "completed"
    },
    "tags": []
   },
   "outputs": [
    {
     "data": {
      "image/png": "[encoded data removed]",
      "text/plain": [
       "<Figure size 432x288 with 1 Axes>"
      ]
     },
     "metadata": {},
     "output_type": "display_data"
    },
    {
     "data": {
      "text/plain": [
       "<Figure size 432x288 with 0 Axes>"
      ]
     },
     "metadata": {},
     "output_type": "display_data"
    }
   ],
   "source": [
    "plt.plot(history.history['accuracy'], label='train')\n",
    "plt.plot(history.history['val_accuracy'], label = \"validation\")\n",
    "plt.legend(loc='upper left')\n",
    "plt.title('Model accuracy')\n",
    "plt.ylabel('Accuracy')\n",
    "plt.xlabel('Epoch')\n",
    "plt.show()\n",
    "plt.savefig('Accuracy.png')"
   ]
  },
  {
   "cell_type": "code",
   "execution_count": 14,
   "id": "442b586c",
   "metadata": {
    "execution": {
     "iopub.execute_input": "2022-04-11T10:07:20.663900Z",
     "iopub.status.busy": "2022-04-11T10:07:20.663071Z",
     "iopub.status.idle": "2022-04-11T10:07:20.878994Z",
     "shell.execute_reply": "2022-04-11T10:07:20.879453Z",
     "shell.execute_reply.started": "2022-04-10T10:52:48.111868Z"
    },
    "papermill": {
     "duration": 13.156974,
     "end_time": "2022-04-11T10:07:20.879615",
     "exception": false,
     "start_time": "2022-04-11T10:07:07.722641",
     "status": "completed"
    },
    "tags": []
   },
   "outputs": [
    {
     "data": {
      "image/png": "[encoded data removed]",
      "text/plain": [
       "<Figure size 432x288 with 1 Axes>"
      ]
     },
     "metadata": {},
     "output_type": "display_data"
    },
    {
     "data": {
      "text/plain": [
       "<Figure size 432x288 with 0 Axes>"
      ]
     },
     "metadata": {},
     "output_type": "display_data"
    }
   ],
   "source": [
    "plt.plot(history.history['loss'], label='train')\n",
    "plt.plot(history.history['val_loss'], label = \"validation\")\n",
    "plt.legend(loc='upper right')\n",
    "plt.title('Loss')\n",
    "plt.ylabel('Loss')\n",
    "plt.xlabel('Epoch')\n",
    "plt.show()\n",
    "plt.savefig('Loss.png')"
   ]
  },
  {
   "cell_type": "code",
   "execution_count": 15,
   "id": "404368a0",
   "metadata": {
    "execution": {
     "iopub.execute_input": "2022-04-11T10:07:46.528486Z",
     "iopub.status.busy": "2022-04-11T10:07:46.527620Z",
     "iopub.status.idle": "2022-04-11T10:07:46.814098Z",
     "shell.execute_reply": "2022-04-11T10:07:46.813609Z",
     "shell.execute_reply.started": "2022-04-10T10:52:48.11359Z"
    },
    "papermill": {
     "duration": 13.55358,
     "end_time": "2022-04-11T10:07:46.814228",
     "exception": false,
     "start_time": "2022-04-11T10:07:33.260648",
     "status": "completed"
    },
    "tags": []
   },
   "outputs": [],
   "source": [
    "model.save_weights('xception.h5')"
   ]
  },
  {
   "cell_type": "code",
   "execution_count": 16,
   "id": "5d5fcafe",
   "metadata": {
    "execution": {
     "iopub.execute_input": "2022-04-11T10:08:11.884411Z",
     "iopub.status.busy": "2022-04-11T10:08:11.882966Z",
     "iopub.status.idle": "2022-04-11T10:08:54.954247Z",
     "shell.execute_reply": "2022-04-11T10:08:54.954672Z",
     "shell.execute_reply.started": "2022-04-10T10:52:48.115201Z"
    },
    "papermill": {
     "duration": 55.645878,
     "end_time": "2022-04-11T10:08:54.954824",
     "exception": false,
     "start_time": "2022-04-11T10:07:59.308946",
     "status": "completed"
    },
    "tags": []
   },
   "outputs": [
    {
     "name": "stdout",
     "output_type": "stream",
     "text": [
      "(1800, 12)\n"
     ]
    },
    {
     "data": {
      "image/png": "[encoded data removed]",
      "text/plain": [
       "<Figure size 432x288 with 2 Axes>"
      ]
     },
     "metadata": {},
     "output_type": "display_data"
    }
   ],
   "source": [
    "validation_generator.reset() \n",
    "val_pred = model.predict(validation_generator, steps=validation_generator.samples)\n",
    "print(val_pred.shape)\n",
    "y_pred = np.argmax(val_pred, axis = 1)\n",
    "y_true = validation_generator.classes\n",
    "\n",
    "cm = confusion_matrix(y_true, y_pred)\n",
    "disp = ConfusionMatrixDisplay(confusion_matrix=cm, display_labels=species_list)\n",
    "\n",
    "disp.plot(cmap=plt.cm.Blues)\n",
    "plt.xticks(rotation=90)\n",
    "plt.show()"
   ]
  },
  {
   "cell_type": "code",
   "execution_count": 17,
   "id": "11ac41fe",
   "metadata": {
    "execution": {
     "iopub.execute_input": "2022-04-11T10:09:20.137491Z",
     "iopub.status.busy": "2022-04-11T10:09:20.136609Z",
     "iopub.status.idle": "2022-04-11T10:09:43.013169Z",
     "shell.execute_reply": "2022-04-11T10:09:43.013629Z",
     "shell.execute_reply.started": "2022-04-10T10:52:48.116826Z"
    },
    "papermill": {
     "duration": 35.529244,
     "end_time": "2022-04-11T10:09:43.013789",
     "exception": false,
     "start_time": "2022-04-11T10:09:07.484545",
     "status": "completed"
    },
    "tags": []
   },
   "outputs": [
    {
     "name": "stdout",
     "output_type": "stream",
     "text": [
      "Submission file generated. All done.\n"
     ]
    }
   ],
   "source": [
    "predictions = model.predict(test_generator, steps=test_generator.samples)\n",
    "\n",
    "class_list = []\n",
    "\n",
    "for i in range(0, predictions.shape[0]):\n",
    "    y_class = predictions[i, :].argmax(axis=-1)\n",
    "    class_list += [species_list[y_class]]\n",
    "\n",
    "submission = pd.DataFrame()\n",
    "submission['file'] = test_generator.filenames\n",
    "submission['file'] = submission['file'].str.replace(r'seg_test/', '')\n",
    "submission['species'] = class_list\n",
    "\n",
    "submission.to_csv('xception_seg_submission.csv', index=False)\n",
    "\n",
    "print('Submission file generated. All done.')"
   ]
  },
  {
   "cell_type": "code",
   "execution_count": null,
   "id": "28c40821",
   "metadata": {
    "papermill": {
     "duration": 13.387804,
     "end_time": "2022-04-11T10:10:08.764945",
     "exception": false,
     "start_time": "2022-04-11T10:09:55.377141",
     "status": "completed"
    },
    "tags": []
   },
   "outputs": [],
   "source": []
  }
 ],
 "metadata": {
  "kernelspec": {
   "display_name": "Python 3",
   "language": "python",
   "name": "python3"
  },
  "language_info": {
   "codemirror_mode": {
    "name": "ipython",
    "version": 3
   },
   "file_extension": ".py",
   "mimetype": "text/x-python",
   "name": "python",
   "nbconvert_exporter": "python",
   "pygments_lexer": "ipython3",
   "version": "3.7.12"
  },
  "papermill": {
   "default_parameters": {},
   "duration": 23919.008331,
   "end_time": "2022-04-11T10:10:24.788264",
   "environment_variables": {},
   "exception": null,
   "input_path": "__notebook__.ipynb",
   "output_path": "__notebook__.ipynb",
   "parameters": {},
   "start_time": "2022-04-11T03:31:45.779933",
   "version": "2.3.3"
  }
 },
 "nbformat": 4,
 "nbformat_minor": 5
}
