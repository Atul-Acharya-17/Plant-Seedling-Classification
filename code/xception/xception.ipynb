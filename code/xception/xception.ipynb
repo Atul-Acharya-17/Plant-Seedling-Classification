{
 "cells": [
  {
   "cell_type": "code",
   "execution_count": 1,
   "id": "423e3915",
   "metadata": {
    "_cell_guid": "b1076dfc-b9ad-4769-8c92-a6c4dae69d19",
    "_uuid": "8f2839f25d086af736a60e9eeb907d3b93b6e0e5",
    "execution": {
     "iopub.execute_input": "2022-03-16T16:05:40.043587Z",
     "iopub.status.busy": "2022-03-16T16:05:40.042084Z",
     "iopub.status.idle": "2022-03-16T16:05:45.783520Z",
     "shell.execute_reply": "2022-03-16T16:05:45.782304Z",
     "shell.execute_reply.started": "2022-03-16T15:55:42.155944Z"
    },
    "papermill": {
     "duration": 5.765499,
     "end_time": "2022-03-16T16:05:45.783691",
     "exception": false,
     "start_time": "2022-03-16T16:05:40.018192",
     "status": "completed"
    },
    "tags": []
   },
   "outputs": [],
   "source": [
    "import numpy as np\n",
    "import pandas as pd\n",
    "import os\n",
    "import cv2\n",
    "import matplotlib.pyplot as plt\n",
    "import seaborn as sb\n",
    "sb.set()\n",
    "\n",
    "import tensorflow as tf\n",
    "from keras.preprocessing.image import ImageDataGenerator\n",
    "from sklearn.metrics import confusion_matrix\n",
    "from sklearn.metrics import ConfusionMatrixDisplay"
   ]
  },
  {
   "cell_type": "code",
   "execution_count": 2,
   "id": "a1c539fd",
   "metadata": {
    "execution": {
     "iopub.execute_input": "2022-03-16T16:05:45.818635Z",
     "iopub.status.busy": "2022-03-16T16:05:45.817971Z",
     "iopub.status.idle": "2022-03-16T16:05:45.820699Z",
     "shell.execute_reply": "2022-03-16T16:05:45.820269Z",
     "shell.execute_reply.started": "2022-03-16T15:55:42.164890Z"
    },
    "papermill": {
     "duration": 0.021547,
     "end_time": "2022-03-16T16:05:45.820807",
     "exception": false,
     "start_time": "2022-03-16T16:05:45.799260",
     "status": "completed"
    },
    "tags": []
   },
   "outputs": [],
   "source": [
    "# Path to train images\n",
    "train_dir = '../input/plant-seedlings-classification/train/'\n",
    "train_dir_seg = '../input/plant-seedling-segmented/plant-seedling-segmented/seg_train/'\n",
    "train_dir_large = '../input/plantseedlingslarge/plant-seedlings-large/train-large'\n",
    "train_dir_seg_large = '../input/plantseedlingslarge/plant-seedlings-large/train-large-seg'\n",
    "\n",
    "\n",
    "# Path to test images\n",
    "test_dir = '../input/plant-seedlings-classification/'\n",
    "test_dir_seg = '../input/plant-seedling-segmented/plant-seedling-segmented/'"
   ]
  },
  {
   "cell_type": "code",
   "execution_count": 3,
   "id": "9ba51e3a",
   "metadata": {
    "execution": {
     "iopub.execute_input": "2022-03-16T16:05:45.853735Z",
     "iopub.status.busy": "2022-03-16T16:05:45.853071Z",
     "iopub.status.idle": "2022-03-16T16:05:45.855164Z",
     "shell.execute_reply": "2022-03-16T16:05:45.855556Z",
     "shell.execute_reply.started": "2022-03-16T15:55:42.178069Z"
    },
    "papermill": {
     "duration": 0.019933,
     "end_time": "2022-03-16T16:05:45.855686",
     "exception": false,
     "start_time": "2022-03-16T16:05:45.835753",
     "status": "completed"
    },
    "tags": []
   },
   "outputs": [],
   "source": [
    "train = train_dir_seg_large\n",
    "test = test_dir_seg"
   ]
  },
  {
   "cell_type": "code",
   "execution_count": 4,
   "id": "733ee0a0",
   "metadata": {
    "execution": {
     "iopub.execute_input": "2022-03-16T16:05:45.888594Z",
     "iopub.status.busy": "2022-03-16T16:05:45.887986Z",
     "iopub.status.idle": "2022-03-16T16:05:45.890089Z",
     "shell.execute_reply": "2022-03-16T16:05:45.890516Z",
     "shell.execute_reply.started": "2022-03-16T15:55:42.189898Z"
    },
    "papermill": {
     "duration": 0.020219,
     "end_time": "2022-03-16T16:05:45.890642",
     "exception": false,
     "start_time": "2022-03-16T16:05:45.870423",
     "status": "completed"
    },
    "tags": []
   },
   "outputs": [],
   "source": [
    "epochs     = 40\n",
    "batch_size   = 16\n",
    "width        = 299\n",
    "height       = 299"
   ]
  },
  {
   "cell_type": "code",
   "execution_count": 5,
   "id": "36a50d4b",
   "metadata": {
    "execution": {
     "iopub.execute_input": "2022-03-16T16:05:45.923977Z",
     "iopub.status.busy": "2022-03-16T16:05:45.923296Z",
     "iopub.status.idle": "2022-03-16T16:05:45.925858Z",
     "shell.execute_reply": "2022-03-16T16:05:45.925442Z",
     "shell.execute_reply.started": "2022-03-16T15:55:42.199051Z"
    },
    "papermill": {
     "duration": 0.020548,
     "end_time": "2022-03-16T16:05:45.925954",
     "exception": false,
     "start_time": "2022-03-16T16:05:45.905406",
     "status": "completed"
    },
    "tags": []
   },
   "outputs": [],
   "source": [
    "species_list = [\"Black-grass\", \"Charlock\", \"Cleavers\", \"Common Chickweed\", \"Common wheat\", \"Fat Hen\",\n",
    "                 \"Loose Silky-bent\", \"Maize\", \"Scentless Mayweed\", \"Shepherds Purse\", \"Small-flowered Cranesbill\",\n",
    "                \"Sugar beet\"]"
   ]
  },
  {
   "cell_type": "code",
   "execution_count": 6,
   "id": "9fadc677",
   "metadata": {
    "execution": {
     "iopub.execute_input": "2022-03-16T16:05:45.958718Z",
     "iopub.status.busy": "2022-03-16T16:05:45.958071Z",
     "iopub.status.idle": "2022-03-16T16:05:45.968063Z",
     "shell.execute_reply": "2022-03-16T16:05:45.967674Z",
     "shell.execute_reply.started": "2022-03-16T15:55:42.208184Z"
    },
    "papermill": {
     "duration": 0.02758,
     "end_time": "2022-03-16T16:05:45.968172",
     "exception": false,
     "start_time": "2022-03-16T16:05:45.940592",
     "status": "completed"
    },
    "tags": []
   },
   "outputs": [],
   "source": [
    "from keras.applications.xception import Xception, preprocess_input"
   ]
  },
  {
   "cell_type": "code",
   "execution_count": 7,
   "id": "d8c68415",
   "metadata": {
    "execution": {
     "iopub.execute_input": "2022-03-16T16:05:46.006613Z",
     "iopub.status.busy": "2022-03-16T16:05:46.005739Z",
     "iopub.status.idle": "2022-03-16T16:05:46.007504Z",
     "shell.execute_reply": "2022-03-16T16:05:46.007973Z",
     "shell.execute_reply.started": "2022-03-16T15:55:42.216079Z"
    },
    "papermill": {
     "duration": 0.025131,
     "end_time": "2022-03-16T16:05:46.008084",
     "exception": false,
     "start_time": "2022-03-16T16:05:45.982953",
     "status": "completed"
    },
    "tags": []
   },
   "outputs": [],
   "source": [
    "def define_generators():\n",
    "    train_datagen = tf.keras.preprocessing.image.ImageDataGenerator(\n",
    "        preprocessing_function=preprocess_input,\n",
    "        rotation_range=360,\n",
    "        width_shift_range=0.3,\n",
    "        height_shift_range=0.3,\n",
    "        shear_range=0.3,\n",
    "        zoom_range=0.5,\n",
    "        vertical_flip=True,\n",
    "        horizontal_flip=True,\n",
    "        validation_split=0.15,\n",
    "    )\n",
    "\n",
    "    train_generator = train_datagen.flow_from_directory(\n",
    "        directory=train,\n",
    "        target_size=(width, height),\n",
    "        batch_size=batch_size,\n",
    "        color_mode='rgb',\n",
    "        class_mode=\"categorical\",\n",
    "        subset='training',\n",
    "    )\n",
    "\n",
    "    validation_generator = train_datagen.flow_from_directory(\n",
    "        directory=train,\n",
    "        target_size=(width, height),\n",
    "        batch_size=batch_size,\n",
    "        color_mode='rgb',\n",
    "        class_mode=\"categorical\",\n",
    "        subset='validation',\n",
    "        shuffle=False\n",
    "    )\n",
    "\n",
    "    test_datagen = tf.keras.preprocessing.image.ImageDataGenerator(\n",
    "            preprocessing_function=preprocess_input,\n",
    "            rotation_range=180,\n",
    "            width_shift_range=0.3,\n",
    "            height_shift_range=0.3,\n",
    "            shear_range=0.3,\n",
    "            vertical_flip=True,\n",
    "            horizontal_flip=True)\n",
    "\n",
    "    test_generator = test_datagen.flow_from_directory(\n",
    "        directory=test,\n",
    "        classes=['seg_test'],\n",
    "        target_size=(width, height),\n",
    "        batch_size=1,\n",
    "        color_mode='rgb',\n",
    "        shuffle=False,\n",
    "        class_mode='categorical')\n",
    "\n",
    "    return train_generator, validation_generator, test_generator"
   ]
  },
  {
   "cell_type": "code",
   "execution_count": 8,
   "id": "8a6227cb",
   "metadata": {
    "execution": {
     "iopub.execute_input": "2022-03-16T16:05:46.041934Z",
     "iopub.status.busy": "2022-03-16T16:05:46.041213Z",
     "iopub.status.idle": "2022-03-16T16:05:51.561335Z",
     "shell.execute_reply": "2022-03-16T16:05:51.562094Z",
     "shell.execute_reply.started": "2022-03-16T15:55:42.229644Z"
    },
    "papermill": {
     "duration": 5.53863,
     "end_time": "2022-03-16T16:05:51.562248",
     "exception": false,
     "start_time": "2022-03-16T16:05:46.023618",
     "status": "completed"
    },
    "tags": []
   },
   "outputs": [
    {
     "name": "stdout",
     "output_type": "stream",
     "text": [
      "Found 10200 images belonging to 12 classes.\n",
      "Found 1800 images belonging to 12 classes.\n",
      "Found 794 images belonging to 1 classes.\n"
     ]
    }
   ],
   "source": [
    "train_generator, validation_generator, test_generator = define_generators()"
   ]
  },
  {
   "cell_type": "code",
   "execution_count": 9,
   "id": "ea2d749d",
   "metadata": {
    "execution": {
     "iopub.execute_input": "2022-03-16T16:05:51.607546Z",
     "iopub.status.busy": "2022-03-16T16:05:51.605928Z",
     "iopub.status.idle": "2022-03-16T16:05:51.608159Z",
     "shell.execute_reply": "2022-03-16T16:05:51.608655Z",
     "shell.execute_reply.started": "2022-03-16T15:55:44.531975Z"
    },
    "papermill": {
     "duration": 0.026299,
     "end_time": "2022-03-16T16:05:51.608783",
     "exception": false,
     "start_time": "2022-03-16T16:05:51.582484",
     "status": "completed"
    },
    "tags": []
   },
   "outputs": [],
   "source": [
    "# define appropriate callbacks\n",
    "def training_callbacks():\n",
    "    \n",
    "    # save best model regularly\n",
    "    save_best_model = tf.keras.callbacks.ModelCheckpoint(filepath = 'model.h5',\n",
    "        monitor = 'loss', save_best_only = True, verbose = 1)\n",
    "    \n",
    "    # reduce learning rate when it stops decreasing\n",
    "    reduce_lr = tf.keras.callbacks.ReduceLROnPlateau(monitor = 'loss', factor = 0.4,\n",
    "                              patience = 3, min_lr = 1e-10, verbose = 1, cooldown = 1)\n",
    "    \n",
    "    # stop training early if no further improvement\n",
    "    early_stopping = tf.keras.callbacks.EarlyStopping(\n",
    "        monitor = 'loss', min_delta = 1e-2, patience = 10, verbose = 1,\n",
    "        mode = 'min', baseline = None, restore_best_weights = True\n",
    "    )\n",
    "\n",
    "    return save_best_model, reduce_lr, early_stopping\n"
   ]
  },
  {
   "cell_type": "code",
   "execution_count": 10,
   "id": "d3e73685",
   "metadata": {
    "execution": {
     "iopub.execute_input": "2022-03-16T16:05:51.649510Z",
     "iopub.status.busy": "2022-03-16T16:05:51.648718Z",
     "iopub.status.idle": "2022-03-16T16:05:55.953584Z",
     "shell.execute_reply": "2022-03-16T16:05:55.952667Z",
     "shell.execute_reply.started": "2022-03-16T15:55:44.541754Z"
    },
    "papermill": {
     "duration": 4.329502,
     "end_time": "2022-03-16T16:05:55.953736",
     "exception": false,
     "start_time": "2022-03-16T16:05:51.624234",
     "status": "completed"
    },
    "tags": []
   },
   "outputs": [
    {
     "name": "stderr",
     "output_type": "stream",
     "text": [
      "2022-03-16 16:05:51.739879: I tensorflow/stream_executor/cuda/cuda_gpu_executor.cc:937] successful NUMA node read from SysFS had negative value (-1), but there must be at least one NUMA node, so returning NUMA node zero\n",
      "2022-03-16 16:05:51.851518: I tensorflow/stream_executor/cuda/cuda_gpu_executor.cc:937] successful NUMA node read from SysFS had negative value (-1), but there must be at least one NUMA node, so returning NUMA node zero\n",
      "2022-03-16 16:05:51.852276: I tensorflow/stream_executor/cuda/cuda_gpu_executor.cc:937] successful NUMA node read from SysFS had negative value (-1), but there must be at least one NUMA node, so returning NUMA node zero\n",
      "2022-03-16 16:05:51.853420: I tensorflow/core/platform/cpu_feature_guard.cc:142] This TensorFlow binary is optimized with oneAPI Deep Neural Network Library (oneDNN) to use the following CPU instructions in performance-critical operations:  AVX2 AVX512F FMA\n",
      "To enable them in other operations, rebuild TensorFlow with the appropriate compiler flags.\n",
      "2022-03-16 16:05:51.854523: I tensorflow/stream_executor/cuda/cuda_gpu_executor.cc:937] successful NUMA node read from SysFS had negative value (-1), but there must be at least one NUMA node, so returning NUMA node zero\n",
      "2022-03-16 16:05:51.855182: I tensorflow/stream_executor/cuda/cuda_gpu_executor.cc:937] successful NUMA node read from SysFS had negative value (-1), but there must be at least one NUMA node, so returning NUMA node zero\n",
      "2022-03-16 16:05:51.855794: I tensorflow/stream_executor/cuda/cuda_gpu_executor.cc:937] successful NUMA node read from SysFS had negative value (-1), but there must be at least one NUMA node, so returning NUMA node zero\n",
      "2022-03-16 16:05:53.696800: I tensorflow/stream_executor/cuda/cuda_gpu_executor.cc:937] successful NUMA node read from SysFS had negative value (-1), but there must be at least one NUMA node, so returning NUMA node zero\n",
      "2022-03-16 16:05:53.697716: I tensorflow/stream_executor/cuda/cuda_gpu_executor.cc:937] successful NUMA node read from SysFS had negative value (-1), but there must be at least one NUMA node, so returning NUMA node zero\n",
      "2022-03-16 16:05:53.698400: I tensorflow/stream_executor/cuda/cuda_gpu_executor.cc:937] successful NUMA node read from SysFS had negative value (-1), but there must be at least one NUMA node, so returning NUMA node zero\n",
      "2022-03-16 16:05:53.699005: I tensorflow/core/common_runtime/gpu/gpu_device.cc:1510] Created device /job:localhost/replica:0/task:0/device:GPU:0 with 15403 MB memory:  -> device: 0, name: Tesla P100-PCIE-16GB, pci bus id: 0000:00:04.0, compute capability: 6.0\n"
     ]
    },
    {
     "name": "stdout",
     "output_type": "stream",
     "text": [
      "Downloading data from https://storage.googleapis.com/tensorflow/keras-applications/xception/xception_weights_tf_dim_ordering_tf_kernels_notop.h5\n",
      "83689472/83683744 [==============================] - 0s 0us/step\n",
      "83697664/83683744 [==============================] - 0s 0us/step\n"
     ]
    }
   ],
   "source": [
    "model_input = tf.keras.layers.Input(shape=(width, height, 3), name='image_input')\n",
    "model_main = Xception(weights='imagenet', input_shape=(width, height, 3), include_top=False)(model_input)\n",
    "model_dense1 = tf.keras.layers.Flatten()(model_main)\n",
    "\n",
    "dropout_1 = tf.keras.layers.Dropout(0.2)(model_dense1)\n",
    "model_dense2 = tf.keras.layers.Dense(256, activation = 'selu', activity_regularizer=tf.keras.regularizers.l2(1e-5))(dropout_1)\n",
    "dropout_2 = tf.keras.layers.Dropout(0.2)(model_dense2)\n",
    "model_dense3 = tf.keras.layers.Dense(128, activation='selu')(dropout_2)\n",
    "model_out = tf.keras.layers.Dense(12, activation=\"softmax\")(model_dense3)\n",
    "\n",
    "model = tf.keras.models.Model(model_input,  model_out)\n",
    "optimizer = tf.keras.optimizers.Adam(learning_rate=0.0001, beta_1=0.9, beta_2=0.999)\n",
    "model.compile(loss=\"categorical_crossentropy\", optimizer=optimizer, metrics=[\"accuracy\"])"
   ]
  },
  {
   "cell_type": "code",
   "execution_count": 11,
   "id": "b1478f59",
   "metadata": {
    "execution": {
     "iopub.execute_input": "2022-03-16T16:05:56.002762Z",
     "iopub.status.busy": "2022-03-16T16:05:56.002187Z",
     "iopub.status.idle": "2022-03-16T20:26:17.288963Z",
     "shell.execute_reply": "2022-03-16T20:26:17.287910Z",
     "shell.execute_reply.started": "2022-03-16T15:55:46.856105Z"
    },
    "papermill": {
     "duration": 15621.31339,
     "end_time": "2022-03-16T20:26:17.289147",
     "exception": false,
     "start_time": "2022-03-16T16:05:55.975757",
     "status": "completed"
    },
    "tags": []
   },
   "outputs": [
    {
     "name": "stderr",
     "output_type": "stream",
     "text": [
      "2022-03-16 16:05:56.482934: I tensorflow/compiler/mlir/mlir_graph_optimization_pass.cc:185] None of the MLIR Optimization Passes are enabled (registered 2)\n"
     ]
    },
    {
     "name": "stdout",
     "output_type": "stream",
     "text": [
      "Epoch 1/40\n"
     ]
    },
    {
     "name": "stderr",
     "output_type": "stream",
     "text": [
      "2022-03-16 16:06:01.514749: I tensorflow/stream_executor/cuda/cuda_dnn.cc:369] Loaded cuDNN version 8005\n"
     ]
    },
    {
     "name": "stdout",
     "output_type": "stream",
     "text": [
      "637/637 [==============================] - 414s 633ms/step - loss: 1.4990 - accuracy: 0.4745 - val_loss: 1.6490 - val_accuracy: 0.6696\n",
      "\n",
      "Epoch 00001: loss improved from inf to 1.49902, saving model to model.h5\n"
     ]
    },
    {
     "name": "stderr",
     "output_type": "stream",
     "text": [
      "/opt/conda/lib/python3.7/site-packages/keras/utils/generic_utils.py:497: CustomMaskWarning: Custom mask layers require a config and must override get_config. When loading, the custom mask layer must be passed to the custom_objects argument.\n",
      "  category=CustomMaskWarning)\n"
     ]
    },
    {
     "name": "stdout",
     "output_type": "stream",
     "text": [
      "Epoch 2/40\n",
      "637/637 [==============================] - 364s 570ms/step - loss: 0.5511 - accuracy: 0.8125 - val_loss: 0.4231 - val_accuracy: 0.8454\n",
      "\n",
      "Epoch 00002: loss improved from 1.49902 to 0.55115, saving model to model.h5\n",
      "Epoch 3/40\n",
      "637/637 [==============================] - 364s 571ms/step - loss: 0.4005 - accuracy: 0.8634 - val_loss: 0.2774 - val_accuracy: 0.9001\n",
      "\n",
      "Epoch 00003: loss improved from 0.55115 to 0.40051, saving model to model.h5\n",
      "Epoch 4/40\n",
      "637/637 [==============================] - 366s 573ms/step - loss: 0.3319 - accuracy: 0.8826 - val_loss: 0.2811 - val_accuracy: 0.9012\n",
      "\n",
      "Epoch 00004: loss improved from 0.40051 to 0.33188, saving model to model.h5\n",
      "Epoch 5/40\n",
      "637/637 [==============================] - 369s 579ms/step - loss: 0.3004 - accuracy: 0.8980 - val_loss: 0.3036 - val_accuracy: 0.8973\n",
      "\n",
      "Epoch 00005: loss improved from 0.33188 to 0.30044, saving model to model.h5\n",
      "Epoch 6/40\n",
      "637/637 [==============================] - 368s 578ms/step - loss: 0.2751 - accuracy: 0.9040 - val_loss: 0.2422 - val_accuracy: 0.9124\n",
      "\n",
      "Epoch 00006: loss improved from 0.30044 to 0.27513, saving model to model.h5\n",
      "Epoch 7/40\n",
      "637/637 [==============================] - 373s 586ms/step - loss: 0.2537 - accuracy: 0.9142 - val_loss: 0.1707 - val_accuracy: 0.9325\n",
      "\n",
      "Epoch 00007: loss improved from 0.27513 to 0.25374, saving model to model.h5\n",
      "Epoch 8/40\n",
      "637/637 [==============================] - 375s 588ms/step - loss: 0.2338 - accuracy: 0.9192 - val_loss: 0.1830 - val_accuracy: 0.9414\n",
      "\n",
      "Epoch 00008: loss improved from 0.25374 to 0.23383, saving model to model.h5\n",
      "Epoch 9/40\n",
      "637/637 [==============================] - 371s 581ms/step - loss: 0.2337 - accuracy: 0.9233 - val_loss: 0.2028 - val_accuracy: 0.9247\n",
      "\n",
      "Epoch 00009: loss improved from 0.23383 to 0.23369, saving model to model.h5\n",
      "Epoch 10/40\n",
      "637/637 [==============================] - 374s 587ms/step - loss: 0.2192 - accuracy: 0.9239 - val_loss: 0.1487 - val_accuracy: 0.9503\n",
      "\n",
      "Epoch 00010: loss improved from 0.23369 to 0.21923, saving model to model.h5\n",
      "Epoch 11/40\n",
      "637/637 [==============================] - 371s 583ms/step - loss: 0.2037 - accuracy: 0.9299 - val_loss: 0.1632 - val_accuracy: 0.9381\n",
      "\n",
      "Epoch 00011: loss improved from 0.21923 to 0.20365, saving model to model.h5\n",
      "Epoch 12/40\n",
      "637/637 [==============================] - 373s 585ms/step - loss: 0.1899 - accuracy: 0.9325 - val_loss: 0.1789 - val_accuracy: 0.9403\n",
      "\n",
      "Epoch 00012: loss improved from 0.20365 to 0.18989, saving model to model.h5\n",
      "Epoch 13/40\n",
      "637/637 [==============================] - 375s 588ms/step - loss: 0.1941 - accuracy: 0.9334 - val_loss: 0.1601 - val_accuracy: 0.9453\n",
      "\n",
      "Epoch 00013: loss did not improve from 0.18989\n",
      "Epoch 14/40\n",
      "637/637 [==============================] - 374s 587ms/step - loss: 0.1830 - accuracy: 0.9365 - val_loss: 0.1440 - val_accuracy: 0.9464\n",
      "\n",
      "Epoch 00014: loss improved from 0.18989 to 0.18298, saving model to model.h5\n",
      "Epoch 15/40\n",
      "637/637 [==============================] - 380s 596ms/step - loss: 0.1749 - accuracy: 0.9410 - val_loss: 0.1382 - val_accuracy: 0.9487\n",
      "\n",
      "Epoch 00015: loss improved from 0.18298 to 0.17491, saving model to model.h5\n",
      "Epoch 16/40\n",
      "637/637 [==============================] - 381s 598ms/step - loss: 0.1654 - accuracy: 0.9449 - val_loss: 0.1230 - val_accuracy: 0.9531\n",
      "\n",
      "Epoch 00016: loss improved from 0.17491 to 0.16541, saving model to model.h5\n",
      "Epoch 17/40\n",
      "637/637 [==============================] - 375s 588ms/step - loss: 0.1691 - accuracy: 0.9415 - val_loss: 0.1301 - val_accuracy: 0.9542\n",
      "\n",
      "Epoch 00017: loss did not improve from 0.16541\n",
      "Epoch 18/40\n",
      "637/637 [==============================] - 368s 577ms/step - loss: 0.1603 - accuracy: 0.9458 - val_loss: 0.1224 - val_accuracy: 0.9587\n",
      "\n",
      "Epoch 00018: loss improved from 0.16541 to 0.16031, saving model to model.h5\n",
      "Epoch 19/40\n",
      "637/637 [==============================] - 373s 585ms/step - loss: 0.1605 - accuracy: 0.9449 - val_loss: 0.1424 - val_accuracy: 0.9498\n",
      "\n",
      "Epoch 00019: loss did not improve from 0.16031\n",
      "Epoch 20/40\n",
      "637/637 [==============================] - 372s 584ms/step - loss: 0.1599 - accuracy: 0.9436 - val_loss: 0.1201 - val_accuracy: 0.9570\n",
      "\n",
      "Epoch 00020: loss improved from 0.16031 to 0.15990, saving model to model.h5\n",
      "Epoch 21/40\n",
      "637/637 [==============================] - 372s 583ms/step - loss: 0.1564 - accuracy: 0.9483 - val_loss: 0.1132 - val_accuracy: 0.9570\n",
      "\n",
      "Epoch 00021: loss improved from 0.15990 to 0.15638, saving model to model.h5\n",
      "Epoch 22/40\n",
      "637/637 [==============================] - 373s 585ms/step - loss: 0.1435 - accuracy: 0.9515 - val_loss: 0.1651 - val_accuracy: 0.9453\n",
      "\n",
      "Epoch 00022: loss improved from 0.15638 to 0.14345, saving model to model.h5\n",
      "Epoch 23/40\n",
      "637/637 [==============================] - 371s 582ms/step - loss: 0.1470 - accuracy: 0.9514 - val_loss: 0.1014 - val_accuracy: 0.9671\n",
      "\n",
      "Epoch 00023: loss did not improve from 0.14345\n",
      "Epoch 24/40\n",
      "637/637 [==============================] - 374s 587ms/step - loss: 0.1331 - accuracy: 0.9552 - val_loss: 0.1238 - val_accuracy: 0.9565\n",
      "\n",
      "Epoch 00024: loss improved from 0.14345 to 0.13310, saving model to model.h5\n",
      "Epoch 25/40\n",
      "637/637 [==============================] - 376s 589ms/step - loss: 0.1413 - accuracy: 0.9515 - val_loss: 0.1395 - val_accuracy: 0.9559\n",
      "\n",
      "Epoch 00025: loss did not improve from 0.13310\n",
      "Epoch 26/40\n",
      "637/637 [==============================] - 378s 593ms/step - loss: 0.1416 - accuracy: 0.9521 - val_loss: 0.1106 - val_accuracy: 0.9576\n",
      "\n",
      "Epoch 00026: loss did not improve from 0.13310\n",
      "Epoch 27/40\n",
      "637/637 [==============================] - 376s 589ms/step - loss: 0.1219 - accuracy: 0.9599 - val_loss: 0.1432 - val_accuracy: 0.9487\n",
      "\n",
      "Epoch 00027: loss improved from 0.13310 to 0.12189, saving model to model.h5\n",
      "Epoch 28/40\n",
      "637/637 [==============================] - 379s 593ms/step - loss: 0.1355 - accuracy: 0.9553 - val_loss: 0.1198 - val_accuracy: 0.9542\n",
      "\n",
      "Epoch 00028: loss did not improve from 0.12189\n",
      "Epoch 29/40\n",
      "637/637 [==============================] - 378s 592ms/step - loss: 0.1251 - accuracy: 0.9565 - val_loss: 0.1075 - val_accuracy: 0.9671\n",
      "\n",
      "Epoch 00029: loss did not improve from 0.12189\n",
      "Epoch 30/40\n",
      "637/637 [==============================] - 380s 596ms/step - loss: 0.1271 - accuracy: 0.9571 - val_loss: 0.0782 - val_accuracy: 0.9738\n",
      "\n",
      "Epoch 00030: loss did not improve from 0.12189\n",
      "\n",
      "Epoch 00030: ReduceLROnPlateau reducing learning rate to 3.9999998989515007e-05.\n",
      "Epoch 31/40\n",
      "637/637 [==============================] - 380s 595ms/step - loss: 0.0865 - accuracy: 0.9691 - val_loss: 0.0753 - val_accuracy: 0.9738\n",
      "\n",
      "Epoch 00031: loss improved from 0.12189 to 0.08646, saving model to model.h5\n",
      "Epoch 32/40\n",
      "637/637 [==============================] - 379s 596ms/step - loss: 0.0865 - accuracy: 0.9704 - val_loss: 0.0933 - val_accuracy: 0.9688\n",
      "\n",
      "Epoch 00032: loss did not improve from 0.08646\n",
      "Epoch 33/40\n",
      "637/637 [==============================] - 380s 597ms/step - loss: 0.0860 - accuracy: 0.9692 - val_loss: 0.0828 - val_accuracy: 0.9699\n",
      "\n",
      "Epoch 00033: loss improved from 0.08646 to 0.08602, saving model to model.h5\n",
      "Epoch 34/40\n",
      "637/637 [==============================] - 383s 601ms/step - loss: 0.0825 - accuracy: 0.9721 - val_loss: 0.0861 - val_accuracy: 0.9715\n",
      "\n",
      "Epoch 00034: loss improved from 0.08602 to 0.08250, saving model to model.h5\n",
      "Epoch 35/40\n",
      "637/637 [==============================] - 386s 605ms/step - loss: 0.0759 - accuracy: 0.9737 - val_loss: 0.0790 - val_accuracy: 0.9743\n",
      "\n",
      "Epoch 00035: loss improved from 0.08250 to 0.07587, saving model to model.h5\n",
      "Epoch 36/40\n",
      "637/637 [==============================] - 386s 606ms/step - loss: 0.0762 - accuracy: 0.9724 - val_loss: 0.0696 - val_accuracy: 0.9810\n",
      "\n",
      "Epoch 00036: loss did not improve from 0.07587\n",
      "Epoch 37/40\n",
      "637/637 [==============================] - 379s 595ms/step - loss: 0.0798 - accuracy: 0.9712 - val_loss: 0.0963 - val_accuracy: 0.9682\n",
      "\n",
      "Epoch 00037: loss did not improve from 0.07587\n",
      "Epoch 38/40\n",
      "637/637 [==============================] - 377s 592ms/step - loss: 0.0761 - accuracy: 0.9761 - val_loss: 0.0834 - val_accuracy: 0.9699\n",
      "\n",
      "Epoch 00038: loss did not improve from 0.07587\n",
      "\n",
      "Epoch 00038: ReduceLROnPlateau reducing learning rate to 1.5999999595806004e-05.\n",
      "Epoch 39/40\n",
      "637/637 [==============================] - 372s 584ms/step - loss: 0.0716 - accuracy: 0.9755 - val_loss: 0.0536 - val_accuracy: 0.9810\n",
      "\n",
      "Epoch 00039: loss improved from 0.07587 to 0.07158, saving model to model.h5\n",
      "Epoch 40/40\n",
      "637/637 [==============================] - 381s 597ms/step - loss: 0.0631 - accuracy: 0.9782 - val_loss: 0.0744 - val_accuracy: 0.9788\n",
      "\n",
      "Epoch 00040: loss improved from 0.07158 to 0.06313, saving model to model.h5\n"
     ]
    }
   ],
   "source": [
    "history = model.fit(\n",
    "    train_generator,\n",
    "    epochs=epochs,\n",
    "    steps_per_epoch=train_generator.samples // batch_size,\n",
    "    validation_data= validation_generator,\n",
    "    validation_steps=validation_generator.samples // batch_size,\n",
    "    callbacks = training_callbacks()\n",
    ")"
   ]
  },
  {
   "cell_type": "code",
   "execution_count": 12,
   "id": "24a9c2f4",
   "metadata": {
    "execution": {
     "iopub.execute_input": "2022-03-16T20:26:34.242110Z",
     "iopub.status.busy": "2022-03-16T20:26:34.241386Z",
     "iopub.status.idle": "2022-03-16T20:26:34.619954Z",
     "shell.execute_reply": "2022-03-16T20:26:34.621076Z",
     "shell.execute_reply.started": "2022-03-16T15:58:10.827181Z"
    },
    "papermill": {
     "duration": 8.993633,
     "end_time": "2022-03-16T20:26:34.621288",
     "exception": false,
     "start_time": "2022-03-16T20:26:25.627655",
     "status": "completed"
    },
    "tags": []
   },
   "outputs": [
    {
     "data": {
      "image/png": "[encoded data removed]",
      "text/plain": [
       "<Figure size 432x288 with 1 Axes>"
      ]
     },
     "metadata": {},
     "output_type": "display_data"
    },
    {
     "data": {
      "text/plain": [
       "<Figure size 432x288 with 0 Axes>"
      ]
     },
     "metadata": {},
     "output_type": "display_data"
    }
   ],
   "source": [
    "plt.plot(history.history['accuracy'], label='train')\n",
    "plt.plot(history.history['val_accuracy'], label = \"validation\")\n",
    "plt.legend(loc='upper left')\n",
    "plt.title('Model accuracy')\n",
    "plt.ylabel('Accuracy')\n",
    "plt.xlabel('Epoch')\n",
    "plt.show()\n",
    "plt.savefig('Accuracy.png')"
   ]
  },
  {
   "cell_type": "code",
   "execution_count": 13,
   "id": "8a522bfd",
   "metadata": {
    "execution": {
     "iopub.execute_input": "2022-03-16T20:26:52.326094Z",
     "iopub.status.busy": "2022-03-16T20:26:52.322348Z",
     "iopub.status.idle": "2022-03-16T20:26:52.565674Z",
     "shell.execute_reply": "2022-03-16T20:26:52.565172Z",
     "shell.execute_reply.started": "2022-03-16T15:58:13.117530Z"
    },
    "papermill": {
     "duration": 9.455614,
     "end_time": "2022-03-16T20:26:52.565804",
     "exception": false,
     "start_time": "2022-03-16T20:26:43.110190",
     "status": "completed"
    },
    "tags": []
   },
   "outputs": [
    {
     "data": {
      "image/png": "[encoded data removed]",
      "text/plain": [
       "<Figure size 432x288 with 1 Axes>"
      ]
     },
     "metadata": {},
     "output_type": "display_data"
    },
    {
     "data": {
      "text/plain": [
       "<Figure size 432x288 with 0 Axes>"
      ]
     },
     "metadata": {},
     "output_type": "display_data"
    }
   ],
   "source": [
    "plt.plot(history.history['loss'], label='train')\n",
    "plt.plot(history.history['val_loss'], label = \"validation\")\n",
    "plt.legend(loc='upper right')\n",
    "plt.title('Loss')\n",
    "plt.ylabel('Loss')\n",
    "plt.xlabel('Epoch')\n",
    "plt.show()\n",
    "plt.savefig('Loss.png')"
   ]
  },
  {
   "cell_type": "code",
   "execution_count": 14,
   "id": "4c582334",
   "metadata": {
    "execution": {
     "iopub.execute_input": "2022-03-16T20:27:09.669609Z",
     "iopub.status.busy": "2022-03-16T20:27:09.668634Z",
     "iopub.status.idle": "2022-03-16T20:27:10.307818Z",
     "shell.execute_reply": "2022-03-16T20:27:10.308261Z",
     "shell.execute_reply.started": "2022-03-16T15:58:13.843960Z"
    },
    "papermill": {
     "duration": 9.27113,
     "end_time": "2022-03-16T20:27:10.308457",
     "exception": false,
     "start_time": "2022-03-16T20:27:01.037327",
     "status": "completed"
    },
    "tags": []
   },
   "outputs": [],
   "source": [
    "model.save_weights('xception.h5')"
   ]
  },
  {
   "cell_type": "code",
   "execution_count": 15,
   "id": "ed768857",
   "metadata": {
    "execution": {
     "iopub.execute_input": "2022-03-16T20:27:27.694047Z",
     "iopub.status.busy": "2022-03-16T20:27:27.692501Z",
     "iopub.status.idle": "2022-03-16T20:28:10.300421Z",
     "shell.execute_reply": "2022-03-16T20:28:10.300870Z",
     "shell.execute_reply.started": "2022-03-16T16:02:13.915328Z"
    },
    "papermill": {
     "duration": 50.976745,
     "end_time": "2022-03-16T20:28:10.301036",
     "exception": false,
     "start_time": "2022-03-16T20:27:19.324291",
     "status": "completed"
    },
    "tags": []
   },
   "outputs": [
    {
     "name": "stdout",
     "output_type": "stream",
     "text": [
      "(1800, 12)\n"
     ]
    },
    {
     "data": {
      "image/png": "[encoded data removed]",
      "text/plain": [
       "<Figure size 432x288 with 2 Axes>"
      ]
     },
     "metadata": {},
     "output_type": "display_data"
    }
   ],
   "source": [
    "validation_generator.reset() \n",
    "val_pred = model.predict(validation_generator, steps=validation_generator.samples)\n",
    "print(val_pred.shape)\n",
    "y_pred = np.argmax(val_pred, axis = 1)\n",
    "y_true = validation_generator.classes\n",
    "\n",
    "cm = confusion_matrix(y_true, y_pred)\n",
    "disp = ConfusionMatrixDisplay(confusion_matrix=cm, display_labels=species_list)\n",
    "\n",
    "disp.plot(cmap=plt.cm.Blues)\n",
    "plt.xticks(rotation=90)\n",
    "plt.show()"
   ]
  },
  {
   "cell_type": "code",
   "execution_count": 16,
   "id": "aeebc311",
   "metadata": {
    "execution": {
     "iopub.execute_input": "2022-03-16T20:28:27.717189Z",
     "iopub.status.busy": "2022-03-16T20:28:27.716406Z",
     "iopub.status.idle": "2022-03-16T20:28:49.628451Z",
     "shell.execute_reply": "2022-03-16T20:28:49.628867Z",
     "shell.execute_reply.started": "2022-03-16T15:58:08.090086Z"
    },
    "papermill": {
     "duration": 30.913138,
     "end_time": "2022-03-16T20:28:49.629026",
     "exception": false,
     "start_time": "2022-03-16T20:28:18.715888",
     "status": "completed"
    },
    "tags": []
   },
   "outputs": [
    {
     "name": "stdout",
     "output_type": "stream",
     "text": [
      "Submission file generated. All done.\n"
     ]
    }
   ],
   "source": [
    "predictions = model.predict(test_generator, steps=test_generator.samples)\n",
    "\n",
    "class_list = []\n",
    "\n",
    "for i in range(0, predictions.shape[0]):\n",
    "    y_class = predictions[i, :].argmax(axis=-1)\n",
    "    class_list += [species_list[y_class]]\n",
    "\n",
    "submission = pd.DataFrame()\n",
    "submission['file'] = test_generator.filenames\n",
    "submission['file'] = submission['file'].str.replace(r'seg_test/', '')\n",
    "submission['species'] = class_list\n",
    "\n",
    "submission.to_csv('xception_seg_submission.csv', index=False)\n",
    "\n",
    "print('Submission file generated. All done.')"
   ]
  },
  {
   "cell_type": "code",
   "execution_count": null,
   "id": "991ba055",
   "metadata": {
    "papermill": {
     "duration": 8.036274,
     "end_time": "2022-03-16T20:29:06.469428",
     "exception": false,
     "start_time": "2022-03-16T20:28:58.433154",
     "status": "completed"
    },
    "tags": []
   },
   "outputs": [],
   "source": []
  }
 ],
 "metadata": {
  "kernelspec": {
   "display_name": "Python 3",
   "language": "python",
   "name": "python3"
  },
  "language_info": {
   "codemirror_mode": {
    "name": "ipython",
    "version": 3
   },
   "file_extension": ".py",
   "mimetype": "text/x-python",
   "name": "python",
   "nbconvert_exporter": "python",
   "pygments_lexer": "ipython3",
   "version": "3.7.12"
  },
  "papermill": {
   "default_parameters": {},
   "duration": 15826.734874,
   "end_time": "2022-03-16T20:29:18.542325",
   "environment_variables": {},
   "exception": null,
   "input_path": "__notebook__.ipynb",
   "output_path": "__notebook__.ipynb",
   "parameters": {},
   "start_time": "2022-03-16T16:05:31.807451",
   "version": "2.3.3"
  }
 },
 "nbformat": 4,
 "nbformat_minor": 5
}
