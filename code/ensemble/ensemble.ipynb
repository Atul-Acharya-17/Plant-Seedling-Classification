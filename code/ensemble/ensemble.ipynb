{
 "cells": [
  {
   "cell_type": "code",
   "execution_count": 1,
   "id": "d6ba1b5d",
   "metadata": {
    "execution": {
     "iopub.execute_input": "2022-04-14T15:35:38.450707Z",
     "iopub.status.busy": "2022-04-14T15:35:38.449223Z",
     "iopub.status.idle": "2022-04-14T15:35:44.269538Z",
     "shell.execute_reply": "2022-04-14T15:35:44.268964Z",
     "shell.execute_reply.started": "2022-04-14T09:38:52.289963Z"
    },
    "papermill": {
     "duration": 5.855729,
     "end_time": "2022-04-14T15:35:44.269684",
     "exception": false,
     "start_time": "2022-04-14T15:35:38.413955",
     "status": "completed"
    },
    "tags": []
   },
   "outputs": [],
   "source": [
    "import numpy as np\n",
    "import pandas as pd\n",
    "import os\n",
    "import cv2\n",
    "import matplotlib.pyplot as plt\n",
    "import seaborn as sb\n",
    "sb.set()\n",
    "\n",
    "import tensorflow as tf\n",
    "from keras.preprocessing.image import ImageDataGenerator\n",
    "from tqdm import tqdm\n",
    "from keras.preprocessing import image"
   ]
  },
  {
   "cell_type": "code",
   "execution_count": 2,
   "id": "3f0531c3",
   "metadata": {
    "execution": {
     "iopub.execute_input": "2022-04-14T15:35:44.305431Z",
     "iopub.status.busy": "2022-04-14T15:35:44.304709Z",
     "iopub.status.idle": "2022-04-14T15:35:44.316979Z",
     "shell.execute_reply": "2022-04-14T15:35:44.316518Z",
     "shell.execute_reply.started": "2022-04-14T09:39:00.881021Z"
    },
    "papermill": {
     "duration": 0.031562,
     "end_time": "2022-04-14T15:35:44.317098",
     "exception": false,
     "start_time": "2022-04-14T15:35:44.285536",
     "status": "completed"
    },
    "tags": []
   },
   "outputs": [],
   "source": [
    "from keras.applications.xception import Xception\n",
    "from keras.applications.xception import preprocess_input as xception_preprocess\n",
    "\n",
    "from keras.applications.inception_resnet_v2 import InceptionResNetV2\n",
    "from keras.applications.inception_resnet_v2 import preprocess_input as inception_resnet_v2_preprocess"
   ]
  },
  {
   "cell_type": "code",
   "execution_count": 3,
   "id": "b921b76a",
   "metadata": {
    "execution": {
     "iopub.execute_input": "2022-04-14T15:35:44.351506Z",
     "iopub.status.busy": "2022-04-14T15:35:44.350886Z",
     "iopub.status.idle": "2022-04-14T15:35:44.769676Z",
     "shell.execute_reply": "2022-04-14T15:35:44.769187Z",
     "shell.execute_reply.started": "2022-04-14T09:39:00.902075Z"
    },
    "papermill": {
     "duration": 0.437327,
     "end_time": "2022-04-14T15:35:44.769834",
     "exception": false,
     "start_time": "2022-04-14T15:35:44.332507",
     "status": "completed"
    },
    "tags": []
   },
   "outputs": [],
   "source": [
    "from tensorflow.keras.layers import Conv2D, MaxPooling2D, BatchNormalization, GlobalAveragePooling2D\n",
    "from tensorflow.keras.layers import Dense, Dropout, Flatten\n",
    "import tensorflow_addons as tfa"
   ]
  },
  {
   "cell_type": "code",
   "execution_count": 4,
   "id": "677ab704",
   "metadata": {
    "execution": {
     "iopub.execute_input": "2022-04-14T15:35:44.804248Z",
     "iopub.status.busy": "2022-04-14T15:35:44.803510Z",
     "iopub.status.idle": "2022-04-14T15:35:44.805446Z",
     "shell.execute_reply": "2022-04-14T15:35:44.805863Z",
     "shell.execute_reply.started": "2022-04-14T09:39:01.327149Z"
    },
    "papermill": {
     "duration": 0.021034,
     "end_time": "2022-04-14T15:35:44.805983",
     "exception": false,
     "start_time": "2022-04-14T15:35:44.784949",
     "status": "completed"
    },
    "tags": []
   },
   "outputs": [],
   "source": [
    "species_list = [\"Black-grass\", \"Charlock\", \"Cleavers\", \"Common Chickweed\", \"Common wheat\", \"Fat Hen\",\n",
    "                 \"Loose Silky-bent\", \"Maize\", \"Scentless Mayweed\", \"Shepherds Purse\", \"Small-flowered Cranesbill\",\n",
    "                \"Sugar beet\"]"
   ]
  },
  {
   "cell_type": "code",
   "execution_count": 5,
   "id": "52891617",
   "metadata": {
    "execution": {
     "iopub.execute_input": "2022-04-14T15:35:44.838564Z",
     "iopub.status.busy": "2022-04-14T15:35:44.837804Z",
     "iopub.status.idle": "2022-04-14T15:35:44.840158Z",
     "shell.execute_reply": "2022-04-14T15:35:44.839691Z",
     "shell.execute_reply.started": "2022-04-14T09:39:01.340617Z"
    },
    "papermill": {
     "duration": 0.019927,
     "end_time": "2022-04-14T15:35:44.840256",
     "exception": false,
     "start_time": "2022-04-14T15:35:44.820329",
     "status": "completed"
    },
    "tags": []
   },
   "outputs": [],
   "source": [
    "width = 299\n",
    "height = 299"
   ]
  },
  {
   "cell_type": "code",
   "execution_count": 6,
   "id": "beb87573",
   "metadata": {
    "execution": {
     "iopub.execute_input": "2022-04-14T15:35:44.873463Z",
     "iopub.status.busy": "2022-04-14T15:35:44.872848Z",
     "iopub.status.idle": "2022-04-14T15:35:44.875443Z",
     "shell.execute_reply": "2022-04-14T15:35:44.875040Z",
     "shell.execute_reply.started": "2022-04-14T10:26:59.445349Z"
    },
    "papermill": {
     "duration": 0.020411,
     "end_time": "2022-04-14T15:35:44.875544",
     "exception": false,
     "start_time": "2022-04-14T15:35:44.855133",
     "status": "completed"
    },
    "tags": []
   },
   "outputs": [],
   "source": [
    "# Path to test images\n",
    "test_dir = '../input/plant-seedlings-classification/'\n",
    "test_dir_seg = '../input/plant-seedling-segmented/plant-seedling-segmented/'\n",
    "\n",
    "# Path to saved models\n",
    "model_dir = '../input/plant-seedling-models/'"
   ]
  },
  {
   "cell_type": "code",
   "execution_count": 7,
   "id": "9633b635",
   "metadata": {
    "execution": {
     "iopub.execute_input": "2022-04-14T15:35:44.908365Z",
     "iopub.status.busy": "2022-04-14T15:35:44.907595Z",
     "iopub.status.idle": "2022-04-14T15:35:44.909906Z",
     "shell.execute_reply": "2022-04-14T15:35:44.909456Z",
     "shell.execute_reply.started": "2022-04-14T10:27:22.233153Z"
    },
    "papermill": {
     "duration": 0.020102,
     "end_time": "2022-04-14T15:35:44.910010",
     "exception": false,
     "start_time": "2022-04-14T15:35:44.889908",
     "status": "completed"
    },
    "tags": []
   },
   "outputs": [],
   "source": [
    "def create_datagen(preprocess_fn):\n",
    "    return ImageDataGenerator(preprocessing_function=preprocess_fn,\n",
    "                             )"
   ]
  },
  {
   "cell_type": "code",
   "execution_count": 8,
   "id": "f649c408",
   "metadata": {
    "execution": {
     "iopub.execute_input": "2022-04-14T15:35:44.943893Z",
     "iopub.status.busy": "2022-04-14T15:35:44.943135Z",
     "iopub.status.idle": "2022-04-14T15:35:44.945040Z",
     "shell.execute_reply": "2022-04-14T15:35:44.945445Z",
     "shell.execute_reply.started": "2022-04-14T10:27:38.509601Z"
    },
    "papermill": {
     "duration": 0.021069,
     "end_time": "2022-04-14T15:35:44.945559",
     "exception": false,
     "start_time": "2022-04-14T15:35:44.924490",
     "status": "completed"
    },
    "tags": []
   },
   "outputs": [],
   "source": [
    "def create_dataloader(datagen, test_dir_main, test):\n",
    "    dataloader = datagen.flow_from_directory(\n",
    "    directory=test_dir_main,\n",
    "    classes=[test],\n",
    "    target_size=(width, height),\n",
    "    batch_size=1,\n",
    "    color_mode='rgb',\n",
    "    shuffle=False,\n",
    "    class_mode='categorical')\n",
    "    return dataloader\n"
   ]
  },
  {
   "cell_type": "code",
   "execution_count": 9,
   "id": "8a4f4725",
   "metadata": {
    "execution": {
     "iopub.execute_input": "2022-04-14T15:35:44.983187Z",
     "iopub.status.busy": "2022-04-14T15:35:44.982452Z",
     "iopub.status.idle": "2022-04-14T15:35:44.984901Z",
     "shell.execute_reply": "2022-04-14T15:35:44.984469Z",
     "shell.execute_reply.started": "2022-04-14T09:39:02.97846Z"
    },
    "papermill": {
     "duration": 0.02509,
     "end_time": "2022-04-14T15:35:44.985008",
     "exception": false,
     "start_time": "2022-04-14T15:35:44.959918",
     "status": "completed"
    },
    "tags": []
   },
   "outputs": [],
   "source": [
    "def create_xception():\n",
    "    model_main = Xception(weights='imagenet', input_shape=(width, height, 3), include_top=False)\n",
    "    layer = model_main.output\n",
    "    layer = GlobalAveragePooling2D(name=\"avg_pool\")(layer)\n",
    "    layer = BatchNormalization()(layer)\n",
    "    \n",
    "    layer = Dropout(0.2, name=\"top_dropout\")(layer)\n",
    "\n",
    "    dropout_1 = tf.keras.layers.Dropout(0.2)(layer)\n",
    "    model_dense2 = tf.keras.layers.Dense(256, activation = 'selu', activity_regularizer=tf.keras.regularizers.l2(1e-5))(dropout_1)\n",
    "    dropout_2 = tf.keras.layers.Dropout(0.2)(model_dense2)\n",
    "    model_dense3 = tf.keras.layers.Dense(128, activation='selu')(dropout_2)\n",
    "    model_out = tf.keras.layers.Dense(12, activation=\"softmax\")(model_dense3)\n",
    "\n",
    "    model = tf.keras.models.Model(model_main.input,  model_out)\n",
    "    optimizer = tf.keras.optimizers.Adam(learning_rate=0.0001, beta_1=0.9, beta_2=0.999)\n",
    "    model.compile(loss=\"categorical_crossentropy\", optimizer=optimizer, metrics=[\"accuracy\"])\n",
    "    return model"
   ]
  },
  {
   "cell_type": "code",
   "execution_count": 10,
   "id": "ff02ef39",
   "metadata": {
    "execution": {
     "iopub.execute_input": "2022-04-14T15:35:45.022049Z",
     "iopub.status.busy": "2022-04-14T15:35:45.021404Z",
     "iopub.status.idle": "2022-04-14T15:35:45.024096Z",
     "shell.execute_reply": "2022-04-14T15:35:45.023616Z",
     "shell.execute_reply.started": "2022-04-14T09:39:04.920556Z"
    },
    "papermill": {
     "duration": 0.024797,
     "end_time": "2022-04-14T15:35:45.024201",
     "exception": false,
     "start_time": "2022-04-14T15:35:44.999404",
     "status": "completed"
    },
    "tags": []
   },
   "outputs": [],
   "source": [
    "def create_inception_resnet_v2():\n",
    "    model_input = tf.keras.layers.Input(shape=(width, height, 3), name='image_input')\n",
    "    model_main = tf.keras.applications.inception_resnet_v2.InceptionResNetV2(input_shape=(width, height, 3), include_top=False, weights='imagenet')(model_input)\n",
    "            \n",
    "    model_dense1 = GlobalAveragePooling2D(name=\"avg_pool\")(model_main)\n",
    "    model_dense1 = BatchNormalization()(model_dense1)\n",
    "\n",
    "    model_dense2 = tf.keras.layers.Dense(256, activation =  tfa.activations.mish, activity_regularizer=tf.keras.regularizers.l2(1e-5))(model_dense1)\n",
    "    model_dense2 = BatchNormalization()(model_dense2)\n",
    "    dropout_2 = tf.keras.layers.Dropout(0.25)(model_dense2)\n",
    "    model_out = tf.keras.layers.Dense(12, activation=\"softmax\")(dropout_2)\n",
    "\n",
    "    model = tf.keras.models.Model(model_input,  model_out)\n",
    "    optimizer = tf.keras.optimizers.Adam(learning_rate=0.00005, beta_1=0.9, beta_2=0.999)\n",
    "    model.compile(loss=\"categorical_crossentropy\", optimizer=optimizer, metrics=[\"accuracy\"])\n",
    "    return model"
   ]
  },
  {
   "cell_type": "code",
   "execution_count": 11,
   "id": "be1055ec",
   "metadata": {
    "execution": {
     "iopub.execute_input": "2022-04-14T15:35:45.060954Z",
     "iopub.status.busy": "2022-04-14T15:35:45.060227Z",
     "iopub.status.idle": "2022-04-14T15:35:45.062540Z",
     "shell.execute_reply": "2022-04-14T15:35:45.062138Z",
     "shell.execute_reply.started": "2022-04-14T09:39:10.221728Z"
    },
    "papermill": {
     "duration": 0.024093,
     "end_time": "2022-04-14T15:35:45.062633",
     "exception": false,
     "start_time": "2022-04-14T15:35:45.038540",
     "status": "completed"
    },
    "tags": []
   },
   "outputs": [],
   "source": [
    "def create_efficientnet():\n",
    "    #model_input = tf.keras.layers.Input(shape=(width, height, 3), name='image_input')\n",
    "    model_main = tf.keras.applications.efficientnet.EfficientNetB3(input_shape=(width, height, 3), include_top=False, weights='imagenet')\n",
    "    #model_dense1 = tf.keras.layers.Flatten()(model_main.output)\n",
    "    \n",
    "    layer = model_main.output\n",
    "    layer = GlobalAveragePooling2D(name=\"avg_pool\")(layer)\n",
    "    layer = BatchNormalization()(layer)\n",
    "    \n",
    "    layer = Dropout(0.2, name=\"top_dropout\")(layer)\n",
    "    \n",
    "    #model_dense1 = tf.keras.layers.Flatten()(layer)\n",
    "\n",
    "    model_dense2 = tf.keras.layers.Dense(256, activation = 'relu', activity_regularizer=tf.keras.regularizers.l2(1e-5))(layer)\n",
    "    dropout_2 = tf.keras.layers.Dropout(0.25)(model_dense2)\n",
    "    model_out = tf.keras.layers.Dense(12, activation=\"softmax\")(dropout_2)\n",
    "\n",
    "    model = tf.keras.models.Model(model_main.input,  model_out)\n",
    "    optimizer = tf.keras.optimizers.Adam(learning_rate=0.0001, beta_1=0.9, beta_2=0.999)\n",
    "    model.compile(loss=\"categorical_crossentropy\", optimizer=optimizer, metrics=[\"accuracy\"])\n",
    "    return model"
   ]
  },
  {
   "cell_type": "code",
   "execution_count": 12,
   "id": "49844610",
   "metadata": {
    "execution": {
     "iopub.execute_input": "2022-04-14T15:35:45.096760Z",
     "iopub.status.busy": "2022-04-14T15:35:45.095970Z",
     "iopub.status.idle": "2022-04-14T15:36:38.272044Z",
     "shell.execute_reply": "2022-04-14T15:36:38.271525Z",
     "shell.execute_reply.started": "2022-04-14T09:59:24.423953Z"
    },
    "papermill": {
     "duration": 53.194837,
     "end_time": "2022-04-14T15:36:38.272189",
     "exception": false,
     "start_time": "2022-04-14T15:35:45.077352",
     "status": "completed"
    },
    "tags": []
   },
   "outputs": [
    {
     "name": "stdout",
     "output_type": "stream",
     "text": [
      "Found 794 images belonging to 1 classes.\n"
     ]
    },
    {
     "name": "stderr",
     "output_type": "stream",
     "text": [
      "2022-04-14 15:35:45.402830: I tensorflow/stream_executor/cuda/cuda_gpu_executor.cc:937] successful NUMA node read from SysFS had negative value (-1), but there must be at least one NUMA node, so returning NUMA node zero\n",
      "2022-04-14 15:35:45.490325: I tensorflow/stream_executor/cuda/cuda_gpu_executor.cc:937] successful NUMA node read from SysFS had negative value (-1), but there must be at least one NUMA node, so returning NUMA node zero\n",
      "2022-04-14 15:35:45.491083: I tensorflow/stream_executor/cuda/cuda_gpu_executor.cc:937] successful NUMA node read from SysFS had negative value (-1), but there must be at least one NUMA node, so returning NUMA node zero\n",
      "2022-04-14 15:35:45.493823: I tensorflow/core/platform/cpu_feature_guard.cc:142] This TensorFlow binary is optimized with oneAPI Deep Neural Network Library (oneDNN) to use the following CPU instructions in performance-critical operations:  AVX2 AVX512F FMA\n",
      "To enable them in other operations, rebuild TensorFlow with the appropriate compiler flags.\n",
      "2022-04-14 15:35:45.495012: I tensorflow/stream_executor/cuda/cuda_gpu_executor.cc:937] successful NUMA node read from SysFS had negative value (-1), but there must be at least one NUMA node, so returning NUMA node zero\n",
      "2022-04-14 15:35:45.496267: I tensorflow/stream_executor/cuda/cuda_gpu_executor.cc:937] successful NUMA node read from SysFS had negative value (-1), but there must be at least one NUMA node, so returning NUMA node zero\n",
      "2022-04-14 15:35:45.497152: I tensorflow/stream_executor/cuda/cuda_gpu_executor.cc:937] successful NUMA node read from SysFS had negative value (-1), but there must be at least one NUMA node, so returning NUMA node zero\n",
      "2022-04-14 15:35:47.333662: I tensorflow/stream_executor/cuda/cuda_gpu_executor.cc:937] successful NUMA node read from SysFS had negative value (-1), but there must be at least one NUMA node, so returning NUMA node zero\n",
      "2022-04-14 15:35:47.334578: I tensorflow/stream_executor/cuda/cuda_gpu_executor.cc:937] successful NUMA node read from SysFS had negative value (-1), but there must be at least one NUMA node, so returning NUMA node zero\n",
      "2022-04-14 15:35:47.335278: I tensorflow/stream_executor/cuda/cuda_gpu_executor.cc:937] successful NUMA node read from SysFS had negative value (-1), but there must be at least one NUMA node, so returning NUMA node zero\n",
      "2022-04-14 15:35:47.335936: I tensorflow/core/common_runtime/gpu/gpu_device.cc:1510] Created device /job:localhost/replica:0/task:0/device:GPU:0 with 15403 MB memory:  -> device: 0, name: Tesla P100-PCIE-16GB, pci bus id: 0000:00:04.0, compute capability: 6.0\n"
     ]
    },
    {
     "name": "stdout",
     "output_type": "stream",
     "text": [
      "Downloading data from https://storage.googleapis.com/tensorflow/keras-applications/inception_resnet_v2/inception_resnet_v2_weights_tf_dim_ordering_tf_kernels_notop.h5\n",
      "219062272/219055592 [==============================] - 3s 0us/step\n",
      "219070464/219055592 [==============================] - 3s 0us/step\n"
     ]
    },
    {
     "name": "stderr",
     "output_type": "stream",
     "text": [
      "2022-04-14 15:36:00.955407: I tensorflow/compiler/mlir/mlir_graph_optimization_pass.cc:185] None of the MLIR Optimization Passes are enabled (registered 2)\n",
      "2022-04-14 15:36:04.808316: I tensorflow/stream_executor/cuda/cuda_dnn.cc:369] Loaded cuDNN version 8005\n"
     ]
    }
   ],
   "source": [
    "datagen = create_datagen(inception_resnet_v2_preprocess)\n",
    "dataloader = create_dataloader(datagen, test_dir, 'test')\n",
    "inception_resnet_v2 = create_inception_resnet_v2()\n",
    "inception_resnet_v2.load_weights(f'{model_dir}inception_resnet_v2.h5')\n",
    "\n",
    "inception_pred = inception_resnet_v2.predict(dataloader, steps=dataloader.samples)"
   ]
  },
  {
   "cell_type": "code",
   "execution_count": 13,
   "id": "ed92394d",
   "metadata": {
    "execution": {
     "iopub.execute_input": "2022-04-14T15:36:38.350200Z",
     "iopub.status.busy": "2022-04-14T15:36:38.349578Z",
     "iopub.status.idle": "2022-04-14T15:36:50.696721Z",
     "shell.execute_reply": "2022-04-14T15:36:50.697172Z",
     "shell.execute_reply.started": "2022-04-14T10:27:41.920516Z"
    },
    "papermill": {
     "duration": 12.387564,
     "end_time": "2022-04-14T15:36:50.697345",
     "exception": false,
     "start_time": "2022-04-14T15:36:38.309781",
     "status": "completed"
    },
    "tags": []
   },
   "outputs": [
    {
     "name": "stdout",
     "output_type": "stream",
     "text": [
      "Found 794 images belonging to 1 classes.\n",
      "Downloading data from https://storage.googleapis.com/tensorflow/keras-applications/xception/xception_weights_tf_dim_ordering_tf_kernels_notop.h5\n",
      "83689472/83683744 [==============================] - 1s 0us/step\n",
      "83697664/83683744 [==============================] - 1s 0us/step\n"
     ]
    }
   ],
   "source": [
    "datagen = create_datagen(xception_preprocess)\n",
    "dataloader = create_dataloader(datagen, test_dir_seg, 'seg_test')\n",
    "xception = create_xception()\n",
    "xception.load_weights(f'{model_dir}xception.h5')\n",
    "\n",
    "xception_pred = xception.predict(dataloader, steps=dataloader.samples)"
   ]
  },
  {
   "cell_type": "code",
   "execution_count": 14,
   "id": "47787667",
   "metadata": {
    "execution": {
     "iopub.execute_input": "2022-04-14T15:36:50.786205Z",
     "iopub.status.busy": "2022-04-14T15:36:50.785400Z",
     "iopub.status.idle": "2022-04-14T15:37:12.695978Z",
     "shell.execute_reply": "2022-04-14T15:37:12.695082Z"
    },
    "papermill": {
     "duration": 21.957322,
     "end_time": "2022-04-14T15:37:12.696119",
     "exception": false,
     "start_time": "2022-04-14T15:36:50.738797",
     "status": "completed"
    },
    "tags": []
   },
   "outputs": [
    {
     "name": "stdout",
     "output_type": "stream",
     "text": [
      "Found 794 images belonging to 1 classes.\n",
      "Downloading data from https://storage.googleapis.com/keras-applications/efficientnetb3_notop.h5\n",
      "43941888/43941136 [==============================] - 1s 0us/step\n",
      "43950080/43941136 [==============================] - 1s 0us/step\n"
     ]
    }
   ],
   "source": [
    "datagen = create_datagen(tf.keras.applications.efficientnet.preprocess_input)\n",
    "dataloader = create_dataloader(datagen, test_dir, 'test')\n",
    "efficientnet = create_efficientnet()\n",
    "efficientnet.load_weights(f'{model_dir}efficientnetB3.h5')\n",
    "\n",
    "efficientnet_pred = efficientnet.predict(dataloader, steps=dataloader.samples)"
   ]
  },
  {
   "cell_type": "code",
   "execution_count": 15,
   "id": "467a5297",
   "metadata": {
    "execution": {
     "iopub.execute_input": "2022-04-14T15:37:12.802026Z",
     "iopub.status.busy": "2022-04-14T15:37:12.801260Z",
     "iopub.status.idle": "2022-04-14T15:37:12.919398Z",
     "shell.execute_reply": "2022-04-14T15:37:12.919891Z",
     "shell.execute_reply.started": "2022-04-14T10:36:42.766251Z"
    },
    "papermill": {
     "duration": 0.177937,
     "end_time": "2022-04-14T15:37:12.920061",
     "exception": false,
     "start_time": "2022-04-14T15:37:12.742124",
     "status": "completed"
    },
    "tags": []
   },
   "outputs": [
    {
     "name": "stdout",
     "output_type": "stream",
     "text": [
      "Submission file generated. All done.\n"
     ]
    }
   ],
   "source": [
    "combos = [(1, 0, 0), (0, 1, 0), (0, 0, 1), (0.5, 0.5, 0), (0.5, 0, 0.5), (0, 0.5, 0.5), (1/3, 1/3, 1/3), (0.25, 0.5, 0.25), (0.1, 0.5, 0.4), (0.3, 0.5, 0.2), (0.3, 0.6, 0.1), (0.2, 0.6, 0.2), (0.2, 0.5, 0.3), (0.15, 0.5, 0.35), (0.1, 0.4, 0.5), (0.25, 0.4, 0.35), (0.05, 0.55, 0.4)]\n",
    "\n",
    "for combo in combos:\n",
    "    w1, w2, w3 = combo\n",
    "    inception_effnet_pred = w1 * efficientnet_pred + w2 * inception_pred + w3 * xception_pred\n",
    "\n",
    "    class_list = []\n",
    "\n",
    "    for i in range(0, inception_effnet_pred.shape[0]):\n",
    "        y_class = inception_effnet_pred[i, :].argmax(axis=-1)\n",
    "        class_list += [species_list[y_class]]\n",
    "\n",
    "    submission = pd.DataFrame()\n",
    "    submission['file'] = dataloader.filenames\n",
    "    submission['file'] = submission['file'].str.replace(r'test/', '')\n",
    "    submission['species'] = class_list\n",
    "\n",
    "    submission.to_csv(f'efficientnetb3_inceptionresnetv2_xception_{w1}_{w2}_{w3}_submission.csv', index=False)\n",
    "\n",
    "print('Submission file generated. All done.')"
   ]
  },
  {
   "cell_type": "code",
   "execution_count": 16,
   "id": "732d5f38",
   "metadata": {
    "execution": {
     "iopub.execute_input": "2022-04-14T15:37:13.016422Z",
     "iopub.status.busy": "2022-04-14T15:37:13.015842Z",
     "iopub.status.idle": "2022-04-14T15:37:13.018335Z",
     "shell.execute_reply": "2022-04-14T15:37:13.018752Z",
     "shell.execute_reply.started": "2022-04-14T10:41:53.98805Z"
    },
    "papermill": {
     "duration": 0.053862,
     "end_time": "2022-04-14T15:37:13.018894",
     "exception": false,
     "start_time": "2022-04-14T15:37:12.965032",
     "status": "completed"
    },
    "tags": []
   },
   "outputs": [],
   "source": [
    "np.save('inception_resnet_pred', inception_pred)\n",
    "np.save('efficientnetb3_pred', efficientnet_pred)\n",
    "np.save('xception_pred', xception_pred)"
   ]
  },
  {
   "cell_type": "code",
   "execution_count": null,
   "id": "73fcc345",
   "metadata": {
    "papermill": {
     "duration": 0.04506,
     "end_time": "2022-04-14T15:37:13.109499",
     "exception": false,
     "start_time": "2022-04-14T15:37:13.064439",
     "status": "completed"
    },
    "tags": []
   },
   "outputs": [],
   "source": []
  }
 ],
 "metadata": {
  "kernelspec": {
   "display_name": "Python 3",
   "language": "python",
   "name": "python3"
  },
  "language_info": {
   "codemirror_mode": {
    "name": "ipython",
    "version": 3
   },
   "file_extension": ".py",
   "mimetype": "text/x-python",
   "name": "python",
   "nbconvert_exporter": "python",
   "pygments_lexer": "ipython3",
   "version": "3.7.12"
  },
  "papermill": {
   "default_parameters": {},
   "duration": 106.372891,
   "end_time": "2022-04-14T15:37:16.799118",
   "environment_variables": {},
   "exception": null,
   "input_path": "__notebook__.ipynb",
   "output_path": "__notebook__.ipynb",
   "parameters": {},
   "start_time": "2022-04-14T15:35:30.426227",
   "version": "2.3.3"
  }
 },
 "nbformat": 4,
 "nbformat_minor": 5
}
